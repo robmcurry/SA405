{
 "cells": [
  {
   "cell_type": "markdown",
   "metadata": {},
   "source": [
    "# SA405 Lesson 8  -- Complete (including HW)\n",
    "\n",
    "### Today...\n",
    "\n",
    "- (I) Read and write to Excel using the Python library xlwings\n",
    "- (II) Test for multiple optimal solutions to an LP/IP\n",
    "- (III) Homework is at the end!"
   ]
  },
  {
   "cell_type": "markdown",
   "metadata": {},
   "source": [
    "## (I) Read and write to Excel using xlwings"
   ]
  },
  {
   "cell_type": "markdown",
   "metadata": {},
   "source": [
    "#### (A) See if you can import xlwings by running the cell below.  \n",
    "1. If not, you need to install xlwings:\n",
    "   -  in an anaconda prompt, type `conda install -c conda-forge xlwings`\n",
    "2. If so, it's not a bad idea to update the installation of xlwings\n",
    "   -  in an anaconda prompt, type `conda update -c conda-forge xlwings`"
   ]
  },
  {
   "cell_type": "code",
   "execution_count": 1,
   "metadata": {},
   "outputs": [],
   "source": [
    "import pyomo.environ as pyo\n",
    "import xlwings as xw"
   ]
  },
  {
   "cell_type": "markdown",
   "metadata": {},
   "source": [
    "- Here is a [quickstart guide to xlwings](https://docs.xlwings.org/en/stable/quickstart.html)"
   ]
  },
  {
   "cell_type": "markdown",
   "metadata": {},
   "source": [
    "### Python function to build model\n",
    "\n",
    "#### (B) Check out the code and make note of any questions."
   ]
  },
  {
   "cell_type": "code",
   "execution_count": null,
   "metadata": {},
   "outputs": [],
   "source": [
    "def sudoku_model(puzzle_values):\n",
    "    \"\"\"\n",
    "    Build an IP to solve a 9x9 Sudoku puzzle\n",
    "    \n",
    "    Keyword arguments:\n",
    "    puzzle_values -- prefilled puzzle values as a list of 3-tuples (row,col,num)\n",
    "    \n",
    "    Return:\n",
    "    Pyomo model\n",
    "    \"\"\"\n",
    "    # Sets\n",
    "    NUMS = [1,2,3,4,5,6,7,8,9]\n",
    "    BOX = [1,2,3]\n",
    "    BOX_0 = [0,1,2]\n",
    "    \n",
    "    model = pyo.ConcreteModel()\n",
    "\n",
    "    #Decision variables\n",
    "    model.x = pyo.Var(NUMS,NUMS,NUMS,domain=pyo.Binary)\n",
    "\n",
    "    #Objective function\n",
    "    def obj_rule(model):\n",
    "        return sum(model.x[row,col,num] for row in NUMS for col in NUMS for num in NUMS)\n",
    "    model.obj = pyo.Objective(rule=obj_rule,sense=pyo.minimize)\n",
    "\n",
    "    #No duplicates in any row\n",
    "    def row_rule(model,row,num):\n",
    "        return sum(model.x[row,col,num] for col in NUMS) == 1\n",
    "    model.row_constraint = pyo.Constraint(NUMS,NUMS,rule=row_rule)\n",
    "\n",
    "    #No duplicates in any column\n",
    "    def col_rule(model,col,num):\n",
    "        return sum(model.x[row,col,num] for row in NUMS) == 1\n",
    "    model.col_constraint = pyo.Constraint(NUMS,NUMS,rule=col_rule)\n",
    "\n",
    "    #No duplicates in any major 3x3 box\n",
    "    def three_by_three_rule(model,box_row,box_col,num):\n",
    "        return sum(model.x[3*box_row + row_pos,3*box_col + col_pos,num] for row_pos in BOX for col_pos in BOX) == 1\n",
    "    model.three_by_three_constraint = pyo.Constraint(BOX_0,BOX_0,NUMS,rule=three_by_three_rule)\n",
    "\n",
    "    #Only one number per small box\n",
    "    def box_rule(model,row,col):\n",
    "        return sum(model.x[row,col,num] for num in NUMS) == 1\n",
    "    model.box_constraint = pyo.Constraint(NUMS,NUMS,rule=box_rule)\n",
    "\n",
    "    #Prefilled values\n",
    "    def prefilled_rule(model,row,col,num):\n",
    "        return model.x[row,col,num] == 1\n",
    "    model.prefilled_constraint = pyo.Constraint(puzzle_values,rule=prefilled_rule)\n",
    "    \n",
    "    return model"
   ]
  },
  {
   "cell_type": "markdown",
   "metadata": {},
   "source": [
    "### Read puzzle values from Excel and build PREFILLED list\n",
    "\n",
    "- We will build the following PREFILLED list by reading the values in from Excel"
   ]
  },
  {
   "cell_type": "code",
   "execution_count": null,
   "metadata": {},
   "outputs": [],
   "source": [
    "# PREFILLED = [(1,1,3),(1,6,5),(1,9,9),\n",
    "#              (2,2,9),(2,8,2),\n",
    "#              (3,3,4),(3,5,8),(3,8,7),\n",
    "#              (4,5,2),(4,6,7),(4,7,9),(4,8,1),\n",
    "#              (5,3,9),(5,5,1),(5,7,4),\n",
    "#              (6,2,1),(6,3,8),(6,4,5),(6,5,4),\n",
    "#              (7,2,4),(7,5,5),(7,7,8),\n",
    "#              (8,2,2),(8,8,9),\n",
    "#              (9,1,8),(9,4,6),(9,9,2)]"
   ]
  },
  {
   "cell_type": "markdown",
   "metadata": {},
   "source": [
    "#### (C) We will use `range()` to index over lists.  Run the cell below.\n",
    "1. How many values does `range(9)` have? \n",
    "   - *Answer: 9*\n",
    "2. What number does it start with?  \n",
    "   - *Answer: 0*\n",
    "\n",
    "(Recall that list indexing in Python begins at 0.)"
   ]
  },
  {
   "cell_type": "code",
   "execution_count": null,
   "metadata": {},
   "outputs": [],
   "source": [
    "list(range(9))"
   ]
  },
  {
   "cell_type": "markdown",
   "metadata": {},
   "source": [
    "#### (D) Open workbook, open worksheet, read data.\n",
    "1. Open the workbook called \"sudoku_puzzle.xlsx\" as `wb` (to make this easier, make sure the workbook is in the same directory as this notebook)\n",
    "2. Open the sheet in `wb` called \"Puzzle\"as `puzzle_sheet`\n",
    "3. Read the values in range \"A1:I9\" in `puzzle_sheet` into `values`\n",
    "4. Print `values` to see the format of what was read in from Excel"
   ]
  },
  {
   "cell_type": "code",
   "execution_count": 2,
   "metadata": {},
   "outputs": [
    {
     "name": "stdout",
     "output_type": "stream",
     "text": [
      "[[3.0, None, None, None, None, 5.0, None, None, 9.0], [None, 9.0, None, None, None, None, None, 2.0, None], [None, None, 4.0, None, 8.0, None, None, 7.0, None], [None, None, None, None, 2.0, 7.0, 9.0, 1.0, None], [None, None, 9.0, None, 1.0, None, 4.0, None, None], [None, 1.0, 8.0, 5.0, 4.0, None, None, None, None], [None, 4.0, None, None, 5.0, None, 8.0, None, None], [None, 2.0, None, None, None, None, None, 9.0, None], [8.0, None, None, 6.0, None, None, None, None, 2.0]]\n"
     ]
    }
   ],
   "source": [
    "wb = xw.Book('sudoku_puzzle.xlsx')     # open the workbook\n",
    "puzzle_sheet = wb.sheets['Puzzle']     # open the sheet with the puzzle\n",
    "values = puzzle_sheet.range('A1:I9').value  # read in the puzzle\n",
    "\n",
    "print(values)"
   ]
  },
  {
   "cell_type": "markdown",
   "metadata": {},
   "source": [
    "- See all those `None`s?  We need to bypass those and record an entry in PREFILLED for every numeric value in `values`.\n",
    "\n",
    "#### (E) Make PREFILLED list: Index over the positions in `values` using a double for loop.  Within the loop:\n",
    "1. Save the value at the current position as `num`\n",
    "2. If `num` is a float: `if type(num)==float`,\n",
    "3. append the appropriate (row,col,num) tuple to the list `PREFILLED` \n",
    "(Remember that we are indexing starting at 1 in our code)\n",
    "4. Instead of using `num` directly, cast `num` as an integer: `int(num)`\n",
    "\n",
    "- Print `PREFILLED`.  It should be the same list of tuples as above:  `[(1,1,3),(1,6,5),(1,9,9),...`"
   ]
  },
  {
   "cell_type": "code",
   "execution_count": null,
   "metadata": {},
   "outputs": [],
   "source": [
    "# Build the list of prefilled values using a double for loop\n",
    "PREFILLED = []\n",
    "for m in range(9):\n",
    "    for n in range(9):\n",
    "        num = values[m][n]                        # list m, value n in \"values\"\n",
    "        if type(num) == float:                    # check for float\n",
    "            PREFILLED.append((m+1,n+1,int(num)))  # append tuple (cast num as an integer)\n",
    "                                                  # (We must use m+1 and n+1 since we \n",
    "                                                  #  indexed the puzzle starting at row 1, col 1)\n",
    "print(f'Using double for loop: {PREFILLED}')\n",
    "\n",
    "# OR #\n",
    "\n",
    "# we can put the same logic in a list comprehension (a more Python-y solution)\n",
    "PREFILLED = []    \n",
    "PREFILLED = [(m+1,n+1,int(values[m][n]))            # tuple to append\n",
    "              for m in range(9) for n in range(9)   # double loop       \n",
    "              if type(values[m][n])==float]         # check for float\n",
    "\n",
    "print(f'Using list comprehension: {PREFILLED}')"
   ]
  },
  {
   "cell_type": "markdown",
   "metadata": {},
   "source": [
    "### Run the solver"
   ]
  },
  {
   "cell_type": "code",
   "execution_count": null,
   "metadata": {},
   "outputs": [],
   "source": [
    "# Call function to build model, sending PREFILLED as argument\n",
    "model = sudoku_model(puzzle_values=PREFILLED)\n",
    "\n",
    "# Solve the model\n",
    "solver_result = pyo.SolverFactory('glpk').solve(model)"
   ]
  },
  {
   "cell_type": "markdown",
   "metadata": {},
   "source": [
    "### Print solution here in the Jupyter notebook"
   ]
  },
  {
   "cell_type": "markdown",
   "metadata": {},
   "source": [
    "- This function prints the solution here in the notebook"
   ]
  },
  {
   "cell_type": "code",
   "execution_count": null,
   "metadata": {},
   "outputs": [],
   "source": [
    "def print_sol_here(model):\n",
    "    # Check if the model solved to optimality before printing solution\n",
    "    solve_status = solver_result.solver.termination_condition\n",
    "    if (solve_status==pyo.TerminationCondition.optimal):\n",
    "        for row in NUMS:\n",
    "            for col in NUMS:\n",
    "                for num in NUMS:\n",
    "                    if model.x[row,col,num] == 1:\n",
    "                        print(f'({row},{col}) = {num}')\n",
    "    else:\n",
    "        print(f'The solver status is {solve_status}')"
   ]
  },
  {
   "cell_type": "code",
   "execution_count": null,
   "metadata": {},
   "outputs": [],
   "source": [
    "print_sol_here(model)"
   ]
  },
  {
   "cell_type": "markdown",
   "metadata": {},
   "source": [
    "### Print solution to Excel"
   ]
  },
  {
   "cell_type": "markdown",
   "metadata": {},
   "source": [
    "- We want to print the solution to a sheet in the Excel workbook `wb`\n",
    "- First we need to put the solution into a 9x9 grid like `values` above: a list of 9 lists (rows), each with 9 values.\n",
    "\n",
    "#### (F) Loop over the rows, columns, and numbers to put solution into 9x9 grid.  \n",
    "-  If the $x$ value is 1, put the number into `solution[row-1][col-1]`"
   ]
  },
  {
   "cell_type": "code",
   "execution_count": null,
   "metadata": {},
   "outputs": [],
   "source": [
    "# Build a 9x9 grid called \"solution\" to hold the solution\n",
    "solution = [list(range(9)) for i in range(9)]\n",
    "#print(f'Before:{solution}')    \n",
    "\n",
    "# Use this list for indexing the for loops\n",
    "NUMS = [1,2,3,4,5,6,7,8,9]\n",
    "\n",
    "\n",
    "# Set the values to the solution found by the solver\n",
    "for row in NUMS:\n",
    "    for col in NUMS:\n",
    "        for num in NUMS:\n",
    "            if model.x[row,col,num]==1:\n",
    "                solution[row-1][col-1]=num   # indexing in \"solution\" starts at 0\n",
    "\n",
    "print(f'After:{solution}')    "
   ]
  },
  {
   "cell_type": "code",
   "execution_count": null,
   "metadata": {},
   "outputs": [],
   "source": [
    "# Now print the solution in the Excel spreadsheet into a new sheet called \"Solution1\"\n",
    "try:\n",
    "    sol1_sheet = wb.sheets.add('Solution1')   # try to add sheet called \"Solution1\"\n",
    "except:\n",
    "    sol1_sheet = wb.sheets('Solution1')       # otherwise the sheet already exists\n",
    "sol1_sheet.range('A1').value = solution       # Write solution to sheet starting in cell A1"
   ]
  },
  {
   "cell_type": "code",
   "execution_count": null,
   "metadata": {},
   "outputs": [],
   "source": [
    "# If you want to clear the values and/or delete the sheet\n",
    "sol1_sheet.clear()\n",
    "sol1_sheet.delete()"
   ]
  },
  {
   "cell_type": "markdown",
   "metadata": {},
   "source": [
    "#### (G) Put code to print to Excel into a Python function.  (Check solver status before printing.) Function parameters:\n",
    "-  model -- to access the solution\n",
    "-  wb -- workbook to write solution in\n",
    "-  sheet_name -- (string) name for the added sheet"
   ]
  },
  {
   "cell_type": "code",
   "execution_count": null,
   "metadata": {},
   "outputs": [],
   "source": [
    "def print_sol_excel(model, wb, sheet_name):\n",
    "    \"\"\"\n",
    "    Print sudoku solution to Excel in a sheet called \"sheet_name\" (add the sheet if it doesn't already exist)\n",
    "    \n",
    "    Keyword Arguments:\n",
    "    model -- Pyomo Sudoku model that has already been solved\n",
    "    wb -- xlwings Workbook\n",
    "    sheet_name -- (string) name of the sheet where the solution is to be printed\n",
    "    \n",
    "    Return:\n",
    "    nothing\n",
    "    \"\"\"\n",
    "    # Check if the model solved to optimality before printing solution\n",
    "    solve_status = solver_result.solver.termination_condition\n",
    "    if (solve_status==pyo.TerminationCondition.optimal):\n",
    "        # Build a 9x9 grid called \"solution\" to hold the solution\n",
    "        solution = [list(range(9)) for i in range(9)]   \n",
    "\n",
    "        # for indexing\n",
    "        NUMS = [1,2,3,4,5,6,7,8,9]\n",
    "\n",
    "        # Set the values in \"solution\" those found by the solver\n",
    "        for row in NUMS:\n",
    "            for col in NUMS:\n",
    "                for num in NUMS:\n",
    "                    if model.x[row,col,num]==1:\n",
    "                        solution[row-1][col-1]=num   # indexing in \"solution\" starts at 0\n",
    "\n",
    "        # Print to Excel\n",
    "        try:\n",
    "            sol_sheet = wb.sheets.add(sheet_name)   # try to add sheet called sheet_name\n",
    "        except:                                     # if we can't add it, a sheet with this name\n",
    "            sol_sheet = wb.sheets[sheet_name]       # already exists\n",
    "            sol_sheet.clear()                       # clear the sheet\n",
    "        sol_sheet.range('A1').value = solution      # write the solution'\n",
    "        print(f'The solution was printed to Excel')\n",
    "    else:\n",
    "        print(f'The solver status is {solve_status}')"
   ]
  },
  {
   "cell_type": "code",
   "execution_count": null,
   "metadata": {},
   "outputs": [],
   "source": [
    "print_sol_excel(model=model, wb=wb, sheet_name='Solution1')"
   ]
  },
  {
   "cell_type": "markdown",
   "metadata": {},
   "source": [
    "## (II) Test for another optimal solution"
   ]
  },
  {
   "cell_type": "markdown",
   "metadata": {},
   "source": [
    "Sometimes we will want to explore multiple optimal solutions to a model. One way to check for another solution is to: \n",
    "1. Add a constraint to the model that removes the current optimal solution from the feasible region\n",
    "   - The new constraint varies by problem.  It may take some creativity.\n",
    "2. Rerun the model with the new constraint and see what happens"
   ]
  },
  {
   "cell_type": "markdown",
   "metadata": {},
   "source": [
    "In this case, the following new constraint works:\n",
    "$$ \\sum_{i,j,k \\in N:x_{i,j,k}=1} x_{i,j,k} \\leq 80 $$\n",
    "- Notice that the 81 $x$-values that have the value $1$ in the current solution are summed on the left\n",
    "- This forces at least one of the $x$-values that was $1$ in the current solution to be $0$ in the new solution"
   ]
  },
  {
   "cell_type": "markdown",
   "metadata": {},
   "source": [
    "#### (H) Add the above constraint to the model."
   ]
  },
  {
   "cell_type": "code",
   "execution_count": null,
   "metadata": {},
   "outputs": [],
   "source": [
    "# Add the constraint defined above to the model\n",
    "def exclude_sol_rule(model):\n",
    "    return sum(model.x[row,col,num] \n",
    "               for row in NUMS for col in NUMS for num in NUMS \n",
    "               if model.x[row,col,num]==1) <= 80\n",
    "model.exclude_sol_const = pyo.Constraint(rule=exclude_sol_rule)"
   ]
  },
  {
   "cell_type": "code",
   "execution_count": null,
   "metadata": {},
   "outputs": [],
   "source": [
    "# Print the new constraint, just to see if it looks like we expect\n",
    "print(model.exclude_sol_const.expr)"
   ]
  },
  {
   "cell_type": "markdown",
   "metadata": {},
   "source": [
    "#### (I) Run the model again and print the solution to a sheet called 'Solution2'.\n",
    "1.  What does it mean if the model with the new constraint is infeasible?  \n",
    "   - *Answer: there was only one solution to the puzzle!*\n",
    "2.  Now remove a number from the puzzle in Excel (remember to save changes!) and run everything again from the top.  Is there another solution now?  \n",
    "   - *Answer: Yes, now there is enough flexibility for multiple solutions to the puzzle.*"
   ]
  },
  {
   "cell_type": "code",
   "execution_count": null,
   "metadata": {},
   "outputs": [],
   "source": [
    "# Solve the model again\n",
    "solver_result = pyo.SolverFactory('glpk').solve(model)\n",
    "\n",
    "# Try to print the solution\n",
    "print_sol_excel(model=model, wb=wb, sheet_name='Solution2')"
   ]
  },
  {
   "cell_type": "markdown",
   "metadata": {},
   "source": [
    "# Lesson 8 HOMEWORK"
   ]
  },
  {
   "cell_type": "markdown",
   "metadata": {},
   "source": [
    "### (HW1) Now add a second constraint to the model to exclude the second solution.  \n",
    "-  Hint:  You need to give it a different name!  Maybe \"exclude_sol2_const\"."
   ]
  },
  {
   "cell_type": "code",
   "execution_count": null,
   "metadata": {},
   "outputs": [],
   "source": [
    "# Add the constraint defined above to the model\n",
    "def exclude_sol2_rule(model):\n",
    "    return sum(model.x[row,col,num] \n",
    "               for row in NUMS for col in NUMS for num in NUMS \n",
    "               if model.x[row,col,num]==1) <= 80\n",
    "model.exclude_sol2_const = pyo.Constraint(rule=exclude_sol2_rule)"
   ]
  },
  {
   "cell_type": "markdown",
   "metadata": {},
   "source": [
    "### (HW2) Solve the model again to see if a third solution exists.  If so, print the third solution in a different sheet.\n",
    "-  Hint:  You can use the print function that's already written with a different sheet name."
   ]
  },
  {
   "cell_type": "code",
   "execution_count": null,
   "metadata": {},
   "outputs": [],
   "source": [
    "# Solve the model again\n",
    "solver_result = pyo.SolverFactory('glpk').solve(model)\n",
    "\n",
    "# Try to print the solution\n",
    "print_sol_excel(model=model, wb=wb, sheet_name='Solution3')"
   ]
  },
  {
   "cell_type": "markdown",
   "metadata": {},
   "source": [
    "### (HW3) Read in the first and second solutions from the sheets in the workbook and count how many numbers they differ by.  Write the answer to this question on another sheet called \"Difference\"  \n",
    "- Each solution will need its own variable name.  \n",
    "- Use nested for loops along with a \"counter\" variable initialized a 0 to count how many squares the solutions differ by. "
   ]
  },
  {
   "cell_type": "code",
   "execution_count": null,
   "metadata": {},
   "outputs": [],
   "source": [
    "sol1_sheet = wb.sheets['Solution1']\n",
    "sol2_sheet = wb.sheets['Solution2']\n",
    "sol1 = sol1_sheet.range('A1:I9').value\n",
    "sol2 = sol2_sheet.range('A1:I9').value\n",
    "\n",
    "counter=0\n",
    "for row in range(9):\n",
    "    for col in range(9):\n",
    "        if sol1[row][col]!=sol2[row][col]:\n",
    "            counter+=1             # or \"counter = counter + 1\"\n",
    "print(counter)"
   ]
  },
  {
   "cell_type": "code",
   "execution_count": null,
   "metadata": {},
   "outputs": [],
   "source": []
  }
 ],
 "metadata": {
  "kernelspec": {
   "display_name": "Python 3",
   "language": "python",
   "name": "python3"
  },
  "language_info": {
   "codemirror_mode": {
    "name": "ipython",
    "version": 3
   },
   "file_extension": ".py",
   "mimetype": "text/x-python",
   "name": "python",
   "nbconvert_exporter": "python",
   "pygments_lexer": "ipython3",
   "version": "3.7.6"
  },
  "varInspector": {
   "cols": {
    "lenName": 16,
    "lenType": 16,
    "lenVar": 40
   },
   "kernels_config": {
    "python": {
     "delete_cmd_postfix": "",
     "delete_cmd_prefix": "del ",
     "library": "var_list.py",
     "varRefreshCmd": "print(var_dic_list())"
    },
    "r": {
     "delete_cmd_postfix": ") ",
     "delete_cmd_prefix": "rm(",
     "library": "var_list.r",
     "varRefreshCmd": "cat(var_dic_list()) "
    }
   },
   "types_to_exclude": [
    "module",
    "function",
    "builtin_function_or_method",
    "instance",
    "_Feature"
   ],
   "window_display": false
  }
 },
 "nbformat": 4,
 "nbformat_minor": 4
}
