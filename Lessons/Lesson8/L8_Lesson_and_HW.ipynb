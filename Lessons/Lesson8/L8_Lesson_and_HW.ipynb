{
 "cells": [
  {
   "cell_type": "markdown",
   "metadata": {},
   "source": [
    "# SA405 Lesson 8\n",
    "\n",
    "### Today...\n",
    "\n",
    "- (I) Read and write to Excel using the Python library pandas, xlrd, xlwt, and XLsxWriter\n",
    "- (II) Test for multiple optimal solutions to an LP/IP\n",
    "- (III) Homework is at the end!"
   ]
  },
  {
   "cell_type": "markdown",
   "metadata": {},
   "source": [
    "## (I) Read and write to Excel using xlwings"
   ]
  },
  {
   "cell_type": "markdown",
   "metadata": {},
   "source": [
    "#### (A) See if you can import xlwings by running the cell below.  \n",
    "1. If not, you need to install pandas:\n",
    "   -  in an anaconda prompt, type `conda install -c conda-forge pandas`\n",
    "2. If so, it's not a bad idea to update the installation of xlwings\n",
    "   -  in an anaconda prompt, type `conda update -c conda-forge pandas`"
   ]
  },
  {
   "cell_type": "code",
   "execution_count": 4,
   "metadata": {},
   "outputs": [
    {
     "name": "stdout",
     "output_type": "stream",
     "text": [
      "Collecting package metadata (current_repodata.json): done\n",
      "Solving environment: done\n",
      "\n",
      "\n",
      "==> WARNING: A newer version of conda exists. <==\n",
      "  current version: 4.8.3\n",
      "  latest version: 4.10.3\n",
      "\n",
      "Please update conda by running\n",
      "\n",
      "    $ conda update -n base -c defaults conda\n",
      "\n",
      "\n",
      "\n",
      "## Package Plan ##\n",
      "\n",
      "  environment location: /opt/anaconda3\n",
      "\n",
      "  added / updated specs:\n",
      "    - xlrd\n",
      "\n",
      "\n",
      "The following packages will be downloaded:\n",
      "\n",
      "    package                    |            build\n",
      "    ---------------------------|-----------------\n",
      "    conda-4.10.3               |   py37hf985489_0         3.0 MB  conda-forge\n",
      "    python_abi-3.7             |          2_cp37m           4 KB  conda-forge\n",
      "    ------------------------------------------------------------\n",
      "                                           Total:         3.0 MB\n",
      "\n",
      "The following NEW packages will be INSTALLED:\n",
      "\n",
      "  python_abi         conda-forge/osx-64::python_abi-3.7-2_cp37m\n",
      "\n",
      "The following packages will be UPDATED:\n",
      "\n",
      "  conda                       pkgs/main::conda-4.8.3-py37_0 --> conda-forge::conda-4.10.3-py37hf985489_0\n",
      "\n",
      "\n",
      "\n",
      "Downloading and Extracting Packages\n",
      "python_abi-3.7       | 4 KB      | ##################################### | 100% \n",
      "conda-4.10.3         | 3.0 MB    | ##################################### | 100% \n",
      "Preparing transaction: done\n",
      "Verifying transaction: done\n",
      "Executing transaction: done\n",
      "\n",
      "Note: you may need to restart the kernel to use updated packages.\n"
     ]
    }
   ],
   "source": [
    "conda install -c conda-forge xlrd"
   ]
  },
  {
   "cell_type": "code",
   "execution_count": 5,
   "metadata": {},
   "outputs": [
    {
     "name": "stdout",
     "output_type": "stream",
     "text": [
      "Collecting package metadata (current_repodata.json): done\n",
      "Solving environment: done\n",
      "\n",
      "# All requested packages already installed.\n",
      "\n",
      "\n",
      "Note: you may need to restart the kernel to use updated packages.\n"
     ]
    }
   ],
   "source": [
    "conda install -c conda-forge xlwt"
   ]
  },
  {
   "cell_type": "code",
   "execution_count": 6,
   "metadata": {},
   "outputs": [
    {
     "name": "stdout",
     "output_type": "stream",
     "text": [
      "Collecting package metadata (current_repodata.json): done\n",
      "Solving environment: done\n",
      "\n",
      "# All requested packages already installed.\n",
      "\n",
      "\n",
      "Note: you may need to restart the kernel to use updated packages.\n"
     ]
    }
   ],
   "source": [
    "conda install -c conda-forge xlsxwriter"
   ]
  },
  {
   "cell_type": "code",
   "execution_count": 7,
   "metadata": {},
   "outputs": [],
   "source": [
    "import pyomo.environ as pyo\n",
    "import pandas as pd\n",
    "import numpy as np\n",
    "import matplotlib.pyplot as plt\n",
    "import xlrd\n",
    "import xlwt\n",
    "import xlsxwriter"
   ]
  },
  {
   "cell_type": "markdown",
   "metadata": {},
   "source": [
    "### Python function to build model\n",
    "\n",
    "#### (B) Check out the code and make note of any questions."
   ]
  },
  {
   "cell_type": "code",
   "execution_count": 8,
   "metadata": {},
   "outputs": [],
   "source": [
    "def sudoku_model(puzzle_values):\n",
    "    \"\"\"\n",
    "    Build an IP to solve a 9x9 Sudoku puzzle\n",
    "    \n",
    "    Keyword arguments:\n",
    "    puzzle_values -- prefilled puzzle values as a list of 3-tuples (row,col,num)\n",
    "    \n",
    "    Return:\n",
    "    Pyomo model\n",
    "    \"\"\"\n",
    "    # Sets\n",
    "    NUMS = [1,2,3,4,5,6,7,8,9]\n",
    "    BOX = [1,2,3]\n",
    "    BOX_0 = [0,1,2]\n",
    "    \n",
    "    model = pyo.ConcreteModel()\n",
    "\n",
    "    #Decision variables\n",
    "    model.x = pyo.Var(NUMS,NUMS,NUMS,domain=pyo.Binary)\n",
    "\n",
    "    #Objective function\n",
    "    def obj_rule(model):\n",
    "        return sum(model.x[row,col,num] for row in NUMS for col in NUMS for num in NUMS)\n",
    "    model.obj = pyo.Objective(rule=obj_rule,sense=pyo.minimize)\n",
    "\n",
    "    #No duplicates in any row\n",
    "    def row_rule(model,row,num):\n",
    "        return sum(model.x[row,col,num] for col in NUMS) == 1\n",
    "    model.row_constraint = pyo.Constraint(NUMS,NUMS,rule=row_rule)\n",
    "\n",
    "    #No duplicates in any column\n",
    "    def col_rule(model,col,num):\n",
    "        return sum(model.x[row,col,num] for row in NUMS) == 1\n",
    "    model.col_constraint = pyo.Constraint(NUMS,NUMS,rule=col_rule)\n",
    "\n",
    "    #No duplicates in any major 3x3 box\n",
    "    def three_by_three_rule(model,box_row,box_col,num):\n",
    "        return sum(model.x[3*box_row + row_pos,3*box_col + col_pos,num] for row_pos in BOX for col_pos in BOX) == 1\n",
    "    model.three_by_three_constraint = pyo.Constraint(BOX_0,BOX_0,NUMS,rule=three_by_three_rule)\n",
    "\n",
    "    #Only one number per small box\n",
    "    def box_rule(model,row,col):\n",
    "        return sum(model.x[row,col,num] for num in NUMS) == 1\n",
    "    model.box_constraint = pyo.Constraint(NUMS,NUMS,rule=box_rule)\n",
    "\n",
    "    #Prefilled values\n",
    "    def prefilled_rule(model,row,col,num):\n",
    "        return model.x[row,col,num] == 1\n",
    "    model.prefilled_constraint = pyo.Constraint(puzzle_values,rule=prefilled_rule)\n",
    "    \n",
    "    return model"
   ]
  },
  {
   "cell_type": "markdown",
   "metadata": {},
   "source": [
    "### Read puzzle values from Excel and build PREFILLED list\n",
    "\n",
    "- We will build the following PREFILLED list by reading the values in from Excel"
   ]
  },
  {
   "cell_type": "code",
   "execution_count": 9,
   "metadata": {},
   "outputs": [],
   "source": [
    "# PREFILLED = [(1,1,3),(1,6,5),(1,9,9),\n",
    "#              (2,2,9),(2,8,2),\n",
    "#              (3,3,4),(3,5,8),(3,8,7),\n",
    "#              (4,5,2),(4,6,7),(4,7,9),(4,8,1),\n",
    "#              (5,3,9),(5,5,1),(5,7,4),\n",
    "#              (6,2,1),(6,3,8),(6,4,5),(6,5,4),\n",
    "#              (7,2,4),(7,5,5),(7,7,8),\n",
    "#              (8,2,2),(8,8,9),\n",
    "#              (9,1,8),(9,4,6),(9,9,2)]"
   ]
  },
  {
   "cell_type": "markdown",
   "metadata": {},
   "source": [
    "#### (C) We will use `range()` to index over lists.  Run the cell below.\n",
    "1. How many values does `range(9)` have? \n",
    "   - *Answer: 9*\n",
    "2. What number does it start with?  \n",
    "   - *Answer: 0*\n",
    "\n",
    "(Recall that list indexing in Python begins at 0.)"
   ]
  },
  {
   "cell_type": "code",
   "execution_count": null,
   "metadata": {},
   "outputs": [],
   "source": [
    "list(range(9))"
   ]
  },
  {
   "cell_type": "markdown",
   "metadata": {},
   "source": [
    "#### (D) Open workbook, open worksheet, read data.\n",
    "1. Open the workbook called \"sudoku_puzzle.xlsx\" as `wb` (to make this easier, make sure the workbook is in the same directory as this notebook)\n",
    "2. Open the sheet in `wb` called \"Puzzle\"as `puzzle_sheet`\n",
    "3. Read the values in range \"A1:I9\" in `puzzle_sheet` into `values`\n",
    "4. Print `values` to see the format of what was read in from Excel"
   ]
  },
  {
   "cell_type": "code",
   "execution_count": 40,
   "metadata": {},
   "outputs": [
    {
     "name": "stdout",
     "output_type": "stream",
     "text": [
      "3.0\n"
     ]
    }
   ],
   "source": [
    "# open the workbook\n",
    "wb = pd.read_excel('sudoku_puzzle.xlsx')\n",
    "\n",
    "\n",
    "# open the sheet with the puzzle\n",
    "puzzle_sheet = pd.read_excel('sudoku_puzzle.xlsx', sheet_name= 'Puzzle')\n",
    "\n",
    "\n",
    "# read in the puzzle\n",
    "values = puzzle_sheet\n",
    "\n",
    "# print(values.iloc[0,0])\n",
    "print(values)"
   ]
  },
  {
   "cell_type": "markdown",
   "metadata": {},
   "source": [
    "- See all those `NaN`s?  We need to bypass those and record an entry in PREFILLED for every numeric value in `values`.\n",
    "\n",
    "#### (E) Make PREFILLED list: Index over the positions in `values` using a double for loop.  Within the loop:\n",
    "1. Save the value at the current position as `num`\n",
    "2. If `num` is a float: `if type(num)==float`,\n",
    "3. append the appropriate (row,col,num) tuple to the list `PREFILLED` \n",
    "(Remember that we are indexing starting at 1 in our code)\n",
    "4. Instead of using `num` directly, cast `num` as an integer: `int(num)`\n",
    "\n",
    "- Print `PREFILLED`.  It should be the same list of tuples as above:  `[(1,1,3),(1,6,5),(1,9,9),...`"
   ]
  },
  {
   "cell_type": "code",
   "execution_count": 64,
   "metadata": {},
   "outputs": [
    {
     "name": "stdout",
     "output_type": "stream",
     "text": [
      "Using double for loop: [(1, 1, 3), (1, 6, 5), (1, 9, 9), (2, 2, 9), (2, 8, 2), (3, 3, 4), (3, 5, 8), (3, 8, 7), (4, 5, 2), (4, 6, 7), (4, 7, 9), (4, 8, 1), (5, 3, 9), (5, 5, 1), (5, 7, 4), (6, 2, 1), (6, 3, 8), (6, 4, 5), (6, 5, 4), (7, 2, 4), (7, 5, 5), (7, 7, 8), (8, 2, 2), (8, 8, 9), (9, 1, 8), (9, 4, 6)]\n",
      "Using list comprehension: [(1, 1, 3), (1, 6, 5), (1, 9, 9), (2, 2, 9), (2, 8, 2), (3, 3, 4), (3, 5, 8), (3, 8, 7), (4, 5, 2), (4, 6, 7), (4, 7, 9), (4, 8, 1), (5, 3, 9), (5, 5, 1), (5, 7, 4), (6, 2, 1), (6, 3, 8), (6, 4, 5), (6, 5, 4), (7, 2, 4), (7, 5, 5), (7, 7, 8), (8, 2, 2), (8, 8, 9), (9, 1, 8), (9, 4, 6)]\n"
     ]
    }
   ],
   "source": [
    "# Build the list of prefilled values using a double for loop\n",
    "PREFILLED = []\n",
    "for m in range(9):\n",
    "    for n in range(9):\n",
    "        num = values.iloc[m,n]\n",
    "        if num > 0:\n",
    "            PREFILLED.append((m+1,n+1,int(num)))\n",
    "        \n",
    "        \n",
    "# print(num)\n",
    "print(f'Using double for loop: {PREFILLED}')\n",
    "\n",
    "# OR #\n",
    "\n",
    "# we can put the same logic in a list comprehension (a more Python-y solution)   \n",
    "# PREFILLED = # Here\n",
    "\n",
    "print(f'Using list comprehension: {PREFILLED}')"
   ]
  },
  {
   "cell_type": "markdown",
   "metadata": {},
   "source": [
    "### Run the solver"
   ]
  },
  {
   "cell_type": "code",
   "execution_count": 65,
   "metadata": {},
   "outputs": [],
   "source": [
    "# Call function to build model, sending PREFILLED as argument\n",
    "model = sudoku_model(puzzle_values=PREFILLED)\n",
    "\n",
    "# Solve the model\n",
    "solver_result = pyo.SolverFactory('glpk').solve(model)"
   ]
  },
  {
   "cell_type": "markdown",
   "metadata": {},
   "source": [
    "### Print solution here in the Jupyter notebook"
   ]
  },
  {
   "cell_type": "markdown",
   "metadata": {},
   "source": [
    "- This function prints the solution here in the notebook"
   ]
  },
  {
   "cell_type": "code",
   "execution_count": 66,
   "metadata": {},
   "outputs": [],
   "source": [
    "def print_sol_here(model):\n",
    "    # Check if the model solved to optimality before printing solution\n",
    "    solve_status = solver_result.solver.termination_condition\n",
    "    if (solve_status==pyo.TerminationCondition.optimal):\n",
    "        NUMS = [1,2,3,4,5,6,7,8,9]\n",
    "        for row in NUMS:\n",
    "            for col in NUMS:\n",
    "                for num in NUMS:\n",
    "                    if model.x[row,col,num] == 1:\n",
    "                        print(f'({row},{col}) = {num}')\n",
    "    else:\n",
    "        print(f'The solver status is {solve_status}')"
   ]
  },
  {
   "cell_type": "code",
   "execution_count": 67,
   "metadata": {},
   "outputs": [
    {
     "name": "stdout",
     "output_type": "stream",
     "text": [
      "(1,1) = 3\n",
      "(1,2) = 8\n",
      "(1,3) = 2\n",
      "(1,4) = 7\n",
      "(1,5) = 6\n",
      "(1,6) = 5\n",
      "(1,7) = 1\n",
      "(1,8) = 4\n",
      "(1,9) = 9\n",
      "(2,1) = 7\n",
      "(2,2) = 9\n",
      "(2,3) = 5\n",
      "(2,4) = 4\n",
      "(2,5) = 3\n",
      "(2,6) = 1\n",
      "(2,7) = 6\n",
      "(2,8) = 2\n",
      "(2,9) = 8\n",
      "(3,1) = 1\n",
      "(3,2) = 6\n",
      "(3,3) = 4\n",
      "(3,4) = 9\n",
      "(3,5) = 8\n",
      "(3,6) = 2\n",
      "(3,7) = 5\n",
      "(3,8) = 7\n",
      "(3,9) = 3\n",
      "(4,1) = 4\n",
      "(4,2) = 5\n",
      "(4,3) = 3\n",
      "(4,4) = 8\n",
      "(4,5) = 2\n",
      "(4,6) = 7\n",
      "(4,7) = 9\n",
      "(4,8) = 1\n",
      "(4,9) = 6\n",
      "(5,1) = 2\n",
      "(5,2) = 7\n",
      "(5,3) = 9\n",
      "(5,4) = 3\n",
      "(5,5) = 1\n",
      "(5,6) = 6\n",
      "(5,7) = 4\n",
      "(5,8) = 8\n",
      "(5,9) = 5\n",
      "(6,1) = 6\n",
      "(6,2) = 1\n",
      "(6,3) = 8\n",
      "(6,4) = 5\n",
      "(6,5) = 4\n",
      "(6,6) = 9\n",
      "(6,7) = 7\n",
      "(6,8) = 3\n",
      "(6,9) = 2\n",
      "(7,1) = 9\n",
      "(7,2) = 4\n",
      "(7,3) = 7\n",
      "(7,4) = 2\n",
      "(7,5) = 5\n",
      "(7,6) = 3\n",
      "(7,7) = 8\n",
      "(7,8) = 6\n",
      "(7,9) = 1\n",
      "(8,1) = 5\n",
      "(8,2) = 2\n",
      "(8,3) = 6\n",
      "(8,4) = 1\n",
      "(8,5) = 7\n",
      "(8,6) = 8\n",
      "(8,7) = 3\n",
      "(8,8) = 9\n",
      "(8,9) = 4\n",
      "(9,1) = 8\n",
      "(9,2) = 3\n",
      "(9,3) = 1\n",
      "(9,4) = 6\n",
      "(9,5) = 9\n",
      "(9,6) = 4\n",
      "(9,7) = 2\n",
      "(9,8) = 5\n",
      "(9,9) = 7\n"
     ]
    }
   ],
   "source": [
    "print_sol_here(model)"
   ]
  },
  {
   "cell_type": "markdown",
   "metadata": {},
   "source": [
    "### Print solution to Excel"
   ]
  },
  {
   "cell_type": "markdown",
   "metadata": {},
   "source": [
    "- We want to print the solution to a sheet in the Excel workbook `wb`\n",
    "- First we need to put the solution into a 9x9 grid like `values` above: a list of 9 lists (rows), each with 9 values.\n",
    "\n",
    "#### (F) Loop over the rows, columns, and numbers to put solution into 9x9 grid.  \n",
    "-  If the $x$ value is 1, put the number into `solution[row-1][col-1]`"
   ]
  },
  {
   "cell_type": "code",
   "execution_count": 76,
   "metadata": {},
   "outputs": [
    {
     "name": "stdout",
     "output_type": "stream",
     "text": [
      "Before:{}\n",
      "After:{(1, 1): 3, (1, 2): 8, (1, 3): 2, (1, 4): 7, (1, 5): 6, (1, 6): 5, (1, 7): 1, (1, 8): 4, (1, 9): 9, (2, 1): 7, (2, 2): 9, (2, 3): 5, (2, 4): 4, (2, 5): 3, (2, 6): 1, (2, 7): 6, (2, 8): 2, (2, 9): 8, (3, 1): 1, (3, 2): 6, (3, 3): 4, (3, 4): 9, (3, 5): 8, (3, 6): 2, (3, 7): 5, (3, 8): 7, (3, 9): 3, (4, 1): 4, (4, 2): 5, (4, 3): 3, (4, 4): 8, (4, 5): 2, (4, 6): 7, (4, 7): 9, (4, 8): 1, (4, 9): 6, (5, 1): 2, (5, 2): 7, (5, 3): 9, (5, 4): 3, (5, 5): 1, (5, 6): 6, (5, 7): 4, (5, 8): 8, (5, 9): 5, (6, 1): 6, (6, 2): 1, (6, 3): 8, (6, 4): 5, (6, 5): 4, (6, 6): 9, (6, 7): 7, (6, 8): 3, (6, 9): 2, (7, 1): 9, (7, 2): 4, (7, 3): 7, (7, 4): 2, (7, 5): 5, (7, 6): 3, (7, 7): 8, (7, 8): 6, (7, 9): 1, (8, 1): 5, (8, 2): 2, (8, 3): 6, (8, 4): 1, (8, 5): 7, (8, 6): 8, (8, 7): 3, (8, 8): 9, (8, 9): 4, (9, 1): 8, (9, 2): 3, (9, 3): 1, (9, 4): 6, (9, 5): 9, (9, 6): 4, (9, 7): 2, (9, 8): 5, (9, 9): 7}\n"
     ]
    }
   ],
   "source": [
    "# Build a 9x9 grid called \"solution\" to hold the solution\n",
    "solution = {}\n",
    "print(f'Before:{solution}')    \n",
    "\n",
    "# Use this list for indexing the for loops\n",
    "NUMS = [1,2,3,4,5,6,7,8,9]\n",
    "\n",
    "\n",
    "# Set the values to the solution found by the solver\n",
    "for row in NUMS:\n",
    "    for col in NUMS:\n",
    "        for num in NUMS:\n",
    "            if model.x[row,col,num] == 1:\n",
    "                solution[row,col] = num\n",
    "        \n",
    "print(f'After:{solution}')    "
   ]
  },
  {
   "cell_type": "code",
   "execution_count": 95,
   "metadata": {},
   "outputs": [],
   "source": [
    "# Now print the solution in the Excel spreadsheet into a new sheet called \"Solution1\"\n",
    "# try:\n",
    "book = xlwt.Workbook()\n",
    "sheet1 = book.add_sheet(\"SolutionSheet\")\n",
    "\n",
    "\n",
    "for row in NUMS:\n",
    "    for col in NUMS:\n",
    "        sheet1.write(col-1,row-1,solution[row,col])\n",
    "        \n",
    "book.save(\"test.xls\")"
   ]
  },
  {
   "cell_type": "code",
   "execution_count": 98,
   "metadata": {},
   "outputs": [],
   "source": [
    "# If you want to clear the values and/or delete the sheet\n",
    "# sheet1.clear()\n",
    "# sheet1.delete()"
   ]
  },
  {
   "cell_type": "markdown",
   "metadata": {},
   "source": [
    "#### (G) Put code to print to Excel into a Python function.  (Check solver status before printing.) Function parameters:\n",
    "-  model -- to access the solution\n",
    "-  wb -- workbook to write solution in\n",
    "-  sheet_name -- (string) name for the added sheet"
   ]
  },
  {
   "cell_type": "code",
   "execution_count": 125,
   "metadata": {},
   "outputs": [],
   "source": [
    "def print_sol_excel(model, wb, sheet_name):\n",
    "    \"\"\"\n",
    "    Print sudoku solution to Excel in a sheet called \"sheet_name\" (add the sheet if it doesn't already exist)\n",
    "    \n",
    "    Keyword Arguments:\n",
    "    model -- Pyomo Sudoku model that has already been solved\n",
    "    wb -- Excel Workbook\n",
    "    sheet_name -- (string) name of the sheet where the solution is to be printed\n",
    "    \n",
    "    Return:\n",
    "    nothing\n",
    "    \"\"\"\n",
    "    # Check if the model solved to optimality before printing solution\n",
    "    solve_status = solver_result.solver.termination_condition\n",
    "    if (solve_status==pyo.TerminationCondition.optimal):\n",
    "        # Code to print to Excel here\n",
    "        # Use this list for indexing the for loops\n",
    "        NUMS = [1,2,3,4,5,6,7,8,9]\n",
    "\n",
    "\n",
    "        # Set the values to the solution found by the solver\n",
    "        for row in NUMS:\n",
    "            for col in NUMS:\n",
    "                for num in NUMS:\n",
    "                    if model.x[row,col,num] == 1:\n",
    "                        solution[row,col] = num\n",
    "        \n",
    "        book = xlwt.Workbook()\n",
    "        sheet1 = book.add_sheet(\"SolutionSheet\")\n",
    "\n",
    "\n",
    "        for row in NUMS:\n",
    "            for col in NUMS:\n",
    "                sheet1.write(col,row,solution[row,col])\n",
    "\n",
    "        book.save(sheet_name)\n",
    "        \n",
    "        \n",
    "        print(f'The solution was printed to Excel')\n",
    "    else:\n",
    "        print(f'The solver status is {solve_status}')"
   ]
  },
  {
   "cell_type": "code",
   "execution_count": 126,
   "metadata": {},
   "outputs": [
    {
     "name": "stdout",
     "output_type": "stream",
     "text": [
      "The solution was printed to Excel\n"
     ]
    }
   ],
   "source": [
    "print_sol_excel(model, wb, \"Solution_1\")"
   ]
  },
  {
   "cell_type": "markdown",
   "metadata": {},
   "source": [
    "## (II) Test for another optimal solution"
   ]
  },
  {
   "cell_type": "markdown",
   "metadata": {},
   "source": [
    "Sometimes we will want to explore multiple optimal solutions to a model. One way to check for another solution is to: \n",
    "1. Add a constraint to the model that removes the current optimal solution from the feasible region\n",
    "   - The new constraint varies by problem.  It may take some creativity.\n",
    "2. Rerun the model with the new constraint and see what happens"
   ]
  },
  {
   "cell_type": "markdown",
   "metadata": {},
   "source": [
    "In this case, the following new constraint works:\n",
    "$$ \\sum_{i,j,k \\in N:x_{i,j,k}=1} x_{i,j,k} \\leq 80 $$\n",
    "- Notice that the 81 $x$-values that have the value $1$ in the current solution are summed on the left\n",
    "- This forces at least one of the $x$-values that was $1$ in the current solution to be $0$ in the new solution"
   ]
  },
  {
   "cell_type": "markdown",
   "metadata": {},
   "source": [
    "#### (H) Add the above constraint to the model."
   ]
  },
  {
   "cell_type": "code",
   "execution_count": 134,
   "metadata": {},
   "outputs": [
    {
     "name": "stdout",
     "output_type": "stream",
     "text": [
      "WARNING: Implicitly replacing the Component attribute exclude_sol_const\n",
      "    (type=<class 'pyomo.core.base.constraint.SimpleConstraint'>) on block\n",
      "    unknown with a new Component (type=<class\n",
      "    'pyomo.core.base.constraint.SimpleConstraint'>). This is usually\n",
      "    indicative of a modelling error. To avoid this warning, use\n",
      "    block.del_component() and block.add_component().\n"
     ]
    }
   ],
   "source": [
    "# Add the constraint defined above to the model\n",
    "def exclude_sol_rule(model):\n",
    "    return sum(model.x[row,col,num] for row in NUMS for col in NUMS for num in NUMS if model.x[row,col,num]==1) <= 80\n",
    "#     return sum(model.x[i,j,k] for i in NUMS for j in NUMS for k in NUMS if model.x[i,j,k]) <= 80\n",
    "model.exclude_sol_const = pyo.Constraint(rule=exclude_sol_rule)"
   ]
  },
  {
   "cell_type": "code",
   "execution_count": 135,
   "metadata": {},
   "outputs": [
    {
     "name": "stdout",
     "output_type": "stream",
     "text": [
      "x[1,1,3] + x[1,2,8] + x[1,3,2] + x[1,4,7] + x[1,5,6] + x[1,6,5] + x[1,7,1] + x[1,8,4] + x[1,9,9] + x[2,1,7] + x[2,2,9] + x[2,3,5] + x[2,4,4] + x[2,5,3] + x[2,6,1] + x[2,7,6] + x[2,8,2] + x[2,9,8] + x[3,1,1] + x[3,2,6] + x[3,3,4] + x[3,4,9] + x[3,5,8] + x[3,6,2] + x[3,7,5] + x[3,8,7] + x[3,9,3] + x[4,1,4] + x[4,2,5] + x[4,3,3] + x[4,4,8] + x[4,5,2] + x[4,6,7] + x[4,7,9] + x[4,8,1] + x[4,9,6] + x[5,1,2] + x[5,2,7] + x[5,3,9] + x[5,4,3] + x[5,5,1] + x[5,6,6] + x[5,7,4] + x[5,8,8] + x[5,9,5] + x[6,1,6] + x[6,2,1] + x[6,3,8] + x[6,4,5] + x[6,5,4] + x[6,6,9] + x[6,7,7] + x[6,8,3] + x[6,9,2] + x[7,1,9] + x[7,2,4] + x[7,3,1] + x[7,4,2] + x[7,5,5] + x[7,6,3] + x[7,7,8] + x[7,8,6] + x[7,9,7] + x[8,1,5] + x[8,2,2] + x[8,3,6] + x[8,4,1] + x[8,5,7] + x[8,6,8] + x[8,7,3] + x[8,8,9] + x[8,9,4] + x[9,1,8] + x[9,2,3] + x[9,3,7] + x[9,4,6] + x[9,5,9] + x[9,6,4] + x[9,7,2] + x[9,8,5] + x[9,9,1]  <=  80.0\n"
     ]
    }
   ],
   "source": [
    "# Print the new constraint, just to see if it looks like we expect\n",
    "print(model.exclude_sol_const.expr)"
   ]
  },
  {
   "cell_type": "markdown",
   "metadata": {},
   "source": [
    "#### (I) Run the model again and print the solution to a sheet called 'Solution2'.\n",
    "1.  What does it mean if the model with the new constraint is infeasible?  \n",
    "   - *Answer: there was only one solution to the puzzle!*\n",
    "2.  Now remove a number from the puzzle in Excel (remember to save changes!) and run everything again from the top.  Is there another solution now?  \n",
    "   - *Answer: Yes, now there is enough flexibility for multiple solutions to the puzzle.*"
   ]
  },
  {
   "cell_type": "code",
   "execution_count": 136,
   "metadata": {},
   "outputs": [
    {
     "name": "stdout",
     "output_type": "stream",
     "text": [
      "The solution was printed to Excel\n"
     ]
    }
   ],
   "source": [
    "# Solve the model again\n",
    "solver_result1 = pyo.SolverFactory('glpk').solve(model)\n",
    "\n",
    "# Try to print the solution\n",
    "print_sol_excel(model, wb, 'Solution2')"
   ]
  },
  {
   "cell_type": "markdown",
   "metadata": {},
   "source": [
    "# Lesson 8 HOMEWORK"
   ]
  },
  {
   "cell_type": "markdown",
   "metadata": {},
   "source": [
    "### (HW1) Now add a second constraint to the model to exclude the second solution.  \n",
    "-  Hint:  You need to give it a different name!  Maybe \"exclude_sol2_const\"."
   ]
  },
  {
   "cell_type": "code",
   "execution_count": 144,
   "metadata": {},
   "outputs": [
    {
     "name": "stdout",
     "output_type": "stream",
     "text": [
      "WARNING: Implicitly replacing the Component attribute exclude_sol2_const\n",
      "    (type=<class 'pyomo.core.base.constraint.SimpleConstraint'>) on block\n",
      "    unknown with a new Component (type=<class\n",
      "    'pyomo.core.base.constraint.SimpleConstraint'>). This is usually\n",
      "    indicative of a modelling error. To avoid this warning, use\n",
      "    block.del_component() and block.add_component().\n"
     ]
    }
   ],
   "source": [
    "# Add the constraint defined above to the model\n",
    "\n",
    "def exclude_sol2_rule(model):\n",
    "    return sum(model.x[row,col,num] for row in NUMS for col in NUMS for num in NUMS if model.x[row,col,num]==1) <= 80\n",
    "#     return sum(model.x[i,j,k] for i in NUMS for j in NUMS for k in NUMS if model.x[i,j,k]) <= 80\n",
    "model.exclude_sol2_const = pyo.Constraint(rule=exclude_sol2_rule)\n"
   ]
  },
  {
   "cell_type": "markdown",
   "metadata": {},
   "source": [
    "### (HW2) Solve the model again to see if a third solution exists.  If so, print the third solution in a different sheet.\n",
    "-  Hint:  You can use the print function that's already written with a different sheet name."
   ]
  },
  {
   "cell_type": "code",
   "execution_count": 150,
   "metadata": {},
   "outputs": [
    {
     "name": "stdout",
     "output_type": "stream",
     "text": [
      "The solution was printed to Excel\n"
     ]
    }
   ],
   "source": [
    "# Solve the model again\n",
    "solver_result2 = pyo.SolverFactory('glpk').solve(model)\n",
    "\n",
    "# Try to print the solution\n",
    "print_sol_excel(model, wb, 'Solution3')"
   ]
  },
  {
   "cell_type": "markdown",
   "metadata": {},
   "source": [
    "### (HW3) Read in the first and second solutions from the sheets in the workbook and count how many numbers they differ by.  Write the answer to this question on another sheet called \"Difference\"  \n",
    "- Each solution will need its own variable name.  \n",
    "- Use nested for loops along with a \"counter\" variable initialized a 0 to count how many squares the solutions differ by. "
   ]
  },
  {
   "cell_type": "code",
   "execution_count": 164,
   "metadata": {
    "scrolled": true
   },
   "outputs": [
    {
     "name": "stdout",
     "output_type": "stream",
     "text": [
      "3\n",
      "3\n",
      "same value\n",
      "7\n",
      "7\n",
      "same value\n",
      "1\n",
      "1\n",
      "same value\n",
      "4\n",
      "4\n",
      "same value\n",
      "2\n",
      "2\n",
      "same value\n",
      "6\n",
      "6\n",
      "same value\n",
      "9\n",
      "9\n",
      "same value\n",
      "5\n",
      "5\n",
      "same value\n",
      "8\n",
      "8\n",
      "same value\n",
      "8\n",
      "8\n",
      "same value\n",
      "9\n",
      "9\n",
      "same value\n",
      "6\n",
      "6\n",
      "same value\n",
      "5\n",
      "5\n",
      "same value\n",
      "7\n",
      "7\n",
      "same value\n",
      "1\n",
      "1\n",
      "same value\n",
      "4\n",
      "4\n",
      "same value\n",
      "2\n",
      "2\n",
      "same value\n",
      "3\n",
      "3\n",
      "same value\n",
      "2\n",
      "2\n",
      "same value\n",
      "5\n",
      "5\n",
      "same value\n",
      "4\n",
      "4\n",
      "same value\n",
      "3\n",
      "3\n",
      "same value\n",
      "9\n",
      "9\n",
      "same value\n",
      "8\n",
      "8\n",
      "same value\n",
      "7\n",
      "7\n",
      "same value\n",
      "6\n",
      "6\n",
      "same value\n",
      "1\n",
      "1\n",
      "same value\n",
      "7\n",
      "7\n",
      "same value\n",
      "4\n",
      "4\n",
      "same value\n",
      "9\n",
      "9\n",
      "same value\n",
      "8\n",
      "8\n",
      "same value\n",
      "3\n",
      "3\n",
      "same value\n",
      "5\n",
      "5\n",
      "same value\n",
      "2\n",
      "2\n",
      "same value\n",
      "1\n",
      "1\n",
      "same value\n",
      "6\n",
      "6\n",
      "same value\n",
      "6\n",
      "6\n",
      "same value\n",
      "3\n",
      "3\n",
      "same value\n",
      "8\n",
      "8\n",
      "same value\n",
      "2\n",
      "2\n",
      "same value\n",
      "1\n",
      "1\n",
      "same value\n",
      "4\n",
      "4\n",
      "same value\n",
      "5\n",
      "5\n",
      "same value\n",
      "7\n",
      "7\n",
      "same value\n",
      "9\n",
      "9\n",
      "same value\n",
      "5\n",
      "5\n",
      "same value\n",
      "1\n",
      "1\n",
      "same value\n",
      "2\n",
      "2\n",
      "same value\n",
      "7\n",
      "7\n",
      "same value\n",
      "6\n",
      "6\n",
      "same value\n",
      "9\n",
      "9\n",
      "same value\n",
      "3\n",
      "3\n",
      "same value\n",
      "8\n",
      "8\n",
      "same value\n",
      "4\n",
      "4\n",
      "same value\n",
      "1\n",
      "1\n",
      "same value\n",
      "6\n",
      "6\n",
      "same value\n",
      "5\n",
      "5\n",
      "same value\n",
      "9\n",
      "9\n",
      "same value\n",
      "4\n",
      "4\n",
      "same value\n",
      "7\n",
      "2\n",
      "8\n",
      "8\n",
      "same value\n",
      "3\n",
      "3\n",
      "same value\n",
      "2\n",
      "7\n",
      "4\n",
      "4\n",
      "same value\n",
      "2\n",
      "2\n",
      "same value\n",
      "7\n",
      "7\n",
      "same value\n",
      "1\n",
      "1\n",
      "same value\n",
      "8\n",
      "8\n",
      "same value\n",
      "3\n",
      "3\n",
      "same value\n",
      "6\n",
      "6\n",
      "same value\n",
      "9\n",
      "9\n",
      "same value\n",
      "5\n",
      "5\n",
      "same value\n",
      "9\n",
      "9\n",
      "same value\n",
      "8\n",
      "8\n",
      "same value\n",
      "3\n",
      "3\n",
      "same value\n",
      "6\n",
      "6\n",
      "same value\n",
      "5\n",
      "5\n",
      "same value\n",
      "2\n",
      "7\n",
      "1\n",
      "1\n",
      "same value\n",
      "4\n",
      "4\n",
      "same value\n",
      "7\n",
      "2\n",
      "Differ by  4  numbers\n"
     ]
    }
   ],
   "source": [
    "counter = 0\n",
    "\n",
    "wb2 = pd.read_excel('Solution2')\n",
    "wb3 = pd.read_excel('Solution3')\n",
    "\n",
    "\n",
    "# open the sheet with the puzzle\n",
    "solution_sheet2 = pd.read_excel('Solution1', sheet_name= 'SolutionSheet')\n",
    "solution_sheet3 = pd.read_excel('Solution3', sheet_name= 'SolutionSheet')\n",
    "\n",
    "\n",
    "# read in the puzzle\n",
    "values2 = solution_sheet2\n",
    "values3 = solution_sheet3\n",
    "\n",
    "# print(values.iloc[0,0])\n",
    "# print(values)\n",
    "for row in NUMS:\n",
    "    for col in NUMS:\n",
    "        print(values2.iloc[row-1,col])\n",
    "        print(values3.iloc[row-1,col])\n",
    "        if values2.iloc[row-1,col] == values3.iloc[row-1,col]:\n",
    "            print(\"same value\")\n",
    "        else:\n",
    "            counter +=1\n",
    "print(\"Differ by \", counter, \" numbers\")\n",
    "        "
   ]
  },
  {
   "cell_type": "code",
   "execution_count": null,
   "metadata": {},
   "outputs": [],
   "source": []
  }
 ],
 "metadata": {
  "kernelspec": {
   "display_name": "Python 3",
   "language": "python",
   "name": "python3"
  },
  "language_info": {
   "codemirror_mode": {
    "name": "ipython",
    "version": 3
   },
   "file_extension": ".py",
   "mimetype": "text/x-python",
   "name": "python",
   "nbconvert_exporter": "python",
   "pygments_lexer": "ipython3",
   "version": "3.7.6"
  },
  "varInspector": {
   "cols": {
    "lenName": 16,
    "lenType": 16,
    "lenVar": 40
   },
   "kernels_config": {
    "python": {
     "delete_cmd_postfix": "",
     "delete_cmd_prefix": "del ",
     "library": "var_list.py",
     "varRefreshCmd": "print(var_dic_list())"
    },
    "r": {
     "delete_cmd_postfix": ") ",
     "delete_cmd_prefix": "rm(",
     "library": "var_list.r",
     "varRefreshCmd": "cat(var_dic_list()) "
    }
   },
   "types_to_exclude": [
    "module",
    "function",
    "builtin_function_or_method",
    "instance",
    "_Feature"
   ],
   "window_display": false
  }
 },
 "nbformat": 4,
 "nbformat_minor": 4
}
