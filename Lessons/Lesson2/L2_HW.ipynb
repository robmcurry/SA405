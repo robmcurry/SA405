{
 "cells": [
  {
   "cell_type": "markdown",
   "metadata": {
    "hide_cell": true
   },
   "source": [
    "<h5 class='prehead'>SA405 &middot; Advanced Math Programming &middot; Fall 2020 &middot; Goran, Lourenco, Skipper</h5>\n",
    "\n",
    "<h5 class='lesson'>Lesson 2: Pyomo Review</h5>\n",
    "\n",
    "<h1 class='lesson_title'>Homework</h1>"
   ]
  },
  {
   "cell_type": "markdown",
   "metadata": {},
   "source": [
    "Name:  **Enter your name here**"
   ]
  },
  {
   "cell_type": "markdown",
   "metadata": {},
   "source": [
    "**(1)**  Implement the abstract model provided below using the same format as in Lesson 2. Implement each line of code in its own cell, running the cells as you go.  Practice using `model.display()`, `print(model.obj.expr)`, and `print(model.constraint_name['nutrient_name'].expr)` to view your model as you go."
   ]
  },
  {
   "cell_type": "markdown",
   "metadata": {},
   "source": [
    "**Sets**\n",
    "- $I=$ set of feed ingredients ({oats, corn, alfalfa})\n",
    "- $N=$ set of RDA nutrients ({protein, fat, fiber})"
   ]
  },
  {
   "cell_type": "code",
   "execution_count": null,
   "metadata": {},
   "outputs": [],
   "source": [
    "# Set I \n",
    "# (Choose short, descriptive names for your sets and \n",
    "#  parameters using Python naming conventions. \n",
    "#  They should not be the single letter names \n",
    "#  used in the model.)"
   ]
  },
  {
   "cell_type": "code",
   "execution_count": null,
   "metadata": {},
   "outputs": [],
   "source": [
    "# Set N "
   ]
  },
  {
   "cell_type": "markdown",
   "metadata": {},
   "source": [
    "**Parameters**\n",
    "- $c_i =$ the cost per ton of ingredient $i$, for all $i \\in I$\n",
    "- $a_{i,n} =$ the RDA amount of nutrient $n$ possessed by ingredient $i$, for all $i \\in I, n \\in N$\n",
    "- $l_n =$ the lower bound on the percent RDA of nutrient $n$ that must be in the feed, for $n \\in N$\n",
    "- $u_n =$ upper bound on the percent RDA of nutrient $n$ that can be in the feed, for $n \\in N$"
   ]
  },
  {
   "cell_type": "code",
   "execution_count": 1,
   "metadata": {},
   "outputs": [],
   "source": [
    "# c_i"
   ]
  },
  {
   "cell_type": "code",
   "execution_count": null,
   "metadata": {},
   "outputs": [],
   "source": [
    "# a_{i,n}"
   ]
  },
  {
   "cell_type": "code",
   "execution_count": null,
   "metadata": {},
   "outputs": [],
   "source": [
    "# l_n  (We must define a lower bound for EVERY n in N)"
   ]
  },
  {
   "cell_type": "code",
   "execution_count": null,
   "metadata": {},
   "outputs": [],
   "source": [
    "# u_n  (We must define an upper bound for EVERY n in N)"
   ]
  },
  {
   "cell_type": "markdown",
   "metadata": {},
   "source": [
    "**Build model**"
   ]
  },
  {
   "cell_type": "code",
   "execution_count": null,
   "metadata": {},
   "outputs": [],
   "source": [
    "# import Pyomo"
   ]
  },
  {
   "cell_type": "code",
   "execution_count": null,
   "metadata": {},
   "outputs": [],
   "source": [
    "# instantiate ConcreteModel"
   ]
  },
  {
   "cell_type": "markdown",
   "metadata": {},
   "source": [
    "**Decision variables**\n",
    "- $x_i =$ the number of tons of ingredient i to put into one ton of feed, for all $i \\in I$\n",
    "- (The decision variables are nonnegative reals, as indicated by the constraint, $x_i \\geq 0, \\forall i \\in I$. Use `domain=pyo.NonNegativeReals` when defining these variables in Pyomo.)"
   ]
  },
  {
   "cell_type": "code",
   "execution_count": 1,
   "metadata": {},
   "outputs": [],
   "source": [
    "# add x_i"
   ]
  },
  {
   "cell_type": "markdown",
   "metadata": {},
   "source": [
    "**Objective** \n",
    "- Minimize $\\displaystyle \\sum_{i \\in I} c_i x_i$"
   ]
  },
  {
   "cell_type": "code",
   "execution_count": null,
   "metadata": {},
   "outputs": [],
   "source": [
    "# objective function helper function"
   ]
  },
  {
   "cell_type": "code",
   "execution_count": null,
   "metadata": {},
   "outputs": [],
   "source": [
    "# add objective function"
   ]
  },
  {
   "cell_type": "markdown",
   "metadata": {},
   "source": [
    "**Constraints**\n",
    "Subject to\n",
    "- $\\sum_{i \\in I} x_i = 1$  (one ton)\n",
    "- $\\sum_{i \\in I} a_{i,n} x_i \\geq l_n,~~\\forall n \\in N$  (lower bound)\n",
    "- $\\sum_{i \\in I} a_{i,n} x_i \\leq u_n,~~\\forall n \\in N$  (upper bound)"
   ]
  },
  {
   "cell_type": "code",
   "execution_count": null,
   "metadata": {},
   "outputs": [],
   "source": [
    "# one ton helper function\n",
    "# HINT:  use '==' in equality constraints (rather than '=')"
   ]
  },
  {
   "cell_type": "code",
   "execution_count": null,
   "metadata": {},
   "outputs": [],
   "source": [
    "# add one ton constraint"
   ]
  },
  {
   "cell_type": "code",
   "execution_count": null,
   "metadata": {},
   "outputs": [],
   "source": [
    "# lower bound helper function"
   ]
  },
  {
   "cell_type": "code",
   "execution_count": null,
   "metadata": {},
   "outputs": [],
   "source": [
    "# add lower bound constraint"
   ]
  },
  {
   "cell_type": "code",
   "execution_count": null,
   "metadata": {},
   "outputs": [],
   "source": [
    "# upper bound helper function"
   ]
  },
  {
   "cell_type": "code",
   "execution_count": null,
   "metadata": {},
   "outputs": [],
   "source": [
    "# add upper bound constraint"
   ]
  },
  {
   "cell_type": "markdown",
   "metadata": {},
   "source": [
    "**Solve**"
   ]
  },
  {
   "cell_type": "code",
   "execution_count": null,
   "metadata": {},
   "outputs": [],
   "source": [
    "# solve model"
   ]
  },
  {
   "cell_type": "markdown",
   "metadata": {},
   "source": [
    "**Print solution**"
   ]
  },
  {
   "cell_type": "code",
   "execution_count": null,
   "metadata": {},
   "outputs": [],
   "source": [
    "# Make a for loop over the ingredients and print how\n",
    "# much of each ingredient is used.  Use f-strings \n",
    "# to print."
   ]
  },
  {
   "cell_type": "code",
   "execution_count": 3,
   "metadata": {},
   "outputs": [],
   "source": [
    "# Print the optimal cost of the one-ton mixture"
   ]
  },
  {
   "cell_type": "markdown",
   "metadata": {},
   "source": [
    "**(2)** Copy the code into a 5-cell format as done at the bottom of Lesson 2: (1) import Pyomo (2) construct data (3) build model (4) solve (5) print solution.  Make sure everything still runs!"
   ]
  },
  {
   "cell_type": "code",
   "execution_count": null,
   "metadata": {},
   "outputs": [],
   "source": []
  }
 ],
 "metadata": {
  "kernelspec": {
   "display_name": "Python 3",
   "language": "python",
   "name": "python3"
  },
  "language_info": {
   "codemirror_mode": {
    "name": "ipython",
    "version": 3
   },
   "file_extension": ".py",
   "mimetype": "text/x-python",
   "name": "python",
   "nbconvert_exporter": "python",
   "pygments_lexer": "ipython3",
   "version": "3.8.3"
  },
  "varInspector": {
   "cols": {
    "lenName": 16,
    "lenType": 16,
    "lenVar": 40
   },
   "kernels_config": {
    "python": {
     "delete_cmd_postfix": "",
     "delete_cmd_prefix": "del ",
     "library": "var_list.py",
     "varRefreshCmd": "print(var_dic_list())"
    },
    "r": {
     "delete_cmd_postfix": ") ",
     "delete_cmd_prefix": "rm(",
     "library": "var_list.r",
     "varRefreshCmd": "cat(var_dic_list()) "
    }
   },
   "types_to_exclude": [
    "module",
    "function",
    "builtin_function_or_method",
    "instance",
    "_Feature"
   ],
   "window_display": false
  }
 },
 "nbformat": 4,
 "nbformat_minor": 4
}
