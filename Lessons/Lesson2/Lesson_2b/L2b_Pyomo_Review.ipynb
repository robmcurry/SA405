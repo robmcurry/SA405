{
 "cells": [
  {
   "cell_type": "markdown",
   "metadata": {
    "hide_cell": true
   },
   "source": [
    "<h5 class='prehead'>SA405 &middot; Advanced Math Programming &middot; Fall 2021 &middot; Curry and Lourenco</h5>\n",
    "\n",
    "<h5 class='lesson'>Lesson 2b - Student Version</h5>\n",
    "\n",
    "<h1 class='lesson_title'>Pyomo Review</h1>"
   ]
  },
  {
   "cell_type": "markdown",
   "metadata": {},
   "source": [
    "## This lesson..."
   ]
  },
  {
   "cell_type": "markdown",
   "metadata": {},
   "source": [
    "- Implement the abstract model of the IP from Lesson 1 (listed below) in Pyomo:\n",
    "    - Load the data into Python data structures\n",
    "    - Build a Pyomo model\n",
    "    - Solve the model\n",
    "    - Print the solution\n",
    "- Dealing with warnings when re-adding model components\n",
    "- Full solution\n",
    "\n",
    "**Instructions:** Read everything.  Run each line of code as you go.  Complete code as directed."
   ]
  },
  {
   "cell_type": "markdown",
   "metadata": {},
   "source": [
    "## Abstract model"
   ]
  },
  {
   "cell_type": "markdown",
   "metadata": {},
   "source": [
    "We will implement the following abstract IP model from Lesson 1.  Refer to Lesson 1 for the data.\n",
    "\n",
    "Sets\n",
    "* $I := $ set of items that might go into the backpack  ({rope, matches, tent, sleeping bag, hammock, granola bar})\n",
    "* $Q := $ set of item qualities that must be restricted ({volume, weight})\n",
    "\n",
    "Parameters\n",
    "* $a_{i,q} := $ amount of quality $q$ per item $i$, for $i \\in I$, $q \\in Q$\n",
    "* $b_q := $ maximum amount of quality $q$ allowed, for $q \\in Q$\n",
    "\n",
    "Decision variables\n",
    "* $x_i := 0/1$ variable that indicates whether or not to pack item $i$, for $i \\in I$\n",
    "\n",
    "Model\n",
    "* Maximize $\\displaystyle z := \\sum_{i \\in I} u_i x_i$\n",
    "\n",
    "* subject to\n",
    "\n",
    "    (1) $\\displaystyle \\sum_{i \\in I} a_{i,q} x_i \\leq b_q$, for all $q \\in Q$\n",
    "\n",
    "    (2) $x_i \\in \\{0,1\\}$, for all $i \\in I$\n",
    "\n",
    "where the objective function maximizes the usefulness of the packed items, constraint (1) enforces the volume and weight limits, and (2) imposes the binary requirement on the $x$ variables.\n"
   ]
  },
  {
   "cell_type": "markdown",
   "metadata": {},
   "source": [
    "## Load data into Python data structures"
   ]
  },
  {
   "cell_type": "markdown",
   "metadata": {},
   "source": [
    "It is very difficult to read code for complicated models if the same single letter names are used in the code as are used in the model.  Fortunately, the Python community has well-defined naming practices."
   ]
  },
  {
   "cell_type": "markdown",
   "metadata": {},
   "source": [
    "**Python naming conventions**\n",
    "* It is good coding practice to use short, descriptive names rather than single letters or numbers for variables\n",
    "* We use the **constants** naming convention for model data (**sets** and **parameters**):  \n",
    "  * UPPER_CASE, with words separated by underscores \n",
    "  * spaces are not allowed in Python names\n",
    "* For more about Python naming conventions, see [PEP 8 naming styles](https://realpython.com/python-pep8/#naming-styles) and this [short video](https://realpython.com/lessons/python-naming-conventions/)"
   ]
  },
  {
   "cell_type": "markdown",
   "metadata": {},
   "source": [
    "We will enter the data for the model line-by-line, running each line as we go.  This will allow us to debug as we go, and make it easy to isolate bugs."
   ]
  },
  {
   "cell_type": "markdown",
   "metadata": {},
   "source": [
    "#### Add Sets\n",
    "* $I := $ set of items that might go into the backpack\n",
    "* $Q := $ set of item qualities that must be restricted"
   ]
  },
  {
   "cell_type": "markdown",
   "metadata": {},
   "source": [
    "**To code sets:**\n",
    "* Use a Python **list** for a model set, because we can iterate over lists\n",
    "    * Use brackets \\[ \\] to indicate a list"
   ]
  },
  {
   "cell_type": "code",
   "execution_count": 1,
   "metadata": {},
   "outputs": [],
   "source": [
    "ITEMS = ['rope','matches','tent',\n",
    "         'sleeping_bag','hammock','granola_bar']"
   ]
  },
  {
   "cell_type": "markdown",
   "metadata": {},
   "source": [
    "* We can use the flexibility of Jupyter notebooks to test code snippets to see if our code is behaving as expected.  For example...\n",
    "  * Use `type()` to verify that ITEMS is a list  \n",
    "  * Run `ITEMS` to see the set in memory"
   ]
  },
  {
   "cell_type": "code",
   "execution_count": 2,
   "metadata": {},
   "outputs": [
    {
     "data": {
      "text/plain": [
       "list"
      ]
     },
     "execution_count": 2,
     "metadata": {},
     "output_type": "execute_result"
    }
   ],
   "source": [
    "type(ITEMS)"
   ]
  },
  {
   "cell_type": "code",
   "execution_count": 3,
   "metadata": {},
   "outputs": [
    {
     "data": {
      "text/plain": [
       "['rope', 'matches', 'tent', 'sleeping_bag', 'hammock', 'granola_bar']"
      ]
     },
     "execution_count": 3,
     "metadata": {},
     "output_type": "execute_result"
    }
   ],
   "source": [
    "ITEMS"
   ]
  },
  {
   "cell_type": "markdown",
   "metadata": {},
   "source": [
    "# * **To do:** Enter the set Q in the cell below. Use the name QUALITIES, and the names 'weight' and 'volume'."
   ]
  },
  {
   "cell_type": "code",
   "execution_count": 32,
   "metadata": {},
   "outputs": [],
   "source": [
    "# To do"
   ]
  },
  {
   "cell_type": "markdown",
   "metadata": {},
   "source": [
    "#### Add Parameters\n",
    "* $u_{i} := $ usefulness of item $i$, for $i \\in I$\n",
    "* $b_{q} := $ maximum amount of quality $q$ allowed, for $q \\in Q$\n",
    "* $a_{i,q} := $ amount of quality $q$ item $i$ has, for $i \\in I$, $q \\in Q$"
   ]
  },
  {
   "cell_type": "markdown",
   "metadata": {},
   "source": [
    "**To code parameters indexed by one or more sets:**\n",
    "* Use a Python **dictionary**\n",
    "    * Use brackets \\{ \\} to indicate a dictionary\n",
    "    * Each entry is a **key:value** pair\n",
    "    * Keys come from index set(s)\n",
    "      * If there is only one index set, the key is an element of the set\n",
    "      * If there are two or more index sets, the keys are **tuples** (indicated by parentheses)\n",
    "    * The values are the numeric values of the parameter data\n",
    "* Again we use the **constants** naming convention:  \n",
    "    * UPPER_CASE, with words separated by underscores"
   ]
  },
  {
   "cell_type": "code",
   "execution_count": 33,
   "metadata": {},
   "outputs": [],
   "source": [
    "USEFULNESS = {'rope':1, 'matches':5, 'tent':7, 'sleeping_bag':6,'hammock':4.5,'granola_bar':8}"
   ]
  },
  {
   "cell_type": "markdown",
   "metadata": {},
   "source": [
    "# * **To do:** Enter the $b_q$ parameter values below.  Use the name MAX_AMOUNT.  Remember that this parameter is indexed by qualities, rather than items.  Refer to Lesson 1 to get the data values."
   ]
  },
  {
   "cell_type": "code",
   "execution_count": 34,
   "metadata": {},
   "outputs": [],
   "source": [
    "# To do"
   ]
  },
  {
   "cell_type": "markdown",
   "metadata": {},
   "source": [
    "* The $a_{i,q}$ parameter is doubly-indexed over $I$ (ITEMS) AND $Q$ (QUALITIES), so we must use tuples as keys."
   ]
  },
  {
   "cell_type": "code",
   "execution_count": 35,
   "metadata": {},
   "outputs": [],
   "source": [
    "AMOUNT = {('rope','volume'):2, ('rope','weight'):3,\n",
    "          ('matches','volume'):0.01, ('matches','weight'):0.1,\n",
    "          ('tent','volume'):3, ('tent','weight'):10,\n",
    "          ('sleeping_bag','volume'):2, ('sleeping_bag','weight'):4,\n",
    "          ('hammock','volume'):0.4, ('hammock','weight'):4,\n",
    "          ('granola_bar','volume'):0.67, ('granola_bar','weight'):2}"
   ]
  },
  {
   "cell_type": "markdown",
   "metadata": {},
   "source": [
    "*Note that the use of descriptive names reduces the need for comments.*"
   ]
  },
  {
   "cell_type": "markdown",
   "metadata": {},
   "source": [
    "## Build a Pyomo model"
   ]
  },
  {
   "cell_type": "markdown",
   "metadata": {},
   "source": [
    "#### Import Pyomo"
   ]
  },
  {
   "cell_type": "markdown",
   "metadata": {},
   "source": [
    "* Import the Pyomo library as follows. (This line of code is often at the top of the file.)\n",
    "* After this import statement, we can use `pyo.` to access objects in the Pyomo library."
   ]
  },
  {
   "cell_type": "code",
   "execution_count": 36,
   "metadata": {},
   "outputs": [],
   "source": [
    "import pyomo.environ as pyo"
   ]
  },
  {
   "cell_type": "markdown",
   "metadata": {},
   "source": [
    "* If you got an error on the line of code above, you probably need to install Pyomo by doing the following:  \n",
    "  -  Uncomment the code in the cell below (keep the \"!\") and run the cell.  \n",
    "  -  Then rerun the import statement above. \n",
    "  -  (You can now recomment this cell. You shouldn't have to install pyomo again in any notebook.)"
   ]
  },
  {
   "cell_type": "code",
   "execution_count": 37,
   "metadata": {},
   "outputs": [],
   "source": [
    "#!conda install -c conda-forge pyomo"
   ]
  },
  {
   "cell_type": "markdown",
   "metadata": {},
   "source": [
    "#### Instantiate a Pyomo ConcreteModel() object"
   ]
  },
  {
   "cell_type": "code",
   "execution_count": 38,
   "metadata": {},
   "outputs": [],
   "source": [
    "model = pyo.ConcreteModel()"
   ]
  },
  {
   "cell_type": "markdown",
   "metadata": {},
   "source": [
    "#### Add decision variables"
   ]
  },
  {
   "cell_type": "markdown",
   "metadata": {},
   "source": [
    "* $x_i := 0/1$ variable that indicates whether or not to pack item $i$, for $i \\in I$"
   ]
  },
  {
   "cell_type": "markdown",
   "metadata": {},
   "source": [
    "* The naming convention for Python **variables** is lower-case letters or words, with words separated by underscores.  \n",
    "    * We could use a word for this variable in the model, but since it is the only variable, I chose to stick with 'x'.\n",
    "    * Another good choice would be 'pack', since the variable indicates whether or not to pack each item\n",
    "* The line below adds the Pyomo variable 'x' to the 'model' that is...\n",
    "  - indexed over ITEMS\n",
    "  - has a Boolean domain (takes only 0/1 values)"
   ]
  },
  {
   "cell_type": "code",
   "execution_count": 39,
   "metadata": {},
   "outputs": [],
   "source": [
    "# Add variable x indexed by the list ITEMS\n",
    "model.x = pyo.Var(ITEMS, domain=pyo.Boolean)"
   ]
  },
  {
   "cell_type": "markdown",
   "metadata": {},
   "source": [
    "* Note that we must use `model.` every time we access model components (variables, objective function, constraints)\n",
    "* If we wanted $x \\geq 0$ (rather than $x \\in \\{0,1\\}$) we would use the following code:  \n",
    "  - `model.x = pyo.Var(ITEMS, domain=NonNegativeReals)`."
   ]
  },
  {
   "cell_type": "markdown",
   "metadata": {},
   "source": [
    "* Use the following code to take a look at the current state of the 'model'\n",
    "  -  Notice that the 'x' variables indexed by the set 'ITEMS' are now in the model, along with their the bounds and domain.\n",
    "  - This code is not a necessary part of the model.  This is just a handy tool for making sure the model is coming along as expected."
   ]
  },
  {
   "cell_type": "code",
   "execution_count": 40,
   "metadata": {},
   "outputs": [
    {
     "name": "stdout",
     "output_type": "stream",
     "text": [
      "Model unknown\n",
      "\n",
      "  Variables:\n",
      "    x : Size=6, Index=x_index\n",
      "        Key          : Lower : Value : Upper : Fixed : Stale : Domain\n",
      "         granola_bar :     0 :  None :     1 : False :  True : Boolean\n",
      "             hammock :     0 :  None :     1 : False :  True : Boolean\n",
      "             matches :     0 :  None :     1 : False :  True : Boolean\n",
      "                rope :     0 :  None :     1 : False :  True : Boolean\n",
      "        sleeping_bag :     0 :  None :     1 : False :  True : Boolean\n",
      "                tent :     0 :  None :     1 : False :  True : Boolean\n",
      "\n",
      "  Objectives:\n",
      "    None\n",
      "\n",
      "  Constraints:\n",
      "    None\n"
     ]
    }
   ],
   "source": [
    "model.display()"
   ]
  },
  {
   "cell_type": "markdown",
   "metadata": {},
   "source": [
    "#### Add the objective function"
   ]
  },
  {
   "cell_type": "markdown",
   "metadata": {},
   "source": [
    "* Maximize $\\displaystyle z := \\sum_{i \\in I} u_i x_i$"
   ]
  },
  {
   "cell_type": "markdown",
   "metadata": {},
   "source": [
    "* The objective function is added in two steps:\n",
    "  1. Define a small function using the keyword `def` that constructs the algebraic expression\n",
    "  2. Add the objective to the model object using the small function"
   ]
  },
  {
   "cell_type": "code",
   "execution_count": 41,
   "metadata": {},
   "outputs": [],
   "source": [
    "# Add objective function\n",
    "def obj_rule(model):\n",
    "    return sum(USEFULNESS[item]*model.x[item] for item in ITEMS)\n",
    "model.obj = pyo.Objective(rule=obj_rule, sense=pyo.maximize)"
   ]
  },
  {
   "cell_type": "markdown",
   "metadata": {},
   "source": [
    "* Carefully compare the `return` statement of the `obj_rule` Python function with the objective function in the IP model\n",
    "  - Notice how the summation over the list of ITEMS is constructed in Python using `sum()`\n",
    "  "
   ]
  },
  {
   "cell_type": "markdown",
   "metadata": {},
   "source": [
    "# * **TO ANSWER:**  What is the index variable in the Python code that plays the role of $i$ in the model constraint?\n",
    "    (Enter answers as comments)"
   ]
  },
  {
   "cell_type": "code",
   "execution_count": 42,
   "metadata": {},
   "outputs": [],
   "source": [
    "# To answer"
   ]
  },
  {
   "cell_type": "markdown",
   "metadata": {},
   "source": [
    "* Now focus on the last line above:  `model.obj = pyo.Objective(rule=obj_rule, sense=pyo.maximize)`  \n",
    "  - The `rule` keyword refers to the function to get the expression  \n",
    "  - Notice we use `sense=pyo.maximize`, because we are maximizing the usefulness of the packed items"
   ]
  },
  {
   "cell_type": "markdown",
   "metadata": {},
   "source": [
    "* Use the following code to take a look at the objective function.  Does it look like we expect?"
   ]
  },
  {
   "cell_type": "code",
   "execution_count": 43,
   "metadata": {
    "scrolled": true
   },
   "outputs": [
    {
     "name": "stdout",
     "output_type": "stream",
     "text": [
      "x[rope] + 5*x[matches] + 7*x[tent] + 6*x[sleeping_bag] + 4.5*x[hammock] + 8*x[granola_bar]\n"
     ]
    }
   ],
   "source": [
    "# View the objective function\n",
    "print(model.obj.expr)"
   ]
  },
  {
   "cell_type": "markdown",
   "metadata": {},
   "source": [
    "#### Add constraints"
   ]
  },
  {
   "cell_type": "markdown",
   "metadata": {},
   "source": [
    "(1) $\\displaystyle \\sum_{i \\in I} a_{i,q} x_i \\leq b_q$, for all $q \\in Q$\n",
    "\n",
    "*(Constriant (2) was taken care of when variable $x$ was added to the model)*"
   ]
  },
  {
   "cell_type": "markdown",
   "metadata": {},
   "source": [
    "* The algebraic expression for constraint (1) has a summation over the ITEMS in it\n",
    "  * (We are NOT summing over QUALITIES, instead there is a constraint for each quality (weight and volume))\n",
    "  * Notice that we don't need to use `model.` to access the AMOUNT parameter because it is simply a Python object, not a 'model' component, like the variable 'x'"
   ]
  },
  {
   "cell_type": "code",
   "execution_count": 44,
   "metadata": {},
   "outputs": [],
   "source": [
    "# Knapsack constraint function\n",
    "def knapsack_rule(model, quality):\n",
    "    return sum(AMOUNT[item,quality]*model.x[item] for item in ITEMS) <= MAX_AMOUNT[quality]"
   ]
  },
  {
   "cell_type": "markdown",
   "metadata": {},
   "source": [
    "* Now look at the function `knapsack_rule` above\n",
    "  - 'model' will always be the first parameter in a constraint (or objective) helper function\n",
    "  - other parameters are **constraint index variables**\n",
    "    * Here, there is one constraint for each 'quality' in 'QUALITIES', so 'quality' is the constraint index variable\n",
    "* When we add the constraint to the model (below), 'QUALITIES' is the set the constraint is indexed over (i.e., there is one constraint per 'quality' in 'QUALITIES'"
   ]
  },
  {
   "cell_type": "markdown",
   "metadata": {},
   "source": [
    "# * **TO ANSWER:**  Add the knapsack constraint to the model."
   ]
  },
  {
   "cell_type": "code",
   "execution_count": 45,
   "metadata": {
    "scrolled": true
   },
   "outputs": [],
   "source": [
    "# Add knapsack constraint to the model (using the function above)"
   ]
  },
  {
   "cell_type": "markdown",
   "metadata": {},
   "source": [
    "* Study this code for a while to make sure you see the difference between the: \n",
    "  -  **summation** index variable and index set (item, ITEMS) \n",
    "  and the \n",
    "  -  **constraint** index variable and index set (quality, QUALITIES)\n",
    "* ***This is often the trickiest part of modeling with Pyomo***"
   ]
  },
  {
   "cell_type": "markdown",
   "metadata": {},
   "source": [
    "* Use the following code to view the constraints we just added to the model\n",
    "* Recall that the knapsack constraints are indexed by QUALITIES, so we can print them individually..."
   ]
  },
  {
   "cell_type": "code",
   "execution_count": 46,
   "metadata": {},
   "outputs": [
    {
     "name": "stdout",
     "output_type": "stream",
     "text": [
      "3*x[rope] + 0.1*x[matches] + 10*x[tent] + 4*x[sleeping_bag] + 4*x[hammock] + 2*x[granola_bar]  <=  12.5\n",
      "2*x[rope] + 0.01*x[matches] + 3*x[tent] + 2*x[sleeping_bag] + 0.4*x[hammock] + 0.67*x[granola_bar]  <=  5.3\n"
     ]
    }
   ],
   "source": [
    "print(model.knapsack_constraint['weight'].expr)\n",
    "print(model.knapsack_constraint['volume'].expr)"
   ]
  },
  {
   "cell_type": "markdown",
   "metadata": {},
   "source": [
    "\n",
    "* Or we can iterate over QUALITIES to print them"
   ]
  },
  {
   "cell_type": "code",
   "execution_count": 47,
   "metadata": {},
   "outputs": [
    {
     "name": "stdout",
     "output_type": "stream",
     "text": [
      "3*x[rope] + 0.1*x[matches] + 10*x[tent] + 4*x[sleeping_bag] + 4*x[hammock] + 2*x[granola_bar]  <=  12.5\n",
      "2*x[rope] + 0.01*x[matches] + 3*x[tent] + 2*x[sleeping_bag] + 0.4*x[hammock] + 0.67*x[granola_bar]  <=  5.3\n"
     ]
    }
   ],
   "source": [
    "for quality in QUALITIES:\n",
    "    print(model.knapsack_constraint[quality].expr)"
   ]
  },
  {
   "cell_type": "markdown",
   "metadata": {},
   "source": [
    "## Solve the model"
   ]
  },
  {
   "cell_type": "markdown",
   "metadata": {},
   "source": [
    "*  *Note about solvers:* We are using the solver **glpk** for this course because it is a free, stand-alone solver that is easy to keep on your computer.  If you use optimization for your capstone project, you may need access to a more powerful solver.  To use a different solver that is installed on your computer, you just need to change 'glpk' to the apporpriate name (such as 'gurobi' or 'cplex')."
   ]
  },
  {
   "cell_type": "markdown",
   "metadata": {},
   "source": [
    "* The following code sends the model to a solver that is installed on your computer \n",
    "  - `solver_result` contains some information from the solver (but not the solution!)"
   ]
  },
  {
   "cell_type": "code",
   "execution_count": 48,
   "metadata": {},
   "outputs": [],
   "source": [
    "# solve model and save the result\n",
    "solver_result = pyo.SolverFactory('glpk').solve(model)"
   ]
  },
  {
   "cell_type": "markdown",
   "metadata": {},
   "source": [
    "* We can use `solver_result` to see if the solver found an optimal solution:"
   ]
  },
  {
   "cell_type": "code",
   "execution_count": 49,
   "metadata": {},
   "outputs": [
    {
     "name": "stdout",
     "output_type": "stream",
     "text": [
      "optimal\n"
     ]
    }
   ],
   "source": [
    "#Check how the solver terminated\n",
    "print(solver_result.solver.termination_condition)"
   ]
  },
  {
   "cell_type": "markdown",
   "metadata": {},
   "source": [
    "* One way to view the optimal solution is to display the model again:"
   ]
  },
  {
   "cell_type": "code",
   "execution_count": 50,
   "metadata": {},
   "outputs": [
    {
     "name": "stdout",
     "output_type": "stream",
     "text": [
      "Model unknown\n",
      "\n",
      "  Variables:\n",
      "    x : Size=6, Index=x_index\n",
      "        Key          : Lower : Value : Upper : Fixed : Stale : Domain\n",
      "         granola_bar :     0 :   1.0 :     1 : False : False : Boolean\n",
      "             hammock :     0 :   1.0 :     1 : False : False : Boolean\n",
      "             matches :     0 :   1.0 :     1 : False : False : Boolean\n",
      "                rope :     0 :   0.0 :     1 : False : False : Boolean\n",
      "        sleeping_bag :     0 :   1.0 :     1 : False : False : Boolean\n",
      "                tent :     0 :   0.0 :     1 : False : False : Boolean\n",
      "\n",
      "  Objectives:\n",
      "    obj : Size=1, Index=None, Active=True\n",
      "        Key  : Active : Value\n",
      "        None :   True :  23.5\n",
      "\n",
      "  Constraints:\n",
      "    knapsack_constraint : Size=2\n",
      "        Key    : Lower : Body               : Upper\n",
      "        volume :  None : 3.0799999999999996 :   5.3\n",
      "        weight :  None :               10.1 :  12.5\n"
     ]
    }
   ],
   "source": [
    "model.display()"
   ]
  },
  {
   "cell_type": "markdown",
   "metadata": {},
   "source": [
    "* Notice that the variables have values now! \n",
    "* We can see the left-side value of each constraint with these variable values"
   ]
  },
  {
   "cell_type": "markdown",
   "metadata": {},
   "source": [
    "# * **To answer:** According to the solution, which items should we pack to maximize usefulness?  "
   ]
  },
  {
   "cell_type": "code",
   "execution_count": 51,
   "metadata": {},
   "outputs": [],
   "source": [
    "# To answer"
   ]
  },
  {
   "cell_type": "markdown",
   "metadata": {},
   "source": [
    "# * **To answer:** What is the combined usefulness of the packed items?"
   ]
  },
  {
   "cell_type": "code",
   "execution_count": 52,
   "metadata": {},
   "outputs": [],
   "source": [
    "# To answer"
   ]
  },
  {
   "cell_type": "markdown",
   "metadata": {},
   "source": [
    "# * **To answer:** What is the combined weight and volume of the packed items?"
   ]
  },
  {
   "cell_type": "code",
   "execution_count": 53,
   "metadata": {},
   "outputs": [],
   "source": [
    "# To answer\n"
   ]
  },
  {
   "cell_type": "markdown",
   "metadata": {},
   "source": [
    "## Print the solution "
   ]
  },
  {
   "cell_type": "markdown",
   "metadata": {},
   "source": [
    "* Of course, for bigger models, it is difficult to view the model to find the optimal solution, so it is often a good idea to print the solution.\n",
    "* **Method 1:** Loop over ITEMS and print the item name and the optimal value of the `x[item]`\n",
    "  - To review **f-strings** for printing, see https://realpython.com/python-f-strings"
   ]
  },
  {
   "cell_type": "code",
   "execution_count": 54,
   "metadata": {},
   "outputs": [
    {
     "name": "stdout",
     "output_type": "stream",
     "text": [
      "The items to pack have combined usefulness rating 23.5\n",
      "\n",
      "x_rope = 0.0\n",
      "x_matches = 1.0\n",
      "x_tent = 0.0\n",
      "x_sleeping_bag = 1.0\n",
      "x_hammock = 1.0\n",
      "x_granola_bar = 1.0\n"
     ]
    }
   ],
   "source": [
    "print(f\"The items to pack have combined usefulness rating {model.obj()}\\n\")\n",
    "for item in ITEMS:\n",
    "    print(f\"x_{item} = {model.x[item].value}\")"
   ]
  },
  {
   "cell_type": "markdown",
   "metadata": {},
   "source": [
    "* **Method 2:** In this method we interpret the solution, rather than just printing it.  \n",
    "  - We print only items that have x-values equal to 1"
   ]
  },
  {
   "cell_type": "code",
   "execution_count": 55,
   "metadata": {},
   "outputs": [
    {
     "name": "stdout",
     "output_type": "stream",
     "text": [
      "The items to pack have combined usefulness rating 23.5\n",
      "\n",
      "Bring the following items:\n",
      "matches\n",
      "sleeping_bag\n",
      "hammock\n",
      "granola_bar\n"
     ]
    }
   ],
   "source": [
    "print(f'The items to pack have combined usefulness rating {model.obj()}\\n')\n",
    "\n",
    "print(f'Bring the following items:')\n",
    "for item in ITEMS:\n",
    "    if model.x[item].value == 1:\n",
    "        print(f\"{item}\")"
   ]
  },
  {
   "cell_type": "markdown",
   "metadata": {},
   "source": [
    "* Notice the weirdness in how the objective value is accessed: `model.obj()`, versus the variable values: `model.x[item].value`"
   ]
  },
  {
   "cell_type": "markdown",
   "metadata": {},
   "source": [
    "## Dealing with warnings when re-adding model components"
   ]
  },
  {
   "cell_type": "markdown",
   "metadata": {},
   "source": [
    "**If you rerun code to add a model component,** you will get a warning. \n",
    "* Try rerunning the cell that adds the knapsack_constraint to the model (below).  You should see a warning. "
   ]
  },
  {
   "cell_type": "code",
   "execution_count": 56,
   "metadata": {},
   "outputs": [
    {
     "name": "stdout",
     "output_type": "stream",
     "text": [
      "WARNING: Implicitly replacing the Component attribute knapsack_constraint\n",
      "    (type=<class 'pyomo.core.base.constraint.IndexedConstraint'>) on block\n",
      "    unknown with a new Component (type=<class\n",
      "    'pyomo.core.base.constraint.IndexedConstraint'>). This is usually\n",
      "    indicative of a modelling error. To avoid this warning, use\n",
      "    block.del_component() and block.add_component().\n"
     ]
    },
    {
     "ename": "RuntimeError",
     "evalue": "Cannot add component 'knapsack_constraint_index' (type <class 'pyomo.core.base.sets.SimpleSet'>) to block 'unknown': a component by that name (type <class 'pyomo.core.base.sets.SimpleSet'>) is already defined.",
     "output_type": "error",
     "traceback": [
      "\u001b[0;31m---------------------------------------------------------------------------\u001b[0m",
      "\u001b[0;31mRuntimeError\u001b[0m                              Traceback (most recent call last)",
      "\u001b[0;32m<ipython-input-56-75c7b485ff6a>\u001b[0m in \u001b[0;36m<module>\u001b[0;34m\u001b[0m\n\u001b[1;32m      1\u001b[0m \u001b[0;31m# Add knapsack constraint to the model (using the function above)\u001b[0m\u001b[0;34m\u001b[0m\u001b[0;34m\u001b[0m\u001b[0;34m\u001b[0m\u001b[0m\n\u001b[0;32m----> 2\u001b[0;31m \u001b[0mmodel\u001b[0m\u001b[0;34m.\u001b[0m\u001b[0mknapsack_constraint\u001b[0m \u001b[0;34m=\u001b[0m \u001b[0mpyo\u001b[0m\u001b[0;34m.\u001b[0m\u001b[0mConstraint\u001b[0m\u001b[0;34m(\u001b[0m\u001b[0mQUALITIES\u001b[0m\u001b[0;34m,\u001b[0m \u001b[0mrule\u001b[0m\u001b[0;34m=\u001b[0m\u001b[0mknapsack_rule\u001b[0m\u001b[0;34m)\u001b[0m\u001b[0;34m\u001b[0m\u001b[0;34m\u001b[0m\u001b[0m\n\u001b[0m",
      "\u001b[0;32m/opt/anaconda3/lib/python3.7/site-packages/pyomo/core/base/block.py\u001b[0m in \u001b[0;36m__setattr__\u001b[0;34m(self, name, val)\u001b[0m\n\u001b[1;32m    606\u001b[0m                        type(val)))\n\u001b[1;32m    607\u001b[0m                 \u001b[0mself\u001b[0m\u001b[0;34m.\u001b[0m\u001b[0mdel_component\u001b[0m\u001b[0;34m(\u001b[0m\u001b[0mname\u001b[0m\u001b[0;34m)\u001b[0m\u001b[0;34m\u001b[0m\u001b[0;34m\u001b[0m\u001b[0m\n\u001b[0;32m--> 608\u001b[0;31m                 \u001b[0mself\u001b[0m\u001b[0;34m.\u001b[0m\u001b[0madd_component\u001b[0m\u001b[0;34m(\u001b[0m\u001b[0mname\u001b[0m\u001b[0;34m,\u001b[0m \u001b[0mval\u001b[0m\u001b[0;34m)\u001b[0m\u001b[0;34m\u001b[0m\u001b[0;34m\u001b[0m\u001b[0m\n\u001b[0m\u001b[1;32m    609\u001b[0m             \u001b[0;32melse\u001b[0m\u001b[0;34m:\u001b[0m\u001b[0;34m\u001b[0m\u001b[0;34m\u001b[0m\u001b[0m\n\u001b[1;32m    610\u001b[0m                 \u001b[0;31m#\u001b[0m\u001b[0;34m\u001b[0m\u001b[0;34m\u001b[0m\u001b[0;34m\u001b[0m\u001b[0m\n",
      "\u001b[0;32m/opt/anaconda3/lib/python3.7/site-packages/pyomo/core/base/block.py\u001b[0m in \u001b[0;36madd_component\u001b[0;34m(self, name, val)\u001b[0m\n\u001b[1;32m   1029\u001b[0m         \u001b[0;31m#\u001b[0m\u001b[0;34m\u001b[0m\u001b[0;34m\u001b[0m\u001b[0;34m\u001b[0m\u001b[0m\n\u001b[1;32m   1030\u001b[0m         \u001b[0;32mif\u001b[0m \u001b[0mhasattr\u001b[0m\u001b[0;34m(\u001b[0m\u001b[0mval\u001b[0m\u001b[0;34m,\u001b[0m \u001b[0;34m'_index'\u001b[0m\u001b[0;34m)\u001b[0m\u001b[0;34m:\u001b[0m\u001b[0;34m\u001b[0m\u001b[0;34m\u001b[0m\u001b[0m\n\u001b[0;32m-> 1031\u001b[0;31m             \u001b[0mself\u001b[0m\u001b[0;34m.\u001b[0m\u001b[0m_add_temporary_set\u001b[0m\u001b[0;34m(\u001b[0m\u001b[0mval\u001b[0m\u001b[0;34m)\u001b[0m\u001b[0;34m\u001b[0m\u001b[0;34m\u001b[0m\u001b[0m\n\u001b[0m\u001b[1;32m   1032\u001b[0m         \u001b[0;31m#\u001b[0m\u001b[0;34m\u001b[0m\u001b[0;34m\u001b[0m\u001b[0;34m\u001b[0m\u001b[0m\n\u001b[1;32m   1033\u001b[0m         \u001b[0;31m# Add the component to the underlying Component store\u001b[0m\u001b[0;34m\u001b[0m\u001b[0;34m\u001b[0m\u001b[0;34m\u001b[0m\u001b[0m\n",
      "\u001b[0;32m/opt/anaconda3/lib/python3.7/site-packages/pyomo/core/base/block.py\u001b[0m in \u001b[0;36m_add_temporary_set\u001b[0;34m(self, val)\u001b[0m\n\u001b[1;32m    840\u001b[0m         \u001b[0;32mif\u001b[0m \u001b[0misinstance\u001b[0m\u001b[0;34m(\u001b[0m\u001b[0mval\u001b[0m\u001b[0;34m.\u001b[0m\u001b[0m_index\u001b[0m\u001b[0;34m,\u001b[0m \u001b[0m_SetDataBase\u001b[0m\u001b[0;34m)\u001b[0m \u001b[0;32mand\u001b[0m\u001b[0;31m \u001b[0m\u001b[0;31m\\\u001b[0m\u001b[0;34m\u001b[0m\u001b[0;34m\u001b[0m\u001b[0m\n\u001b[1;32m    841\u001b[0m                 \u001b[0mval\u001b[0m\u001b[0;34m.\u001b[0m\u001b[0m_index\u001b[0m\u001b[0;34m.\u001b[0m\u001b[0mparent_component\u001b[0m\u001b[0;34m(\u001b[0m\u001b[0;34m)\u001b[0m\u001b[0;34m.\u001b[0m\u001b[0mlocal_name\u001b[0m \u001b[0;34m==\u001b[0m \u001b[0;34m\"_unknown_\"\u001b[0m\u001b[0;34m:\u001b[0m\u001b[0;34m\u001b[0m\u001b[0;34m\u001b[0m\u001b[0m\n\u001b[0;32m--> 842\u001b[0;31m             \u001b[0mself\u001b[0m\u001b[0;34m.\u001b[0m\u001b[0m_construct_temporary_set\u001b[0m\u001b[0;34m(\u001b[0m\u001b[0mval\u001b[0m\u001b[0;34m.\u001b[0m\u001b[0m_index\u001b[0m\u001b[0;34m,\u001b[0m \u001b[0mval\u001b[0m\u001b[0;34m.\u001b[0m\u001b[0mlocal_name\u001b[0m \u001b[0;34m+\u001b[0m \u001b[0;34m\"_index\"\u001b[0m\u001b[0;34m)\u001b[0m\u001b[0;34m\u001b[0m\u001b[0;34m\u001b[0m\u001b[0m\n\u001b[0m\u001b[1;32m    843\u001b[0m         \u001b[0;32mif\u001b[0m \u001b[0misinstance\u001b[0m\u001b[0;34m(\u001b[0m\u001b[0mgetattr\u001b[0m\u001b[0;34m(\u001b[0m\u001b[0mval\u001b[0m\u001b[0;34m,\u001b[0m \u001b[0;34m'initialize'\u001b[0m\u001b[0;34m,\u001b[0m \u001b[0;32mNone\u001b[0m\u001b[0;34m)\u001b[0m\u001b[0;34m,\u001b[0m \u001b[0m_SetDataBase\u001b[0m\u001b[0;34m)\u001b[0m \u001b[0;32mand\u001b[0m\u001b[0;31m \u001b[0m\u001b[0;31m\\\u001b[0m\u001b[0;34m\u001b[0m\u001b[0;34m\u001b[0m\u001b[0m\n\u001b[1;32m    844\u001b[0m                 \u001b[0mval\u001b[0m\u001b[0;34m.\u001b[0m\u001b[0minitialize\u001b[0m\u001b[0;34m.\u001b[0m\u001b[0mparent_component\u001b[0m\u001b[0;34m(\u001b[0m\u001b[0;34m)\u001b[0m\u001b[0;34m.\u001b[0m\u001b[0mlocal_name\u001b[0m \u001b[0;34m==\u001b[0m \u001b[0;34m\"_unknown_\"\u001b[0m\u001b[0;34m:\u001b[0m\u001b[0;34m\u001b[0m\u001b[0;34m\u001b[0m\u001b[0m\n",
      "\u001b[0;32m/opt/anaconda3/lib/python3.7/site-packages/pyomo/core/base/block.py\u001b[0m in \u001b[0;36m_construct_temporary_set\u001b[0;34m(self, obj, name)\u001b[0m\n\u001b[1;32m    864\u001b[0m                 \u001b[0;32mreturn\u001b[0m \u001b[0mtobj\u001b[0m\u001b[0;34m\u001b[0m\u001b[0;34m\u001b[0m\u001b[0m\n\u001b[1;32m    865\u001b[0m         \u001b[0;32melif\u001b[0m \u001b[0misinstance\u001b[0m\u001b[0;34m(\u001b[0m\u001b[0mobj\u001b[0m\u001b[0;34m,\u001b[0m \u001b[0mSet\u001b[0m\u001b[0;34m)\u001b[0m\u001b[0;34m:\u001b[0m\u001b[0;34m\u001b[0m\u001b[0;34m\u001b[0m\u001b[0m\n\u001b[0;32m--> 866\u001b[0;31m             \u001b[0mself\u001b[0m\u001b[0;34m.\u001b[0m\u001b[0madd_component\u001b[0m\u001b[0;34m(\u001b[0m\u001b[0mname\u001b[0m\u001b[0;34m,\u001b[0m \u001b[0mobj\u001b[0m\u001b[0;34m)\u001b[0m\u001b[0;34m\u001b[0m\u001b[0;34m\u001b[0m\u001b[0m\n\u001b[0m\u001b[1;32m    867\u001b[0m             \u001b[0;32mreturn\u001b[0m \u001b[0mobj\u001b[0m\u001b[0;34m\u001b[0m\u001b[0;34m\u001b[0m\u001b[0m\n\u001b[1;32m    868\u001b[0m         \u001b[0;32mraise\u001b[0m \u001b[0mException\u001b[0m\u001b[0;34m(\u001b[0m\u001b[0;34m\"BOGUS\"\u001b[0m\u001b[0;34m)\u001b[0m\u001b[0;34m\u001b[0m\u001b[0;34m\u001b[0m\u001b[0m\n",
      "\u001b[0;32m/opt/anaconda3/lib/python3.7/site-packages/pyomo/core/base/block.py\u001b[0m in \u001b[0;36madd_component\u001b[0;34m(self, name, val)\u001b[0m\n\u001b[1;32m    971\u001b[0m                 \u001b[0;34m\"Cannot add component '%s' (type %s) to block '%s': a \"\u001b[0m\u001b[0;34m\u001b[0m\u001b[0;34m\u001b[0m\u001b[0m\n\u001b[1;32m    972\u001b[0m                 \u001b[0;34m\"component by that name (type %s) is already defined.\"\u001b[0m\u001b[0;34m\u001b[0m\u001b[0;34m\u001b[0m\u001b[0m\n\u001b[0;32m--> 973\u001b[0;31m                 % (name, type(val), self.name, type(getattr(self, name))))\n\u001b[0m\u001b[1;32m    974\u001b[0m         \u001b[0;31m#\u001b[0m\u001b[0;34m\u001b[0m\u001b[0;34m\u001b[0m\u001b[0;34m\u001b[0m\u001b[0m\n\u001b[1;32m    975\u001b[0m         \u001b[0;31m# Skip the add_component() logic if this is a\u001b[0m\u001b[0;34m\u001b[0m\u001b[0;34m\u001b[0m\u001b[0;34m\u001b[0m\u001b[0m\n",
      "\u001b[0;31mRuntimeError\u001b[0m: Cannot add component 'knapsack_constraint_index' (type <class 'pyomo.core.base.sets.SimpleSet'>) to block 'unknown': a component by that name (type <class 'pyomo.core.base.sets.SimpleSet'>) is already defined."
     ]
    }
   ],
   "source": [
    "# Add knapsack constraint to the model (using the function above)\n",
    "model.knapsack_constraint = pyo.Constraint(QUALITIES, rule=knapsack_rule)"
   ]
  },
  {
   "cell_type": "markdown",
   "metadata": {},
   "source": [
    "* Run the code below to delete the constraint.\n",
    "* Run the cell that adds the knapsack_constraint (above) again.  You should see no warning this time."
   ]
  },
  {
   "cell_type": "code",
   "execution_count": 57,
   "metadata": {},
   "outputs": [],
   "source": [
    "#This code deletes the knapsack_constraint from the model\n",
    "model.del_component('knapsack_constraint')\n",
    "\n",
    "#If the constraint is indexed, we need this line, too\n",
    "#This line deletes a 'hidden' index that was created behind the scenes\n",
    "model.del_component('knapsack_constraint_index')"
   ]
  },
  {
   "cell_type": "markdown",
   "metadata": {},
   "source": [
    "## Full solution: data, model, solve, print"
   ]
  },
  {
   "cell_type": "markdown",
   "metadata": {},
   "source": [
    "* This is the full code to build and solve the model, with code grouped into cells in a useful way:\n",
    "  - Import Pyomo\n",
    "  - Construct data (sets and parameters)\n",
    "  - Build model (decision variables, objective function, constraints)\n",
    "  - Solve the model\n",
    "  - Print solution\n",
    "* In particular, soon we will define a Python function to build the model\n",
    "* **However, when we build a model for the first time, keep the code separated into different cells.**\n",
    "  - this makes debugging much easier"
   ]
  },
  {
   "cell_type": "code",
   "execution_count": 58,
   "metadata": {},
   "outputs": [],
   "source": [
    "#Import pyomo\n",
    "import pyomo.environ as pyo"
   ]
  },
  {
   "cell_type": "code",
   "execution_count": 59,
   "metadata": {},
   "outputs": [],
   "source": [
    "#Construct data\n",
    "\n",
    "#Sets\n",
    "ITEMS = ['rope', 'matches', 'tent', 'sleeping_bag',\n",
    "     'hammock','granola_bar']\n",
    "QUALITIES = ['volume', 'weight']\n",
    "\n",
    "#Parameters\n",
    "USEFULNESS = {'rope':1, 'matches':5, 'tent':7, \n",
    "              'sleeping_bag':6, 'hammock':4.5,'granola_bar':8}\n",
    "\n",
    "MAX_AMOUNT = {'volume':5.3, 'weight':12.5}\n",
    "\n",
    "AMOUNT = {('rope','volume'):2, ('rope','weight'):3,\n",
    "          ('matches','volume'):0.01, ('matches','weight'):0.1,\n",
    "          ('tent','volume'):3, ('tent','weight'):10,\n",
    "          ('sleeping_bag','volume'):2, ('sleeping_bag','weight'):4,\n",
    "          ('hammock','volume'):0.4, ('hammock','weight'):4,\n",
    "          ('granola_bar','volume'):0.67, ('granola_bar','weight'):2}"
   ]
  },
  {
   "cell_type": "code",
   "execution_count": 60,
   "metadata": {},
   "outputs": [],
   "source": [
    "#Build model\n",
    "model = pyo.ConcreteModel()\n",
    "\n",
    "#Add decision variables\n",
    "model.x = pyo.Var(ITEMS, domain=pyo.Boolean)\n",
    "\n",
    "#Add objective function\n",
    "def obj_rule(model):\n",
    "    return sum(USEFULNESS[item]*model.x[item] for item in ITEMS)\n",
    "model.obj = pyo.Objective(rule=obj_rule, sense=pyo.maximize)\n",
    "\n",
    "#Add knapsack constraint\n",
    "#model.del_component(model.knapsack_constraint)\n",
    "def knapsack_rule(model, quality):\n",
    "    return sum(AMOUNT[item,quality]*model.x[item] for item in ITEMS) <= MAX_AMOUNT[quality]\n",
    "model.knapsack_constraint = pyo.Constraint(QUALITIES, rule=knapsack_rule)"
   ]
  },
  {
   "cell_type": "code",
   "execution_count": 61,
   "metadata": {},
   "outputs": [
    {
     "name": "stdout",
     "output_type": "stream",
     "text": [
      "optimal\n"
     ]
    }
   ],
   "source": [
    "#Solve model\n",
    "solver_result = pyo.SolverFactory('glpk').solve(model)\n",
    "#Check if the solver found an optimal solution\n",
    "print(solver_result.solver.termination_condition)\n",
    "\n",
    "#or...\n",
    "\n",
    "#Solve model, displaying solver output\n",
    "#solver_result = pyo.SolverFactory('glpk').solve(model, tee=True)"
   ]
  },
  {
   "cell_type": "code",
   "execution_count": 62,
   "metadata": {},
   "outputs": [
    {
     "name": "stdout",
     "output_type": "stream",
     "text": [
      "Bring these items:\n",
      "matches\n",
      "sleeping_bag\n",
      "hammock\n",
      "granola_bar\n",
      "\n",
      "\n",
      "Their combined usefulness is 23.5\n"
     ]
    }
   ],
   "source": [
    "#Print solution (if optimal solution was found)\n",
    "print(f'Bring these items:')\n",
    "for item in ITEMS:\n",
    "    if model.x[item] == 1:\n",
    "        print(item)\n",
    "print(f'\\n')\n",
    "print(f'Their combined usefulness is {model.obj()}')"
   ]
  }
 ],
 "metadata": {
  "kernelspec": {
   "display_name": "Python 3",
   "language": "python",
   "name": "python3"
  },
  "language_info": {
   "codemirror_mode": {
    "name": "ipython",
    "version": 3
   },
   "file_extension": ".py",
   "mimetype": "text/x-python",
   "name": "python",
   "nbconvert_exporter": "python",
   "pygments_lexer": "ipython3",
   "version": "3.7.6"
  },
  "varInspector": {
   "cols": {
    "lenName": 16,
    "lenType": 16,
    "lenVar": 40
   },
   "kernels_config": {
    "python": {
     "delete_cmd_postfix": "",
     "delete_cmd_prefix": "del ",
     "library": "var_list.py",
     "varRefreshCmd": "print(var_dic_list())"
    },
    "r": {
     "delete_cmd_postfix": ") ",
     "delete_cmd_prefix": "rm(",
     "library": "var_list.r",
     "varRefreshCmd": "cat(var_dic_list()) "
    }
   },
   "position": {
    "height": "203px",
    "left": "1586px",
    "right": "20px",
    "top": "75px",
    "width": "305px"
   },
   "types_to_exclude": [
    "module",
    "function",
    "builtin_function_or_method",
    "instance",
    "_Feature"
   ],
   "window_display": false
  }
 },
 "nbformat": 4,
 "nbformat_minor": 4
}
