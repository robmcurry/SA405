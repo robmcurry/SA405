{
 "cells": [
  {
   "cell_type": "markdown",
   "metadata": {},
   "source": [
    "### Lesson 5 HW\n",
    "#### Solution\n",
    "- Rader 2.42\n",
    "- We use a minimum cost network flow model to solve a shortest path problem"
   ]
  },
  {
   "cell_type": "code",
   "execution_count": 14,
   "metadata": {},
   "outputs": [],
   "source": [
    "def min_cost(nodes, arcs, distance, b):\n",
    "    \"\"\"\n",
    "    Build a minimum cost network flow model\n",
    "    \n",
    "    Keyword arguments:\n",
    "    nodes -- network nodes (list)\n",
    "    arcs -- directed arcs in the netowork (list of tuples)\n",
    "    distance -- per unit distance of each arc (dictionary with arcs as keys)\n",
    "    b -- supply-demand at each node (dictionary with nodes as keys)\n",
    "    \n",
    "    Return:\n",
    "    Pyomo model\n",
    "    \"\"\"\n",
    "    model = pyo.ConcreteModel()\n",
    "\n",
    "    model.x = pyo.Var(arcs,domain=pyo.NonNegativeReals)\n",
    "\n",
    "    def obj_rule(model):\n",
    "        return sum(distance[i,j]*model.x[i,j] for i,j in ARCS)\n",
    "    model.obj = pyo.Objective(rule=obj_rule,sense=pyo.minimize)\n",
    "\n",
    "    def flow_balance_rule(model,node):\n",
    "        return (sum(model.x[i,j] for i,j in arcs if i==node)\n",
    "                -sum(model.x[i,j] for i,j in arcs if j==node)\n",
    "                == b[node])\n",
    "    model.flow_balance = pyo.Constraint(nodes,rule=flow_balance_rule)\n",
    "    \n",
    "    return model"
   ]
  },
  {
   "cell_type": "code",
   "execution_count": 3,
   "metadata": {},
   "outputs": [],
   "source": [
    "import pyomo.environ as pyo"
   ]
  },
  {
   "cell_type": "code",
   "execution_count": 16,
   "metadata": {},
   "outputs": [
    {
     "name": "stdout",
     "output_type": "stream",
     "text": [
      "Cumulative shortest path distance is 27.0\n",
      "\n",
      "The flow over (1, 2) is 1.0\n",
      "The flow over (1, 4) is 5.0\n",
      "The flow over (2, 3) is 0.0\n",
      "The flow over (2, 4) is 0.0\n",
      "The flow over (2, 5) is 0.0\n",
      "The flow over (3, 5) is 1.0\n",
      "The flow over (4, 3) is 2.0\n",
      "The flow over (4, 6) is 1.0\n",
      "The flow over (4, 7) is 1.0\n",
      "The flow over (5, 6) is 0.0\n",
      "The flow over (6, 3) is 0.0\n",
      "The flow over (6, 7) is 0.0\n",
      "The flow over (7, 5) is 0.0\n"
     ]
    }
   ],
   "source": [
    "# sets\n",
    "NODES = [1,2,3,4,5,6,7]\n",
    "ARCS = [(1,2),(1,4),(2,3),(2,4),\n",
    "        (2,5),(3,5),(4,3),(4,6),\n",
    "        (4,7),(5,6),(6,3),(6,7),(7,5)]\n",
    "\n",
    "# parameters\n",
    "DISTANCE = {(1,2):2,(1,4):3,(2,3):2,(2,4):1,\n",
    "            (2,5):4,(3,5):2,(4,3):1,(4,6):4,\n",
    "            (4,7):2,(5,6):3,(6,3):1,(6,7):3,(7,5):2}\n",
    "B = {1:6,2:-1,3:-1,4:-1,5:-1,6:-1,7:-1}\n",
    "\n",
    "# build model\n",
    "model = min_cost(nodes=NODES,arcs=ARCS,\n",
    "                 distance=DISTANCE,b=B)\n",
    "\n",
    "# solve model\n",
    "solver_result = pyo.SolverFactory('glpk').solve(model)\n",
    "\n",
    "# Check if the model solved to optimality before printing solution\n",
    "solve_status = solver_result.solver.termination_condition\n",
    "if (solve_status==pyo.TerminationCondition.optimal):\n",
    "    print(f'Cumulative shortest path distance is {model.obj()}\\n')\n",
    "    for (i,j) in ARCS:\n",
    "       print(f'The flow over {(i,j)} is {model.x[i,j].value}')    \n",
    "else:\n",
    "    print(f'The solver status is {solve_status}')"
   ]
  },
  {
   "cell_type": "markdown",
   "metadata": {},
   "source": [
    "Shortest paths (recovered from the solution):\n",
    "\n",
    "Start,end,path:distance\n",
    "- 1,2,(1,2):2\n",
    "- 1,3,(1,4,3):4\n",
    "- 1,4,(1,4):3\n",
    "- 1,5,(1,4,3,5):6\n",
    "- 1,6,(1,4,5):7\n",
    "- 1,7,(1,4,7):5"
   ]
  },
  {
   "cell_type": "code",
   "execution_count": null,
   "metadata": {},
   "outputs": [],
   "source": []
  }
 ],
 "metadata": {
  "kernelspec": {
   "display_name": "Python 3",
   "language": "python",
   "name": "python3"
  },
  "language_info": {
   "codemirror_mode": {
    "name": "ipython",
    "version": 3
   },
   "file_extension": ".py",
   "mimetype": "text/x-python",
   "name": "python",
   "nbconvert_exporter": "python",
   "pygments_lexer": "ipython3",
   "version": "3.8.3"
  },
  "varInspector": {
   "cols": {
    "lenName": 16,
    "lenType": 16,
    "lenVar": 40
   },
   "kernels_config": {
    "python": {
     "delete_cmd_postfix": "",
     "delete_cmd_prefix": "del ",
     "library": "var_list.py",
     "varRefreshCmd": "print(var_dic_list())"
    },
    "r": {
     "delete_cmd_postfix": ") ",
     "delete_cmd_prefix": "rm(",
     "library": "var_list.r",
     "varRefreshCmd": "cat(var_dic_list()) "
    }
   },
   "types_to_exclude": [
    "module",
    "function",
    "builtin_function_or_method",
    "instance",
    "_Feature"
   ],
   "window_display": false
  }
 },
 "nbformat": 4,
 "nbformat_minor": 4
}
