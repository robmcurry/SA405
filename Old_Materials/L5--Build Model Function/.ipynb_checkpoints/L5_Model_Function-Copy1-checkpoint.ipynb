{
 "cells": [
  {
   "cell_type": "markdown",
   "metadata": {
    "hide_cell": true
   },
   "source": [
    "<h5 class='prehead'>SA405 &middot; Advanced Math Programming &middot; Fall 2020 &middot; Goran, Lourenco, Skipper</h5>\n",
    "\n",
    "<h5 class='lesson'>Lesson 5</h5>\n",
    "\n",
    "<h1 class='lesson_title'>Python Function to Build Abstract Model</h1>"
   ]
  },
  {
   "cell_type": "markdown",
   "metadata": {},
   "source": [
    "## This lesson..."
   ]
  },
  {
   "cell_type": "markdown",
   "metadata": {},
   "source": [
    "- We separate the model from the data by:\n",
    "  - putting the model into a Python function \n",
    "  - sending the data into the function as arguments to function parameters\n",
    "- We use the BlackGold network flow problem as an example and see:\n",
    "  - how to add upper bounds to indexed decision variables\n",
    "  - how to index over a list of tuples (ARCS)\n",
    "  - how to write a sum indexed over tuples where one of the values is fixed (to calculate \"flow in\" and \"flow out\" of a node)\n",
    "  "
   ]
  },
  {
   "cell_type": "markdown",
   "metadata": {},
   "source": [
    "## Black Gold"
   ]
  },
  {
   "cell_type": "markdown",
   "metadata": {},
   "source": [
    "*This version of the max flow formulation does not use the dummy arc from sink to source.*\n",
    "\n",
    "**Sets:**\n",
    "- *$N =$ the set of nodes  (Optional.  This set is never used in the model.*)\n",
    "- $T =$ the set of transshipment nodes ($T \\subseteq N$) (in this case, $T = \\{1,2,3,4\\}$)\n",
    "- $A =$ the set of directed arcs (pipes) $(i,j)$, for some $i,j \\in N$\n",
    "\n",
    "**Parameters:**\n",
    "- $c_{i,j} =$ the capacity of arc $(i,j)$, for all $(i,j) \\in A$\n",
    "\n",
    "**Decision Variables:**\n",
    "- $x_{i,j} =$ the amount of flow through arc $(i,j)$, for all $(i,j) \\in A$\n",
    "\n",
    "**Objective:**\n",
    "Maximize the flow through the network (which is captured by finding the flow out of  node 0)\n",
    "\n",
    "**Constraints:**\n",
    "- (1) Balance of flow through node $n$, for all $n \\in T$\n",
    "- (2) Enforce the capacity of arc $(i,j)$, for all $(i,j) \\in A$\n",
    "- (2) Nonnegative$^*$ flow on all arcs $(i,j) \\in A$"
   ]
  },
  {
   "cell_type": "markdown",
   "metadata": {},
   "source": [
    "Maximize $\\displaystyle F = \\sum_{(i,j)\\in A:i=0} x_{i,j}$\n",
    "\n",
    "Subject to\n",
    "- (1)  $\\displaystyle \\sum_{(i,j)\\in A:i=n} x_{i,j} - \\sum_{(i,j)\\in A:j=n} x_{i,j} = 0$, $~\\forall~ n \\in T$\n",
    "- (2)  $x_{i,j} \\leq c_{i,j}$, $~\\forall~ (i,j) \\in A$\n",
    "- (3)  $x_{i,j} \\geq 0$, $~\\forall~ (i,j) \\in A$  \n",
    "\n",
    "$^*$ Note that we don't need to require integer flows due to the *max flow integrality theorem*. "
   ]
  },
  {
   "cell_type": "markdown",
   "metadata": {},
   "source": [
    "## Python function to build abstract model"
   ]
  },
  {
   "cell_type": "markdown",
   "metadata": {},
   "source": [
    "- we send data (sets and parameter values) as arguments to the function\n",
    "- this separates the model from the data \n",
    "- we can put the model into a .py file, which we can `import` to use"
   ]
  },
  {
   "cell_type": "markdown",
   "metadata": {},
   "source": [
    "#### Confusing Terminology\n",
    " \n",
    "- Programming definitions:\n",
    "   - a **parameter** is a variable in a function definition\n",
    "   - an **argument** is the actual data that gets passed to the function\n",
    "- LP / IP definition:\n",
    "   - the **parameters** in an LP or IP are the constants, or numeric values, in the problem \n",
    "\n",
    "#### Function parameters\n",
    "\n",
    "- All data is passed into the function via parameters\n",
    "- The IP or LP sets and **parameters** are the **arguments** that are passed into the **parameters** of the Python function that builds the model\n",
    "- For the function parameters, I used the Python naming conventions for \"variables\"\n",
    "   - one or two words (no more than 3!)\n",
    "   - all lower case\n",
    "   - words separated by `_`\n",
    "- Whereas model parameters are constants, so I capitalized those \n",
    "- (For consistency, you may wish to capitalize both model parameters and function parameters, since they end up representing the same objects.)\n",
    "\n",
    "#### Return statement\n",
    "- The function returns the model.\n",
    "   - **The return statement is an easy line to forget and causes really strange looking errors.**\n",
    "   \n",
    "#### Commenting\n",
    "- This example demonstrates the Python \"docstring\" to comment functions\n",
    "- This allows anyone who uses the function to easily understand its behavior and expected parameters\n",
    "- docstrings have very specific formatting conventions\n",
    "   - Notice the triple quotes and lines/spacing\n",
    "   - Information in the docstring:\n",
    "       - the purpose of the function\n",
    "       - description of expected arguments\n",
    "       - what is returned by the function\n",
    "   - [See Python docstring documentation here](https://www.python.org/dev/peps/pep-0257/)\n"
   ]
  },
  {
   "cell_type": "code",
   "execution_count": 1,
   "metadata": {},
   "outputs": [],
   "source": [
    "def max_flow(source, internal_nodes, arcs, capacity):\n",
    "    \"\"\"\n",
    "    Build a max flow LP.\n",
    "    \n",
    "    Keyword arguments:\n",
    "    source -- the source node\n",
    "    internal_nodes -- all nodes except source and sink (list) \n",
    "    arcs -- directed arcs in the netowork (list of tuples)\n",
    "    capacity -- capacity of arcs (dictionary with arcs as keys)\n",
    "    \n",
    "    Return:\n",
    "    Pyomo model\n",
    "    \"\"\"\n",
    "    \n",
    "    model = pyo.ConcreteModel()\n",
    "\n",
    "    # add variables with bounds:  0 <= x[i,j] <= capacity[i,j]\n",
    "    def bounds_rule(model,i,j):\n",
    "        return (0,capacity[i,j])\n",
    "    model.x = pyo.Var(arcs, \n",
    "                      domain=pyo.NonNegativeReals,\n",
    "                      bounds=bounds_rule)\n",
    "\n",
    "    # add objective function (sum over flow out of the source node)\n",
    "    def obj_rule(model):\n",
    "        return sum(model.x[i,j] for i,j in arcs if i==source)\n",
    "    model.obj = pyo.Objective(rule=obj_rule, sense=pyo.maximize)\n",
    "\n",
    "    # add balance of flow constraints (indexed over transshipment nodes)\n",
    "    def flow_balance_rule(model,node):\n",
    "        return (sum(model.x[i,j] for (i,j) in arcs if i==node) \n",
    "                == sum(model.x[i,j] for (i,j) in arcs if j==node))\n",
    "    model.flow_balance_constraint = pyo.Constraint(internal_nodes,\n",
    "                                                   rule=flow_balance_rule)\n",
    "    \n",
    "    # DON'T FORGET THE RETURN STATEMENT!!!\n",
    "    return model"
   ]
  },
  {
   "cell_type": "markdown",
   "metadata": {},
   "source": [
    "You can access docstring information about a function using `help(function_name)`:"
   ]
  },
  {
   "cell_type": "code",
   "execution_count": 2,
   "metadata": {},
   "outputs": [
    {
     "name": "stdout",
     "output_type": "stream",
     "text": [
      "Help on function max_flow in module __main__:\n",
      "\n",
      "max_flow(source, internal_nodes, arcs, capacity)\n",
      "    Build a max flow LP.\n",
      "    \n",
      "    Keyword arguments:\n",
      "    SOURCE -- the source node\n",
      "    INTERNAL_NODES -- all nodes except source and sink (list) \n",
      "    ARCS -- directed arcs in the netowork (list of tuples)\n",
      "    CAPACITY -- capacity of arcs (dictionary with ARCS as keys)\n",
      "    \n",
      "    Return:\n",
      "    Pyomo model\n",
      "\n"
     ]
    }
   ],
   "source": [
    "help(max_flow)"
   ]
  },
  {
   "cell_type": "markdown",
   "metadata": {},
   "source": [
    "#### New syntax in the network model above:\n",
    "- The capacity constraints are incorporated as **upper bounds on decision variables** \n",
    "   -  we use the `bound_rule` helper function\n",
    "   - `return (0,CAPACITY[i,j])` defines these bounds on `model.x[i,j]`:\n",
    "      - lower bound: `0`\n",
    "      - upper bound: `CAPACITY[i,j]`\n",
    "      \n",
    "- When we index over `ARCS`, we have to use `i,j` as index variables \n",
    "   - (rather than a single index variable, like `arc`)\n",
    "\n",
    "- `sum(model.x[i,j] for (i,j) in ARCS if i==node)` \n",
    "   - sum over the arcs flowing out of the node called `node` \n",
    "   - (i.e., the arcs that have `node` as the first index)"
   ]
  },
  {
   "cell_type": "markdown",
   "metadata": {},
   "source": [
    "## The rest of the code"
   ]
  },
  {
   "cell_type": "markdown",
   "metadata": {},
   "source": [
    "#### Recompiling code\n",
    "- Keep the `import` statement in a separate cell so you don't have to keep running it  (it's slow)\n",
    "- Recompile the model function whenever you change it (but otherwise it doesn't need to be recompiled)"
   ]
  },
  {
   "cell_type": "code",
   "execution_count": 3,
   "metadata": {},
   "outputs": [],
   "source": [
    "# import Pyomo\n",
    "import pyomo.environ as pyo"
   ]
  },
  {
   "cell_type": "markdown",
   "metadata": {},
   "source": [
    "#### Passing data to the model function\n",
    "- The parameters that are scoped to the code outside of the `max_flow` function are CAPITALIZED, for clarity\n",
    "- Study the function call to build the model:  `model = max_flow(...)`\n",
    "    - The arguments are assigned to the function parameters via the names of the parameters in the function definition:  `function_parameter=ARGUMENT_FROM_OUTER_CODE`\n",
    "    - Order of arguments doesn't matter since we are using \"Keyword Arguments\", which we can specify by name rather than order.\n",
    "    \n",
    "#### Check for optimality & print\n",
    "- Attempting to print a solution to a model that hasn't solved results in strange errors\n",
    "- Check for \"optimal\" solver status before printing\n",
    "- If status isn't \"optimal\", print status to help you understand what's wrong\n",
    "     - Remember you can use `pyo.SolverFactory('glpk').solve(model, tee=True)` to see the output of the solver while it is running.\n"
   ]
  },
  {
   "cell_type": "code",
   "execution_count": 4,
   "metadata": {},
   "outputs": [
    {
     "name": "stdout",
     "output_type": "stream",
     "text": [
      "Max flow is 17.0\n",
      "\n",
      "The flow over (0, 1) is 9.0\n",
      "The flow over (0, 3) is 8.0\n",
      "The flow over (1, 2) is 5.0\n",
      "The flow over (1, 4) is 4.0\n",
      "The flow over (2, 5) is 10.0\n",
      "The flow over (3, 2) is 5.0\n",
      "The flow over (3, 4) is 3.0\n",
      "The flow over (4, 5) is 7.0\n"
     ]
    }
   ],
   "source": [
    "# Sets\n",
    "TNODES = [1,2,3,4]\n",
    "ARCS = [(0,1),(0,3),(1,2),(1,4),(2,5),(3,2),(3,4),(4,5)]\n",
    "\n",
    "# Parameters\n",
    "CAPACITY = {(0,1):9,(0,3):8,(1,2):5,(1,4):7,(2,5):10,(3,2):10,(3,4):7,(4,5):12}\n",
    "SOURCE = 0  # This is the source node\n",
    "\n",
    "# Call the function to build the model; pass model data as arguments\n",
    "# (when we use function parameter names, order of arguments doesn't matter)\n",
    "model = max_flow(internal_nodes=TNODES, \n",
    "                 source=SOURCE, \n",
    "                 arcs=ARCS, \n",
    "                 capacity=CAPACITY)\n",
    "\n",
    "# solve model\n",
    "solver_result = pyo.SolverFactory('glpk').solve(model)\n",
    "\n",
    "# Check if the model solved to optimality before printing solution\n",
    "solve_status = solver_result.solver.termination_condition\n",
    "if (solve_status=='optimal'):\n",
    "    print(f'Max flow is {model.obj()}\\n')\n",
    "    for (i,j) in ARCS:\n",
    "       print(f'The flow over {(i,j)} is {model.x[i,j].value}')    \n",
    "else:\n",
    "    print(f'The solver status is {solve_status}')"
   ]
  },
  {
   "cell_type": "markdown",
   "metadata": {},
   "source": [
    "## IMPORTANT for debugging\n",
    "- **Build your model cell-by-cell (as usual) before cutting and pasting to make the function**\n",
    "- This makes debugging soooo much easier\n",
    "\n",
    "## Things to check\n",
    "- Does your model function have a return statement?\n",
    "- Are your function parameter names consistent in the function definition and in the function call?"
   ]
  },
  {
   "cell_type": "code",
   "execution_count": null,
   "metadata": {},
   "outputs": [],
   "source": []
  }
 ],
 "metadata": {
  "kernelspec": {
   "display_name": "Python 3",
   "language": "python",
   "name": "python3"
  },
  "language_info": {
   "codemirror_mode": {
    "name": "ipython",
    "version": 3
   },
   "file_extension": ".py",
   "mimetype": "text/x-python",
   "name": "python",
   "nbconvert_exporter": "python",
   "pygments_lexer": "ipython3",
   "version": "3.8.3"
  },
  "varInspector": {
   "cols": {
    "lenName": 16,
    "lenType": 16,
    "lenVar": 40
   },
   "kernels_config": {
    "python": {
     "delete_cmd_postfix": "",
     "delete_cmd_prefix": "del ",
     "library": "var_list.py",
     "varRefreshCmd": "print(var_dic_list())"
    },
    "r": {
     "delete_cmd_postfix": ") ",
     "delete_cmd_prefix": "rm(",
     "library": "var_list.r",
     "varRefreshCmd": "cat(var_dic_list()) "
    }
   },
   "position": {
    "height": "203px",
    "left": "1586px",
    "right": "20px",
    "top": "75px",
    "width": "305px"
   },
   "types_to_exclude": [
    "module",
    "function",
    "builtin_function_or_method",
    "instance",
    "_Feature"
   ],
   "window_display": false
  }
 },
 "nbformat": 4,
 "nbformat_minor": 4
}
