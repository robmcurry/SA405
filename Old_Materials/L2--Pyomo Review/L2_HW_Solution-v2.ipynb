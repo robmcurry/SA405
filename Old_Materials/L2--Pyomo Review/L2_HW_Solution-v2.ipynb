{
 "cells": [
  {
   "cell_type": "markdown",
   "metadata": {
    "hide_cell": true
   },
   "source": [
    "<h5 class='prehead'>SA405 &middot; Advanced Math Programming &middot; Fall 2020 &middot; Goran, Lourenco, Skipper</h5>\n",
    "\n",
    "<h5 class='lesson'>Lesson 2: Pyomo Review</h5>\n",
    "\n",
    "<h1 class='lesson_title'>Homework</h1>"
   ]
  },
  {
   "cell_type": "markdown",
   "metadata": {},
   "source": [
    "**(1)**  Implement the abstract model provided below using the same format as in Lesson 2. Implement each line of code in its own cell, running the cells as you go.  Practice using `model.display()`, `print(model.obj.expr)`, and `print(model.constraint_name['nutrient_name'].expr)` to view your model as you go."
   ]
  },
  {
   "cell_type": "markdown",
   "metadata": {},
   "source": [
    "**Sets**\n",
    "- $I=$ set of feed ingredients ({oats, corn, alfalfa})\n",
    "- $N=$ set of RDA nutrients ({protein, fat, fiber})"
   ]
  },
  {
   "cell_type": "code",
   "execution_count": 1,
   "metadata": {},
   "outputs": [],
   "source": [
    "# Set I \n",
    "# (Choose short, descriptive names for your sets and \n",
    "#  parameters using Python naming conventions. \n",
    "#  They should not be the single letter names \n",
    "#  used in the model.)"
   ]
  },
  {
   "cell_type": "code",
   "execution_count": 2,
   "metadata": {},
   "outputs": [],
   "source": [
    "# Set I will be called INGR. Definition is below\n",
    "INGR = ['oats','corn','alfalfa']"
   ]
  },
  {
   "cell_type": "code",
   "execution_count": 3,
   "metadata": {},
   "outputs": [],
   "source": [
    "# Set N  will be called NUTR\n",
    "NUTR = ['protein','fat','fiber']"
   ]
  },
  {
   "cell_type": "markdown",
   "metadata": {},
   "source": [
    "**Parameters**\n",
    "- $c_i =$ the cost per ton of ingredient $i$, for all $i \\in I$\n",
    "- $a_{i,n} =$ the RDA amount of nutrient $n$ possessed by ingredient $i$, for all $i \\in I, n \\in N$\n",
    "- $l_n =$ the lower bound on the percent RDA of nutrient $n$ that must be in the feed, for $n \\in N$\n",
    "- $u_n =$ upper bound on the percent RDA of nutrient $n$ that can be in the feed, for $n \\in N$"
   ]
  },
  {
   "cell_type": "code",
   "execution_count": 4,
   "metadata": {},
   "outputs": [],
   "source": [
    "# c_i will be called COST\n",
    "COST = {'oats':80, 'corn':110  ,'alfalfa':90 }"
   ]
  },
  {
   "cell_type": "code",
   "execution_count": 5,
   "metadata": {},
   "outputs": [],
   "source": [
    "# a_{i,n} will be caled AMMOUNT\n",
    "AMOUNT = {('oats','protein'):0.13, ('oats','fat'):0.22, ('oats','fiber'):0.4,\n",
    "          ('corn','protein'):0.07, ('corn','fat'): 0.10, ('corn','fiber'):0.30,\n",
    "          ('alfalfa','protein'):0.04, ('alfalfa','fat'):0.15, ('alfalfa', 'fiber'):0.60  }"
   ]
  },
  {
   "cell_type": "code",
   "execution_count": 6,
   "metadata": {},
   "outputs": [],
   "source": [
    "# l_n  (We must define a lower bound for EVERY n in N) will be called LOWER_BOUND\n",
    "LOWER_BOUND = {'protein':0.08 , 'fat':0.12 , 'fiber':0 }"
   ]
  },
  {
   "cell_type": "code",
   "execution_count": 7,
   "metadata": {},
   "outputs": [],
   "source": [
    "# u_n  (We must define an upper bound for EVERY n in N) will be caled UPPER_BOUND\n",
    "UPPER_BOUND = {'protein':1 , 'fat':0.16 , 'fiber':0.5 }"
   ]
  },
  {
   "cell_type": "markdown",
   "metadata": {},
   "source": [
    "**Build model**"
   ]
  },
  {
   "cell_type": "code",
   "execution_count": 8,
   "metadata": {},
   "outputs": [],
   "source": [
    "# import Pyomo\n",
    "import pyomo.environ as pyo"
   ]
  },
  {
   "cell_type": "code",
   "execution_count": 9,
   "metadata": {},
   "outputs": [],
   "source": [
    "# instantiate ConcreteModel\n",
    "model = pyo.ConcreteModel()"
   ]
  },
  {
   "cell_type": "markdown",
   "metadata": {},
   "source": [
    "**Decision variables**\n",
    "- $x_i =$ the fraction(portion) of a ton of ingredient i to  put into one ton of feed, for all $i \\in I$\n",
    "- The decision variables are nonngeative reals which is indicated by the following constraint:  $x_i \\geq 0, \\forall i \\in I$ and is incorporated into the definition of the variables in the 'domain' part."
   ]
  },
  {
   "cell_type": "code",
   "execution_count": 10,
   "metadata": {},
   "outputs": [],
   "source": [
    "# add x_i\n",
    "model.x = pyo.Var(INGR, domain=pyo.NonNegativeReals)"
   ]
  },
  {
   "cell_type": "code",
   "execution_count": 11,
   "metadata": {},
   "outputs": [
    {
     "name": "stdout",
     "output_type": "stream",
     "text": [
      "Model unknown\n",
      "\n",
      "  Variables:\n",
      "    x : Size=3, Index=x_index\n",
      "        Key     : Lower : Value : Upper : Fixed : Stale : Domain\n",
      "        alfalfa :     0 :  None :  None : False :  True : NonNegativeReals\n",
      "           corn :     0 :  None :  None : False :  True : NonNegativeReals\n",
      "           oats :     0 :  None :  None : False :  True : NonNegativeReals\n",
      "\n",
      "  Objectives:\n",
      "    None\n",
      "\n",
      "  Constraints:\n",
      "    None\n"
     ]
    }
   ],
   "source": [
    "# checking the model at this stage\n",
    "model.display()"
   ]
  },
  {
   "cell_type": "markdown",
   "metadata": {},
   "source": [
    "**Objective** \n",
    "- Minimize $\\sum_{i \\in I} c_i x_i$"
   ]
  },
  {
   "cell_type": "markdown",
   "metadata": {},
   "source": [
    "## objective function helper function\n",
    "def obj_rule(model):\n",
    "    return sum(COST[ingr]*model.x[ingr] for ingr in INGR)"
   ]
  },
  {
   "cell_type": "code",
   "execution_count": 12,
   "metadata": {},
   "outputs": [],
   "source": [
    "#Add objective function\n",
    "def obj_rule(model):\n",
    "    return sum(COST[ingr]*model.x[ingr] for ingr in INGR)\n",
    "model.obj = pyo.Objective(rule=obj_rule, sense=pyo.minimize)"
   ]
  },
  {
   "cell_type": "code",
   "execution_count": 13,
   "metadata": {},
   "outputs": [
    {
     "name": "stdout",
     "output_type": "stream",
     "text": [
      "80*x[oats] + 110*x[corn] + 90*x[alfalfa]\n"
     ]
    }
   ],
   "source": [
    "# View the objective function\n",
    "print(model.obj.expr)"
   ]
  },
  {
   "cell_type": "markdown",
   "metadata": {},
   "source": [
    "**Constraints**\n",
    "Subject to\n",
    "- $\\sum_{i \\in I} x_i = 1$  (one ton)\n",
    "- $\\sum_{i \\in I} a_{i,n} x_i \\geq l_n,~~\\forall n \\in N$  (lower bound)\n",
    "- $\\sum_{i \\in I} a_{i,n} x_i \\leq u_n,~~\\forall n \\in N$  (upper bound)"
   ]
  },
  {
   "cell_type": "code",
   "execution_count": 14,
   "metadata": {},
   "outputs": [],
   "source": [
    "# one ton constraint\n",
    "def one_ton_rule(model):\n",
    "    return sum(model.x[ingr] for ingr in INGR) == 1\n",
    "model.one_ton_constraint = pyo.Constraint(rule=one_ton_rule)"
   ]
  },
  {
   "cell_type": "code",
   "execution_count": 15,
   "metadata": {},
   "outputs": [],
   "source": [
    "# lower bound helper function\n",
    "def lower_bound_rule(model, nutr):\n",
    "    return sum(AMOUNT[ingr,nutr]*model.x[ingr] for ingr in INGR) >= LOWER_BOUND[nutr]"
   ]
  },
  {
   "cell_type": "code",
   "execution_count": 16,
   "metadata": {},
   "outputs": [],
   "source": [
    "# add lower bound constraint\n",
    "model.lower_bound_constraint = pyo.Constraint(NUTR, rule=lower_bound_rule)"
   ]
  },
  {
   "cell_type": "code",
   "execution_count": 17,
   "metadata": {},
   "outputs": [],
   "source": [
    "# upper bound helper function\n",
    "def upper_bound_rule(model, nutr):\n",
    "    return sum(AMOUNT[ingr,nutr]*model.x[ingr] for ingr in INGR) <= UPPER_BOUND[nutr]"
   ]
  },
  {
   "cell_type": "code",
   "execution_count": 18,
   "metadata": {},
   "outputs": [],
   "source": [
    "# add upper bound constraint\n",
    "model.upper_bound_constraint = pyo.Constraint(NUTR, rule=upper_bound_rule)"
   ]
  },
  {
   "cell_type": "markdown",
   "metadata": {},
   "source": [
    "**Solve**"
   ]
  },
  {
   "cell_type": "code",
   "execution_count": 19,
   "metadata": {},
   "outputs": [
    {
     "name": "stdout",
     "output_type": "stream",
     "text": [
      "optimal\n"
     ]
    }
   ],
   "source": [
    "# solve model\n",
    "solver_result = pyo.SolverFactory('glpk').solve(model)#Check how the solver terminated\n",
    "print(solver_result.solver.termination_condition)"
   ]
  },
  {
   "cell_type": "code",
   "execution_count": 20,
   "metadata": {},
   "outputs": [
    {
     "name": "stdout",
     "output_type": "stream",
     "text": [
      "optimal\n"
     ]
    }
   ],
   "source": [
    "#Check how the solver terminated\n",
    "print(solver_result.solver.termination_condition)"
   ]
  },
  {
   "cell_type": "code",
   "execution_count": 21,
   "metadata": {},
   "outputs": [
    {
     "name": "stdout",
     "output_type": "stream",
     "text": [
      "Model unknown\n",
      "\n",
      "  Variables:\n",
      "    x : Size=3, Index=x_index\n",
      "        Key     : Lower : Value             : Upper : Fixed : Stale : Domain\n",
      "        alfalfa :     0 : 0.363636363636364 :  None : False : False : NonNegativeReals\n",
      "           corn :     0 : 0.287878787878788 :  None : False : False : NonNegativeReals\n",
      "           oats :     0 : 0.348484848484849 :  None : False : False : NonNegativeReals\n",
      "\n",
      "  Objectives:\n",
      "    obj : Size=1, Index=None, Active=True\n",
      "        Key  : Active : Value\n",
      "        None :   True : 92.27272727272737\n",
      "\n",
      "  Constraints:\n",
      "    one_ton_constraint : Size=1\n",
      "        Key  : Lower : Body               : Upper\n",
      "        None :   1.0 : 1.0000000000000009 :   1.0\n",
      "    lower_bound_constraint : Size=3\n",
      "        Key     : Lower : Body               : Upper\n",
      "            fat :  0.12 : 0.1600000000000002 :  None\n",
      "          fiber :   0.0 : 0.4439393939393944 :  None\n",
      "        protein :  0.08 : 0.0800000000000001 :  None\n",
      "    upper_bound_constraint : Size=3\n",
      "        Key     : Lower : Body               : Upper\n",
      "            fat :  None : 0.1600000000000002 :  0.16\n",
      "          fiber :  None : 0.4439393939393944 :   0.5\n",
      "        protein :  None : 0.0800000000000001 :   1.0\n"
     ]
    }
   ],
   "source": [
    "model.display()"
   ]
  },
  {
   "cell_type": "markdown",
   "metadata": {},
   "source": [
    "**Print solution**"
   ]
  },
  {
   "cell_type": "code",
   "execution_count": 22,
   "metadata": {},
   "outputs": [
    {
     "name": "stdout",
     "output_type": "stream",
     "text": [
      "The amount of the ingredients in one ton MIX are listed below\n",
      "x_oats = 0.348484848484849\n",
      "x_corn = 0.287878787878788\n",
      "x_alfalfa = 0.363636363636364\n"
     ]
    }
   ],
   "source": [
    "# Make a for loop over the ingredients and print how\n",
    "# much of each ingredient is used.  Use f-strings \n",
    "# to print.\n",
    "print(f\"The amount of the ingredients in one ton MIX are listed below\" )\n",
    "for ingr in INGR:\n",
    "    print(f\"x_{ingr} = {model.x[ingr].value}\")  \n"
   ]
  },
  {
   "cell_type": "code",
   "execution_count": 23,
   "metadata": {},
   "outputs": [
    {
     "name": "stdout",
     "output_type": "stream",
     "text": [
      " The cost of the MIX is 92.27272727272737\n"
     ]
    }
   ],
   "source": [
    "# Print the value of the objective function\n",
    "print(f' The cost of the MIX is {model.obj()}')"
   ]
  },
  {
   "cell_type": "markdown",
   "metadata": {},
   "source": [
    "**(2)** Copy the code into a 5-cell format as done at the bottom of Lesson 2: (1) import Pyomo (2) construct data (3) build model (4) solve (5) print solution.  Make sure everything still runs!"
   ]
  },
  {
   "cell_type": "code",
   "execution_count": 24,
   "metadata": {},
   "outputs": [],
   "source": [
    "#Import pyomo\n",
    "import pyomo.environ as pyo"
   ]
  },
  {
   "cell_type": "code",
   "execution_count": 25,
   "metadata": {},
   "outputs": [],
   "source": [
    "#Construct data\n",
    "\n",
    "#Sets\n",
    "INGR = ['oats','corn','alfalfa']\n",
    "\n",
    "NUTR = ['protein','fat','fiber']\n",
    "\n",
    "\n",
    "#Parameters\n",
    "COST = {'oats':80, 'corn':110  ,'alfalfa':90 }\n",
    "\n",
    "AMOUNT = {('oats','protein'):0.13, ('oats','fat'):0.22, ('oats','fiber'):0.4,\n",
    "          ('corn','protein'):0.07, ('corn','fat'): 0.10, ('corn','fiber'):0.30,\n",
    "          ('alfalfa','protein'):0.04, ('alfalfa','fat'):0.15, ('alfalfa', 'fiber'):0.60  }\n",
    "\n",
    "LOWER_BOUND = {'protein':0.08 , 'fat':0.12 , 'fiber':0 }\n",
    "\n",
    "UPPER_BOUND = {'protein':1 , 'fat':0.16 , 'fiber':0.5 }"
   ]
  },
  {
   "cell_type": "markdown",
   "metadata": {},
   "source": [
    "**Constraints**\n",
    "Subject to\n",
    "- $\\sum_{i \\in I} x_i = 1$  (one ton)\n",
    "- $\\sum_{i \\in I} a_{i,n} x_i \\geq l_n,~~\\forall n \\in N$  (lower bound)\n",
    "- $\\sum_{i \\in I} a_{i,n} x_i \\leq u_n,~~\\forall n \\in N$  (upper bound)"
   ]
  },
  {
   "cell_type": "code",
   "execution_count": 42,
   "metadata": {},
   "outputs": [],
   "source": [
    "#Build model\n",
    "model = pyo.ConcreteModel()\n",
    "\n",
    "#Add decision variables\n",
    "model.x = pyo.Var(INGR, domain=pyo.NonNegativeReals)\n",
    "\n",
    "#Add objective function\n",
    "def obj_rule(model):\n",
    "    return sum(COST[ingr]*model.x[ingr] for ingr in INGR)\n",
    "model.obj = pyo.Objective(rule=obj_rule, sense=pyo.minimize)\n",
    "\n",
    "#Add constraints\n",
    "# one ton constraint\n",
    "def one_ton_rule(model, i):\n",
    "    return sum(model.x[i] for ingr in INGR) == 1\n",
    "model.one_ton_constraint = pyo.Constraint(INGR, rule=one_ton_rule)"
   ]
  },
  {
   "cell_type": "code",
   "execution_count": 43,
   "metadata": {},
   "outputs": [
    {
     "name": "stdout",
     "output_type": "stream",
     "text": [
      "x[oats] + x[oats] + x[oats]  ==  1.0\n",
      "x[corn] + x[corn] + x[corn]  ==  1.0\n",
      "x[alfalfa] + x[alfalfa] + x[alfalfa]  ==  1.0\n"
     ]
    }
   ],
   "source": [
    "for i in INGR:\n",
    "    print(model.one_ton_constraint[i].expr)"
   ]
  },
  {
   "cell_type": "code",
   "execution_count": 28,
   "metadata": {},
   "outputs": [],
   "source": [
    "# lower bound constraint\n",
    "def lower_bound_rule(model, nutr):\n",
    "    return sum(AMOUNT[ingr,nutr]*model.x[ingr] for ingr in INGR) >= LOWER_BOUND[nutr]\n",
    "model.lower_bound_constraint = pyo.Constraint(NUTR, rule=lower_bound_rule)\n",
    "#  upper bound constraint\n",
    "def upper_bound_rule(model, nutr):\n",
    "    return sum(AMOUNT[ingr,nutr]*model.x[ingr] for ingr in INGR) <= UPPER_BOUND[nutr]\n",
    "model.upper_bound_constraint = pyo.Constraint(NUTR, rule=upper_bound_rule)"
   ]
  },
  {
   "cell_type": "code",
   "execution_count": 29,
   "metadata": {},
   "outputs": [
    {
     "name": "stdout",
     "output_type": "stream",
     "text": [
      "optimal\n"
     ]
    }
   ],
   "source": [
    "#Solve model\n",
    "solver_result = pyo.SolverFactory('glpk').solve(model)\n",
    "#Check if the solver found an optimal solution\n",
    "print(solver_result.solver.termination_condition)\n",
    "\n",
    "#or...\n",
    "\n",
    "#Solve model, displaying solver output\n",
    "#solver_result = pyo.SolverFactory('glpk').solve(model, tee=True)"
   ]
  },
  {
   "cell_type": "code",
   "execution_count": 30,
   "metadata": {},
   "outputs": [
    {
     "name": "stdout",
     "output_type": "stream",
     "text": [
      "The amount of the ingredients in one ton MIX are listed below\n",
      "x_oats = 0.348484848484849\n",
      "\n",
      "\n",
      "x_corn = 0.287878787878788\n",
      "\n",
      "\n",
      "x_alfalfa = 0.363636363636364\n",
      "\n",
      "\n",
      "Cost of the MIX = 92.27272727272737\n"
     ]
    }
   ],
   "source": [
    "#Print solution (if optimal solution was found)\n",
    "print(f\"The amount of the ingredients in one ton MIX are listed below\" )\n",
    "for ingr in INGR:\n",
    "    print(f\"x_{ingr} = {model.x[ingr].value}\")\n",
    "    print(f'\\n')\n",
    "print(f'Cost of the MIX = {model.obj()}')"
   ]
  },
  {
   "cell_type": "code",
   "execution_count": null,
   "metadata": {},
   "outputs": [],
   "source": []
  }
 ],
 "metadata": {
  "kernelspec": {
   "display_name": "Python 3",
   "language": "python",
   "name": "python3"
  },
  "language_info": {
   "codemirror_mode": {
    "name": "ipython",
    "version": 3
   },
   "file_extension": ".py",
   "mimetype": "text/x-python",
   "name": "python",
   "nbconvert_exporter": "python",
   "pygments_lexer": "ipython3",
   "version": "3.8.3"
  },
  "varInspector": {
   "cols": {
    "lenName": 16,
    "lenType": 16,
    "lenVar": 40
   },
   "kernels_config": {
    "python": {
     "delete_cmd_postfix": "",
     "delete_cmd_prefix": "del ",
     "library": "var_list.py",
     "varRefreshCmd": "print(var_dic_list())"
    },
    "r": {
     "delete_cmd_postfix": ") ",
     "delete_cmd_prefix": "rm(",
     "library": "var_list.r",
     "varRefreshCmd": "cat(var_dic_list()) "
    }
   },
   "types_to_exclude": [
    "module",
    "function",
    "builtin_function_or_method",
    "instance",
    "_Feature"
   ],
   "window_display": false
  }
 },
 "nbformat": 4,
 "nbformat_minor": 4
}
