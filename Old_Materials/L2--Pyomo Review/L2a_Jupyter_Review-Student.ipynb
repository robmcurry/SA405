{
 "cells": [
  {
   "cell_type": "markdown",
   "metadata": {
    "hide_cell": true
   },
   "source": [
    "<h5 class='prehead'>SA405 &middot; Advanced Math Programming &middot; Fall 2020 &middot; Goran, Lourenco, Skipper</h5>\n",
    "\n",
    "<h5 class='lesson'>Lesson 2a - Student Version</h5>\n",
    "\n",
    "<h1 class='lesson_title'>Jupyter Review and Shortcuts</h1>"
   ]
  },
  {
   "cell_type": "markdown",
   "metadata": {},
   "source": [
    "## This lesson..."
   ]
  },
  {
   "cell_type": "markdown",
   "metadata": {},
   "source": [
    "- The Jupyter environment  (You may remember this intro from SM286D.)\n",
    "- Jupyter keyboard shortcuts"
   ]
  },
  {
   "cell_type": "markdown",
   "metadata": {},
   "source": [
    "## What is Jupyter?"
   ]
  },
  {
   "cell_type": "markdown",
   "metadata": {},
   "source": [
    "- __Jupyter__ is an interactive computational environment where you can combine code, text and graphs in __notebooks__.\n",
    "\n",
    "- You're looking at a Jupyter notebook right now!\n",
    "\n",
    "- Until recently, Jupyter was called __IPython Notebook__. This historical tidbit might help if you're looking for other references.\n",
    "\n",
    "- We'll be using Jupyter with the __Python__ programming langugage in this course."
   ]
  },
  {
   "cell_type": "markdown",
   "metadata": {},
   "source": [
    "## Structure of a notebook"
   ]
  },
  {
   "cell_type": "markdown",
   "metadata": {},
   "source": [
    "- A notebook consists of a sequence of __cells__ of different types.\n",
    "\n",
    "- We'll use these types of cells frequently:\n",
    "    * code cells\n",
    "    * Markdown cells\n",
    "    \n",
    "- You can determine the type of a cell in the toolbar.\n",
    "\n",
    "- You can run a cell by:\n",
    "    - clicking the <kbd><i class=\"fa fa-step-forward\" aria-hidden=\"true\"></i> Run</kbd> button in the tool bar,\n",
    "    - selecting __Cell &#8594; Run Cells__ in the menu bar,\n",
    "    - pressing <kbd>Shift</kbd>+<kbd>Enter</kbd>"
   ]
  },
  {
   "cell_type": "markdown",
   "metadata": {},
   "source": [
    "### Code cells"
   ]
  },
  {
   "cell_type": "markdown",
   "metadata": {},
   "source": [
    "- In a __code cell__, you can edit and write Python code.\n",
    "\n",
    "- Let's write some Python code that prints a friendly message:"
   ]
  },
  {
   "cell_type": "code",
   "execution_count": null,
   "metadata": {},
   "outputs": [],
   "source": [
    "print('Hello world!')"
   ]
  },
  {
   "cell_type": "markdown",
   "metadata": {},
   "source": [
    "- The `print()` function prints to the screen whatever is inside the parentheses.\n",
    "\n",
    "- Note that a code cell has \n",
    "    - an __input__ section containing your code, \n",
    "    - an __output__ section after executing the cell."
   ]
  },
  {
   "cell_type": "markdown",
   "metadata": {},
   "source": [
    "### Markdown cells"
   ]
  },
  {
   "cell_type": "markdown",
   "metadata": {},
   "source": [
    "- In a __Markdown cell__, you can enter text to write notes about your code and document your workflow.\n",
    "\n",
    "- For example, this cell is a Markdown cell.\n",
    "\n",
    "- The __Markdown__ language is a popular way to provide formatting (e.g. bold, italics, lists) to plain text. Use Google to find documentation and tutorials. [Here's a pretty good cheat sheet.](https://github.com/adam-p/markdown-here/wiki/Markdown-Cheatsheet)\n",
    "\n",
    "- For now, here are a few basic, useful Markdown constructs:\n",
    "\n",
    "```\n",
    "You can format text as italic with *asterisks* or _underscores_.\n",
    "\n",
    "You can format text as bold with **double asterisks** or __double underscores__.\n",
    "\n",
    "To write an bulleted list, use *, -, or + as bullets, like this:\n",
    "\n",
    "* One\n",
    "* Two\n",
    "* Three\n",
    "```\n",
    "\n",
    "- To edit a Markdown cell, double-click it. When you're done editing it, run the cell. \n",
    "\n",
    "- Try it in the cell below:"
   ]
  },
  {
   "cell_type": "markdown",
   "metadata": {},
   "source": [
    "*Double-click to edit this cell. Try out Markdown here.*"
   ]
  },
  {
   "cell_type": "markdown",
   "metadata": {},
   "source": [
    "## Manipulating cells"
   ]
  },
  {
   "cell_type": "markdown",
   "metadata": {},
   "source": [
    "- You can insert a new cell by selecting __Insert &#8594; Insert Cell Above/Below__ in the menu bar.\n",
    "\n",
    "- You can copy and paste cells using the __Edit__ menu.\n",
    "\n",
    "- You can also split, merge, move, and delete cells using the __Edit__ menu."
   ]
  },
  {
   "cell_type": "markdown",
   "metadata": {},
   "source": [
    "## Saving your notebook"
   ]
  },
  {
   "cell_type": "markdown",
   "metadata": {},
   "source": [
    "- Jupyter autosaves your notebook every few minutes.\n",
    "\n",
    "- To manually save, click the <kbd><i class=\"fa fa-floppy-o\"></i></kbd> icon in the toolbar, or select __File &#8594; Save and Checkpoint__.\n",
    "\n",
    "- To close the notebook, select __File &#8594; Close and Halt__.\n",
    "    - <span class=\"rred\">You should always close the notebook this way!</span>\n",
    "    - Just closing the tab/window will leave the notebook running in the background.\n",
    "    - You can get a list of running notebooks in the __Running__ tab of the Jupyter dashboard (the main Jupyter screen)."
   ]
  },
  {
   "cell_type": "markdown",
   "metadata": {},
   "source": [
    "# Jupyter keyboard shortcuts"
   ]
  },
  {
   "cell_type": "markdown",
   "metadata": {},
   "source": [
    "- There are many keyboard shortcuts for navigating and editing Jupyter notebooks. You can get away without using any shortcuts, but you might find a few here that save you a lot of time.\n",
    "- Jupyter has two modes:  **command mode** for  and **edit mode**.  These shortcuts allow you to switch between the modes.\n",
    "    - `esc`: enter command mode to do notebook level actions: navigating between cells, inserting and deleting cells\n",
    "    - `enter`: enter edit mode to type in a cell"
   ]
  },
  {
   "cell_type": "markdown",
   "metadata": {},
   "source": [
    "### Command mode"
   ]
  },
  {
   "cell_type": "markdown",
   "metadata": {},
   "source": [
    "- **Command mode** allows you to do notebook level actions and is indicated by a **blue left margin**.  \n",
    "- Here are a few shortcuts for command mode.  Again, these only work in **command mode** -- look for the blue margin.\n",
    "  - Use arrows to navigate up and down to different cells\n",
    "  - `shift`+`enter`:  (both keys at the same time) run current cell\n",
    "  - `A`: insert cell above\n",
    "  - `B`: insert cell below\n",
    "  - `C`: copy cell\n",
    "  - `V`: paste cell\n",
    "  - `D`,`D`: (hit `D` twice) delete selected cell\n",
    "* There are two cell modes:  **markdown mode** and **code mode**\n",
    "    * `M`:  change cell to markdown mode (for comments, like this cell)\n",
    "    * `Y`:  change cell to code mode"
   ]
  },
  {
   "cell_type": "markdown",
   "metadata": {},
   "source": [
    "### Edit mode"
   ]
  },
  {
   "cell_type": "markdown",
   "metadata": {},
   "source": [
    "- **Edit mode** allows you to edit the current cell and is indicated by a **green left margin**.  \n",
    "- Here are a few shortcuts for editing cells\n",
    "  * `cmd`+`/`: toggle comment line\n",
    "  * `cmd`+`]`: indent line\n",
    "  * `cmd`+`[`: unindent line\n",
    "  * (**`cmd` might be replaced by `ctrl` on a Windows machine!  Check it out in the Shortcut help menu, as explained below.**)\n",
    "* You can also use the normal keyboard editing short cuts, such as\n",
    "  - `ctrl`+`C`: copy\n",
    "  - `ctrl`+`V`: paste\n",
    "* Edit shortcuts work for code cells and markdown cells\n",
    "* (Of course you can also do all of this from the edit menu)"
   ]
  },
  {
   "cell_type": "markdown",
   "metadata": {},
   "source": [
    "### Shortcut Documentation"
   ]
  },
  {
   "cell_type": "markdown",
   "metadata": {},
   "source": [
    "* Get a quick look at keyboard shortcuts from the help menu above\n",
    "  - Shortcut: `H` in command mode \n",
    "* You can easily find more comprehensive `Jupyter notebook` [cheat sheets](  https://cheatography.com/weidadeyue/cheat-sheets/jupyter-notebook/pdf_bw/) online."
   ]
  },
  {
   "cell_type": "markdown",
   "metadata": {},
   "source": [
    "## Practice using keyboard shortcuts\n",
    "Try completing the following using **only shortcuts**.  Try not to touch your mouse!"
   ]
  },
  {
   "cell_type": "markdown",
   "metadata": {},
   "source": [
    "1. Using keyboard shortcuts: \n",
    "  - enter command mode (`esc`) and navigate to the cell below (arrows)\n",
    "  - insert new cells above (`A`) and below (`B`) that cell \n",
    "    - if you need to delete a cell somewhere, navigate to that cell and use `D`,`D` (in command mode)\n",
    "  - navigate to one of the new cells (arrows) and enter edit mode (`enter`)\n",
    "  - type the comment `# This is code cell` and run the cell (`shift`+`enter`)\n",
    "    - You should see a number appear in the brackets on the left when you run the cell"
   ]
  },
  {
   "cell_type": "code",
   "execution_count": null,
   "metadata": {},
   "outputs": [],
   "source": [
    "# Add cells above and below this one"
   ]
  },
  {
   "cell_type": "markdown",
   "metadata": {},
   "source": [
    "2. Using keyboard shortcuts:  \n",
    "  - enter command mode (`esc`) and navigate to the cell below (arrows)\n",
    "  - copy the cell below (`C`) and paste it four times (`V`)  \n",
    "  - navigate to the second of the five cells (arrows) and turn it into a markdown cell (`M`) \n",
    "    - run the cell (`shift`+`enter`)\n",
    "    - You will see that a single hashtag makes a big bold comment in markdown\n",
    "  - navigate to the third of the five cells (arrows) and turn it into a markdown cell (`M`)\n",
    "    - enter edit mode (`enter`)\n",
    "    - type `## This is a markdown cell with smaller bold text` and run the cell (`shift`+`enter`)\n",
    "    - after running the cell, you will automatically be in command mode again\n",
    "  - navigate to the fourth of the five cells (arrows) and turn it into a markdown cell (`M`)\n",
    "    - enter edit mode (`enter`)\n",
    "    - type `### This is a markdown cell with even smaller bold text` and run the cell (`shift`+`enter`)"
   ]
  },
  {
   "cell_type": "code",
   "execution_count": null,
   "metadata": {},
   "outputs": [],
   "source": [
    "# Copy me"
   ]
  },
  {
   "cell_type": "markdown",
   "metadata": {},
   "source": [
    "3. Using keyboard shortcuts:\n",
    "    - in command mode, and navigate to the cell below\n",
    "    - enter edit mode (`enter`) and type `this is a comment` \n",
    "    - you can do both of the following without navigating to the beginning of the line:\n",
    "        - make this line a comment (`cmd`+`/`)\n",
    "        - indent the line (`cmd`+`]`)  "
   ]
  },
  {
   "cell_type": "code",
   "execution_count": null,
   "metadata": {},
   "outputs": [],
   "source": []
  },
  {
   "cell_type": "markdown",
   "metadata": {},
   "source": [
    "4. Using keyboard shortcuts:\n",
    "  - in command mode, view the shortcut menu (`H`)\n",
    "  - look up how to merge cells using shortcut keys (this is in command mode)\n",
    "  - select the three cells below (you can use the mouse or you can navigate to the top one and use `shift`+`down arrow`\n",
    "  - use the shortcut key you looked up to merge the cells"
   ]
  },
  {
   "cell_type": "code",
   "execution_count": null,
   "metadata": {},
   "outputs": [],
   "source": [
    "# merge these cells"
   ]
  },
  {
   "cell_type": "code",
   "execution_count": null,
   "metadata": {},
   "outputs": [],
   "source": [
    "# merge these cells"
   ]
  },
  {
   "cell_type": "code",
   "execution_count": null,
   "metadata": {},
   "outputs": [],
   "source": [
    "# merge these cells"
   ]
  },
  {
   "cell_type": "markdown",
   "metadata": {},
   "source": [
    "5. From the help menu, look up how to split cells (this is in edit mode)\n",
    "  - Split the cell below"
   ]
  },
  {
   "cell_type": "code",
   "execution_count": null,
   "metadata": {},
   "outputs": [],
   "source": [
    "# split this cell\n",
    "\n",
    "# between the comments"
   ]
  },
  {
   "cell_type": "markdown",
   "metadata": {},
   "source": [
    "## Concluding remarks"
   ]
  },
  {
   "cell_type": "markdown",
   "metadata": {},
   "source": [
    "- You won't be tested on keyboard shortcuts\n",
    "- It's up to you how much (or how little) you want to incorporate keyboard shortcuts into your work flow  \n",
    "  - There is a startup cost to using shortcuts, because it takes some time to get used to them\n",
    "  - However, shortcuts can make you more efficient, and some people really like using them"
   ]
  }
 ],
 "metadata": {
  "kernelspec": {
   "display_name": "Python 3",
   "language": "python",
   "name": "python3"
  },
  "language_info": {
   "codemirror_mode": {
    "name": "ipython",
    "version": 3
   },
   "file_extension": ".py",
   "mimetype": "text/x-python",
   "name": "python",
   "nbconvert_exporter": "python",
   "pygments_lexer": "ipython3",
   "version": "3.8.3"
  },
  "varInspector": {
   "cols": {
    "lenName": 16,
    "lenType": 16,
    "lenVar": 40
   },
   "kernels_config": {
    "python": {
     "delete_cmd_postfix": "",
     "delete_cmd_prefix": "del ",
     "library": "var_list.py",
     "varRefreshCmd": "print(var_dic_list())"
    },
    "r": {
     "delete_cmd_postfix": ") ",
     "delete_cmd_prefix": "rm(",
     "library": "var_list.r",
     "varRefreshCmd": "cat(var_dic_list()) "
    }
   },
   "types_to_exclude": [
    "module",
    "function",
    "builtin_function_or_method",
    "instance",
    "_Feature"
   ],
   "window_display": false
  }
 },
 "nbformat": 4,
 "nbformat_minor": 4
}
