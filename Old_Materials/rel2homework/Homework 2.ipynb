{
 "cells": [
  {
   "cell_type": "markdown",
   "metadata": {},
   "source": [
    "## HOMEWORK 2"
   ]
  },
  {
   "cell_type": "code",
   "execution_count": null,
   "metadata": {},
   "outputs": [],
   "source": [
    "#Author: D. Gray Benson\n",
    "#Date: 26AUG2020\n",
    "#Edited: 26AUG2020\n",
    "\n",
    "#Homework 2: Abstract Model From Homework 1"
   ]
  },
  {
   "cell_type": "code",
   "execution_count": null,
   "metadata": {},
   "outputs": [],
   "source": [
    "import pyomo.environ as pyo"
   ]
  },
  {
   "cell_type": "code",
   "execution_count": null,
   "metadata": {},
   "outputs": [],
   "source": [
    "#initialize an abstract model called HW\n",
    "HW = pyo.AbstractModel()\n",
    "\n",
    "#Define sets\n",
    "HW.ingredients = pyo.Set()\n",
    "HW.types = pyo.Set()\n",
    "\n",
    "#Define parameters\n",
    "HW.COST = pyo.Param(HW.ingredients)\n",
    "\n",
    "HW.RDA_UPPER = pyo.Param(HW.types)\n",
    "\n",
    "HW.RDA_LOWER = pyo.Param(HW.types)\n",
    "\n",
    "HW.MAX_AMOUNT = pyo.Param()\n",
    "\n",
    "HW.RDA_AMOUNT = pyo.Param(HW.ingredients, HW.types)\n",
    "\n",
    "#Define decision variables\n",
    "HW.x = pyo.Var(HW.ingredients, domain=pyo.NonNegativeReals)"
   ]
  },
  {
   "cell_type": "code",
   "execution_count": null,
   "metadata": {},
   "outputs": [],
   "source": [
    "#Define objective function \n",
    "def totalcost(HW):\n",
    "    return pyo.summation(HW.COST, HW.x)\n",
    "\n",
    "HW.mincost = pyo.Objective(\n",
    "    rule = totalcost,\n",
    "    sense = pyo.minimize)\n"
   ]
  },
  {
   "cell_type": "code",
   "execution_count": null,
   "metadata": {},
   "outputs": [],
   "source": [
    "#Upper RDA constraint\n",
    "def upper(HW,j):\n",
    "    return sum(HW.RDA_AMOUNT[i,j] * HW.x[i] for i in HW.ingredients) <= HW.RDA_UPPER[j]\n",
    "HW.rdaupper = pyo.Constraint(HW.types, rule=upper)\n",
    "\n",
    "#Lower RDA constraint\n",
    "def lower(HW,j):\n",
    "    return sum(HW.RDA_AMOUNT[i,j] * HW.x[i] for i in HW.ingredients) >= HW.RDA_LOWER[j]\n",
    "HW.rdalower = pyo.Constraint(HW.types, rule=lower)\n",
    "\n",
    "#Max amount constraint\n",
    "\n",
    "#def one_ton_rule(HW):\n",
    "#    return sum(HW.x[ingr] for ingr in HW.ingredients) == 1\n",
    "#HW.maxamt = pyo.Constraint(rule=one_ton_rule)\n",
    "\n",
    "#def max_hw(HW):\n",
    "#    return sum(HW.x[i] for i in HW.ingredients) == HW.MAX_AMOUNT\n",
    "#HW.maxamt = pyo.Constraint(rule=max_hw)\n",
    "\n",
    "#Max amount constraint\n",
    "def max_hw(HW):\n",
    "    return pyo.summation(HW.x) == HW.MAX_AMOUNT\n",
    "HW.maxamt = pyo.Constraint(rule=max_hw)"
   ]
  },
  {
   "cell_type": "code",
   "execution_count": null,
   "metadata": {},
   "outputs": [],
   "source": [
    "HW.mincost.display()"
   ]
  },
  {
   "cell_type": "code",
   "execution_count": null,
   "metadata": {},
   "outputs": [],
   "source": [
    "runHW = HW.create_instance(\"hw2.dat\")"
   ]
  },
  {
   "cell_type": "code",
   "execution_count": null,
   "metadata": {},
   "outputs": [],
   "source": [
    "runHWresults = pyo.SolverFactory('glpk').solve(runHW)\n",
    "\n",
    "print(runHWresults.solver.termination_condition)"
   ]
  },
  {
   "cell_type": "code",
   "execution_count": null,
   "metadata": {},
   "outputs": [],
   "source": [
    "runHW.display()"
   ]
  },
  {
   "cell_type": "code",
   "execution_count": null,
   "metadata": {},
   "outputs": [],
   "source": []
  }
 ],
 "metadata": {
  "kernelspec": {
   "display_name": "Python 3",
   "language": "python",
   "name": "python3"
  },
  "language_info": {
   "codemirror_mode": {
    "name": "ipython",
    "version": 3
   },
   "file_extension": ".py",
   "mimetype": "text/x-python",
   "name": "python",
   "nbconvert_exporter": "python",
   "pygments_lexer": "ipython3",
   "version": "3.6.9"
  }
 },
 "nbformat": 4,
 "nbformat_minor": 4
}
