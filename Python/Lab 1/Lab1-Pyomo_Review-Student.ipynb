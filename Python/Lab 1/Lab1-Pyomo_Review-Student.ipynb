{
 "cells": [
  {
   "cell_type": "markdown",
   "metadata": {
    "hide_cell": true
   },
   "source": [
    "<h5 class='prehead'>SA405 &middot; Advanced Math Programming &middot; Fall 2021 &middot; Curry, Lourenco</h5>\n",
    "\n",
    "<h5 class='lesson'>Lab 1: Review of Python Pyomo</h5>\n",
    "\n",
    "<h1 class='lesson_title'>Pyomo Review</h1>"
   ]
  },
  {
   "cell_type": "markdown",
   "metadata": {},
   "source": [
    "## This lesson..."
   ]
  },
  {
   "cell_type": "markdown",
   "metadata": {},
   "source": [
    "1)Review some basic helpful Python Jupyter Notebook commands\n",
    "\n",
    "2)Implement the abstract model of the IP from Lesson 1 (listed below) in Pyomo:\n",
    "- Load the data into Python data structures\n",
    "- Build a Pyomo model\n",
    "- Solve the model\n",
    "- Print the solution\n",
    "\n",
    "**Instructions:** Read everything.  Run each line of code as you go.  Complete code as directed.\n",
    "\n",
    "3) Try a problem yourself"
   ]
  },
  {
   "cell_type": "markdown",
   "metadata": {},
   "source": [
    "## Part 1: Basic Jupyter Notebook Review"
   ]
  },
  {
   "cell_type": "markdown",
   "metadata": {},
   "source": [
    "You should remember using Jupyter Notebook in both SM286D and SA305. Here we will just post some brief shortcuts that may make your life easier when using Jupyter."
   ]
  },
  {
   "cell_type": "markdown",
   "metadata": {},
   "source": [
    "- **Command mode** allows you to do notebook level actions and is indicated by a **blue left margin**.  \n",
    "- Here are a few shortcuts for command mode.  Again, these only work in **command mode** -- look for the blue margin.\n",
    "  - Use arrows to navigate up and down to different cells\n",
    "  - `shift`+`enter`:  (both keys at the same time) run current cell\n",
    "  - `A`: insert cell above\n",
    "  - `B`: insert cell below\n",
    "  - `C`: copy cell\n",
    "  - `V`: paste cell\n",
    "  - `D`,`D`: (hit `D` twice) delete selected cell\n",
    "* There are two cell modes:  **markdown mode** and **code mode**\n",
    "    * `M`:  change cell to markdown mode (for comments, like this cell)\n",
    "    * `Y`:  change cell to code mode"
   ]
  },
  {
   "cell_type": "markdown",
   "metadata": {},
   "source": [
    "- **Edit mode** allows you to edit the current cell and is indicated by a **green left margin**.  \n",
    "- Here are a few shortcuts for editing cells\n",
    "  * `cmd`+`/`: toggle comment line\n",
    "  * `cmd`+`]`: indent line\n",
    "  * `cmd`+`[`: unindent line\n",
    "* You can also use the normal keyboard editing short cuts, such as\n",
    "  - `ctrl`+`C`: copy\n",
    "  - `ctrl`+`V`: paste\n",
    "* Edit shortcuts work for code cells and markdown cells\n",
    "* (Of course you can also do all of this from the edit menu)"
   ]
  },
  {
   "cell_type": "markdown",
   "metadata": {},
   "source": [
    "## Part 2: Pyomo model"
   ]
  },
  {
   "cell_type": "markdown",
   "metadata": {},
   "source": [
    "We will implement the following parameterized IP model from Lesson 1.  Refer to Lesson 1 for the data.\n",
    "\n",
    "Sets\n",
    "* $I := $ set of items that might go into the backpack  ({rope, matches, tent, sleeping bag, hammock, granola bar})\n",
    "* $Q := $ set of item qualities that must be restricted ({volume, weight})\n",
    "\n",
    "Parameters\n",
    "* $a_{i,q} := $ amount of quality $q$ per item $i$, for $i \\in I$, $q \\in Q$\n",
    "* $b_q := $ maximum amount of quality $q$ allowed, for $q \\in Q$\n",
    "\n",
    "Decision variables\n",
    "* $x_i := 0/1$ variable that indicates whether or not to pack item $i$, for $i \\in I$\n",
    "\n",
    "Model\n",
    "* Maximize $\\displaystyle z := \\sum_{i \\in I} u_i x_i$\n",
    "\n",
    "* subject to\n",
    "\n",
    "    (1) $\\displaystyle \\sum_{i \\in I} a_{i,q} x_i \\leq b_q$, for all $q \\in Q$\n",
    "\n",
    "    (2) $x_i \\in \\{0,1\\}$, for all $i \\in I$\n",
    "\n",
    "where the objective function maximizes the usefulness of the packed items, constraint (1) enforces the volume and weight limits, and (2) imposes the binary requirement on the $x$ variables.\n"
   ]
  },
  {
   "cell_type": "markdown",
   "metadata": {},
   "source": [
    "## Load data into Pyomo data structures"
   ]
  },
  {
   "cell_type": "markdown",
   "metadata": {},
   "source": [
    "It is very difficult to read code for complicated models if the same single letter names are used in the code as are used in the model.  Fortunately, the Python community has well-defined naming practices."
   ]
  },
  {
   "cell_type": "markdown",
   "metadata": {},
   "source": [
    "**Python naming conventions**\n",
    "* It is good coding practice to use short, descriptive names for variables\n",
    "* We use the **constants** naming convention for model data (**sets** and **parameters**):  \n",
    "  * UPPER_CASE, with words separated by underscores \n",
    "  * spaces are not allowed in Python names\n",
    "* For more about Python naming conventions, see [PEP 8 naming styles](https://realpython.com/python-pep8/#naming-styles) and this [short video](https://realpython.com/lessons/python-naming-conventions/)"
   ]
  },
  {
   "cell_type": "markdown",
   "metadata": {},
   "source": [
    "We will enter the data for the model line-by-line, running each line as we go.  This will allow us to debug as we go, and make it easy to isolate bugs."
   ]
  },
  {
   "cell_type": "markdown",
   "metadata": {},
   "source": [
    "#### Add Sets\n",
    "* $I := $ set of items that might go into the backpack\n",
    "* $Q := $ set of item qualities that must be restricted"
   ]
  },
  {
   "cell_type": "markdown",
   "metadata": {},
   "source": [
    "**To code sets:**\n",
    "* Use a Python **list** for a model set, because we can iterate over lists\n",
    "    * Use brackets \\[ \\] to indicate a list"
   ]
  },
  {
   "cell_type": "code",
   "execution_count": null,
   "metadata": {},
   "outputs": [],
   "source": [
    "ITEMS = ['rope','matches','tent',\n",
    "         'sleeping_bag','hammock','granola_bar']"
   ]
  },
  {
   "cell_type": "markdown",
   "metadata": {},
   "source": [
    "* We can use the flexibility of Jupyter notebooks to test code snippets to see if our code is behaving as expected.  For example...\n",
    "  * Use `type()` to verify that ITEMS is a list  \n",
    "  * Run `ITEMS` to see the set in memory"
   ]
  },
  {
   "cell_type": "code",
   "execution_count": null,
   "metadata": {},
   "outputs": [],
   "source": [
    "type(ITEMS)"
   ]
  },
  {
   "cell_type": "code",
   "execution_count": null,
   "metadata": {},
   "outputs": [],
   "source": [
    "ITEMS"
   ]
  },
  {
   "cell_type": "markdown",
   "metadata": {},
   "source": [
    "* **To do:** Enter the set Q in the cell below. Use the name QUALITIES, and the names 'weight' and 'volume'."
   ]
  },
  {
   "cell_type": "code",
   "execution_count": null,
   "metadata": {},
   "outputs": [],
   "source": []
  },
  {
   "cell_type": "markdown",
   "metadata": {},
   "source": [
    "#### Add Parameters\n",
    "* $u_{i} := $ usefulness of item $i$, for $i \\in I$\n",
    "* $w_{b} := $ maximum amount of quality $q$ allowed, for $q \\in Q$\n",
    "* $a_{i,q} := $ amount of quality $q$ item $i$ has, for $i \\in I$, $q \\in Q$"
   ]
  },
  {
   "cell_type": "markdown",
   "metadata": {},
   "source": [
    "**To code parameters indexed by one or more sets:**\n",
    "* Use a Python **dictionary**\n",
    "    * Use brackets \\{ \\} to indicate a dictionary\n",
    "    * Each entry is a **key:value** pair\n",
    "    * Keys come from index set(s)\n",
    "      * If there is only one index set, the key is an element of the set\n",
    "      * If there are two or more index sets, the keys are **tuples** (indicated by parentheses)\n",
    "    * The values are the numeric values of the parameter data\n",
    "* Again we use the **constants** naming convention:  \n",
    "    * UPPER_CASE, with words separated by underscores"
   ]
  },
  {
   "cell_type": "code",
   "execution_count": null,
   "metadata": {},
   "outputs": [],
   "source": [
    "USEFULNESS = {'rope':1, 'matches':5, 'tent':7, 'sleeping_bag':6,'hammock':4.5,'granola_bar':8}"
   ]
  },
  {
   "cell_type": "markdown",
   "metadata": {},
   "source": [
    "* **To do:** Enter the $b_q$ parameter values below.  Use the name MAX_AMOUNT.  Remember that this parameter is indexed by qualities, rather than items.  The maximum volume is 5.3 and the maximum weight is 12.5"
   ]
  },
  {
   "cell_type": "code",
   "execution_count": null,
   "metadata": {},
   "outputs": [],
   "source": []
  },
  {
   "cell_type": "markdown",
   "metadata": {},
   "source": [
    "* The $a_{i,q}$ parameter is doubly-indexed over $I$ (ITEMS) AND $Q$ (QUALITIES), so we must use tuples as keys."
   ]
  },
  {
   "cell_type": "code",
   "execution_count": null,
   "metadata": {},
   "outputs": [],
   "source": [
    "AMOUNT = {('rope','volume'):2, ('rope','weight'):3,\n",
    "          ('matches','volume'):0.01, ('matches','weight'):0.1,\n",
    "          ('tent','volume'):3, ('tent','weight'):10,\n",
    "          ('sleeping_bag','volume'):2, ('sleeping_bag','weight'):4,\n",
    "          ('hammock','volume'):0.4, ('hammock','weight'):4,\n",
    "          ('granola_bar','volume'):0.67, ('granola_bar','weight'):2}"
   ]
  },
  {
   "cell_type": "markdown",
   "metadata": {},
   "source": [
    "*Note that the use of descriptive names reduces the need for comments.*"
   ]
  },
  {
   "cell_type": "markdown",
   "metadata": {},
   "source": [
    "## Build a Pyomo model"
   ]
  },
  {
   "cell_type": "markdown",
   "metadata": {},
   "source": [
    "#### Import Pyomo"
   ]
  },
  {
   "cell_type": "markdown",
   "metadata": {},
   "source": [
    "* Import the Pyomo library as follows. (This line of code is often at the top of the file.)\n",
    "* After this import statement, we can use `pyo.` to access objects in the Pyomo library."
   ]
  },
  {
   "cell_type": "code",
   "execution_count": null,
   "metadata": {},
   "outputs": [],
   "source": [
    "import pyomo.environ as pyo"
   ]
  },
  {
   "cell_type": "markdown",
   "metadata": {},
   "source": [
    "* If you got an error on the line of code above, you probably need to install Pyomo by doing the following:  \n",
    "  -  Uncomment the code in the cell below (keep the \"!\") and run the cell.  \n",
    "  -  Then rerun the import statement above. \n",
    "  -  (You can now recomment this cell. You shouldn't have to install pyomo again in any notebook.)"
   ]
  },
  {
   "cell_type": "code",
   "execution_count": null,
   "metadata": {},
   "outputs": [],
   "source": [
    "#!conda install -c conda-forge pyomo"
   ]
  },
  {
   "cell_type": "markdown",
   "metadata": {},
   "source": [
    "#### Instantiate a Pyomo ConcreteModel() object"
   ]
  },
  {
   "cell_type": "code",
   "execution_count": null,
   "metadata": {},
   "outputs": [],
   "source": [
    "model = pyo.ConcreteModel()"
   ]
  },
  {
   "cell_type": "markdown",
   "metadata": {},
   "source": [
    "#### Add decision variables"
   ]
  },
  {
   "cell_type": "markdown",
   "metadata": {},
   "source": [
    "* $x_i := 0/1$ variable that indicates whether or not to pack item $i$, for $i \\in I$"
   ]
  },
  {
   "cell_type": "markdown",
   "metadata": {},
   "source": [
    "* The naming convention for Python **variables** is lower-case letters or words, with words separated by underscores.  \n",
    "    * We could use a word for this variable in the model, but since it is the only variable, I chose to stick with 'x'.\n",
    "    * Another good choice would be 'pack', since the variable indicates whether or not to pack each item\n",
    "* The line below adds the Pyomo variable 'x' to the 'model' that is...\n",
    "  - indexed over ITEMS\n",
    "  - has a Boolean domain (takes only 0/1 values)"
   ]
  },
  {
   "cell_type": "code",
   "execution_count": null,
   "metadata": {},
   "outputs": [],
   "source": [
    "# Add variable x indexed by the list ITEMS\n"
   ]
  },
  {
   "cell_type": "markdown",
   "metadata": {},
   "source": [
    "* Note that we must use `model.` every time we access model components (variables, objective function, constraints)\n",
    "* If we wanted $x \\geq 0$ (rather than $x \\in \\{0,1\\}$) we would use the following code:  \n",
    "  - `model.x = pyo.Var(ITEMS, domain=NonNegativeReals)`."
   ]
  },
  {
   "cell_type": "markdown",
   "metadata": {},
   "source": [
    "* Use the following code to take a look at the current state of the 'model'\n",
    "  -  Notice that the 'x' variables indexed by the set 'ITEMS' are now in the model, along with their the bounds and domain.\n",
    "  - This code is not a necessary part of the model.  This is just a handy tool for making sure the model is coming along as expected."
   ]
  },
  {
   "cell_type": "code",
   "execution_count": null,
   "metadata": {},
   "outputs": [],
   "source": []
  },
  {
   "cell_type": "markdown",
   "metadata": {},
   "source": [
    "#### Add the objective function"
   ]
  },
  {
   "cell_type": "markdown",
   "metadata": {},
   "source": [
    "* Maximize $\\displaystyle z := \\sum_{i \\in I} u_i x_i$"
   ]
  },
  {
   "cell_type": "markdown",
   "metadata": {},
   "source": [
    "* The objective function is added in two steps:\n",
    "  1. Define a small function using the keyword `def` that constructs the algebraic expression\n",
    "  2. Add the constraint to the model object using the small function"
   ]
  },
  {
   "cell_type": "code",
   "execution_count": null,
   "metadata": {},
   "outputs": [],
   "source": [
    "# TODO Add objective function"
   ]
  },
  {
   "cell_type": "markdown",
   "metadata": {},
   "source": [
    "* Carefully compare the `return` statement of the `obj_rule` Python function with the objective function in the IP model\n",
    "  - Notice how the summation over the list of ITEMS is constructed in Python using `sum()`\n",
    "  - **TO ANSWER:**  What is the index variable in the Python code that plays the role of $i$ in the model constraint?"
   ]
  },
  {
   "cell_type": "code",
   "execution_count": null,
   "metadata": {},
   "outputs": [],
   "source": []
  },
  {
   "cell_type": "markdown",
   "metadata": {},
   "source": [
    "* Now focus on the last line above:  `model.obj = pyo.Objective(rule=obj_rule, sense=pyo.maximize)`  \n",
    "  - The `rule` keyword refers to the function to get the expression  \n",
    "  - Notice we use `sense=pyo.maximize`, because we are maximizing the usefulness of the packed items"
   ]
  },
  {
   "cell_type": "markdown",
   "metadata": {},
   "source": [
    "* Use the following code to take a look at the objective function.  Does it look like we expect?"
   ]
  },
  {
   "cell_type": "code",
   "execution_count": null,
   "metadata": {
    "scrolled": true
   },
   "outputs": [],
   "source": [
    "# View the objective function\n",
    "print(model.obj.expr)"
   ]
  },
  {
   "cell_type": "markdown",
   "metadata": {},
   "source": [
    "#### Add constraints"
   ]
  },
  {
   "cell_type": "markdown",
   "metadata": {},
   "source": [
    "(1) $\\displaystyle \\sum_{i \\in I} a_{i,q} x_i \\leq b_q$, for all $q \\in Q$\n",
    "\n",
    "*(Constriant (2) was taken care of when variable $x$ was added to the model)*"
   ]
  },
  {
   "cell_type": "markdown",
   "metadata": {},
   "source": [
    "* The algebraic expression for constraint (1) has a summation over the ITEMS in it\n",
    "  * (We are NOT summing over QUALITIES, instead there is a constraint for each quality (weight and volume))\n",
    "  * Notice that we don't need to use `model.` to access the AMOUNT parameter because it is simply a Python object, not a 'model' component, like the variable 'x'"
   ]
  },
  {
   "cell_type": "code",
   "execution_count": null,
   "metadata": {},
   "outputs": [],
   "source": [
    "# TODO Knapsack constraint function"
   ]
  },
  {
   "cell_type": "markdown",
   "metadata": {},
   "source": [
    "* Now look at the function `vol_rule` above\n",
    "  - 'model' will always be the first parameter in a constraint (or objective) helper function\n",
    "  - other parameters are **constraint index variables**\n",
    "    * Here, there is one constraint for each 'quality' in 'QUALITIES', so 'quality' is the constraint index variable\n",
    "* When we add the constraint to the model (below), 'QUALITIES' is the set the constraint is indexed over (i.e., there is one constraint per 'quality' in 'QUALITIES'"
   ]
  },
  {
   "cell_type": "code",
   "execution_count": null,
   "metadata": {
    "scrolled": true
   },
   "outputs": [],
   "source": [
    "# TODO Add knapsack constraint to the model (using the function above)\n"
   ]
  },
  {
   "cell_type": "markdown",
   "metadata": {},
   "source": [
    "* Study this code for a while to make sure you see the difference between the: \n",
    "  -  **summation** index variable and index set (item, ITEMS) \n",
    "  and the \n",
    "  -  **constraint** index variable and index set (quality, QUALITIES)\n",
    "* ***This is often the trickiest part of modeling with Pyomo***"
   ]
  },
  {
   "cell_type": "markdown",
   "metadata": {},
   "source": [
    "* Use the following code to view the constraints we just added to the model\n",
    "* Recall that the knapsack constraints are indexed by QUALITIES, so we can print them individually..."
   ]
  },
  {
   "cell_type": "code",
   "execution_count": null,
   "metadata": {},
   "outputs": [],
   "source": [
    "print(model.knapsack_constraint['weight'].expr)\n",
    "print(model.knapsack_constraint['volume'].expr)"
   ]
  },
  {
   "cell_type": "markdown",
   "metadata": {},
   "source": [
    "* Or we can iterate over QUALITIES to print them"
   ]
  },
  {
   "cell_type": "code",
   "execution_count": null,
   "metadata": {},
   "outputs": [],
   "source": [
    "for quality in QUALITIES:\n",
    "    print(model.knapsack_constraint[quality].expr)"
   ]
  },
  {
   "cell_type": "markdown",
   "metadata": {},
   "source": [
    "## Solve the model"
   ]
  },
  {
   "cell_type": "markdown",
   "metadata": {},
   "source": [
    "*  *Note about solvers:* We are using the solver **glpk** for this course because it is a free, stand-alone solver that is easy to keep on your computer.  If you use optimization for your capstone project, you may need access to a more powerful solver.  To use a different solver that is installed on your computer, you just need to change 'glpk' to the apporpriate name (such as 'gurobi' or 'cplex')."
   ]
  },
  {
   "cell_type": "markdown",
   "metadata": {},
   "source": [
    "* The following code sends the model to a solver that is installed on your computer \n",
    "  - `solver_result` contains some information from the solver (but not the solution!)"
   ]
  },
  {
   "cell_type": "code",
   "execution_count": null,
   "metadata": {},
   "outputs": [],
   "source": [
    "# solve model and save the result\n",
    "solver_result = pyo.SolverFactory('glpk').solve(model)"
   ]
  },
  {
   "cell_type": "markdown",
   "metadata": {},
   "source": [
    "* We can use `solver_result` to see if the solver found an optimal solution:"
   ]
  },
  {
   "cell_type": "code",
   "execution_count": null,
   "metadata": {},
   "outputs": [],
   "source": [
    "#Check how the solver terminated\n",
    "print(solver_result.solver.termination_condition)"
   ]
  },
  {
   "cell_type": "markdown",
   "metadata": {},
   "source": [
    "* One way to view the optimal solution is to display the model again:"
   ]
  },
  {
   "cell_type": "code",
   "execution_count": null,
   "metadata": {},
   "outputs": [],
   "source": [
    "model.display()"
   ]
  },
  {
   "cell_type": "markdown",
   "metadata": {},
   "source": [
    "* Notice that the variables have values now! \n",
    "* We can see the left-side value of each constraint with these variable values\n",
    "* **To answer:** According to the solution, which items should we pack to maximize usefulness?  \n",
    "(Enter written answers as comments.)"
   ]
  },
  {
   "cell_type": "code",
   "execution_count": null,
   "metadata": {},
   "outputs": [],
   "source": []
  },
  {
   "cell_type": "markdown",
   "metadata": {},
   "source": [
    "* **To answer:** What is the combined usefulness of the packed items?"
   ]
  },
  {
   "cell_type": "code",
   "execution_count": null,
   "metadata": {},
   "outputs": [],
   "source": []
  },
  {
   "cell_type": "markdown",
   "metadata": {},
   "source": [
    "* **To answer:** What is the combined weight and volume of the packed items?"
   ]
  },
  {
   "cell_type": "code",
   "execution_count": null,
   "metadata": {},
   "outputs": [],
   "source": []
  },
  {
   "cell_type": "markdown",
   "metadata": {},
   "source": [
    "## Print the solution "
   ]
  },
  {
   "cell_type": "markdown",
   "metadata": {},
   "source": [
    "* Of course, for bigger models, it is difficult to view the model to find the optimal solution, so it is often a good idea to print the solution.\n",
    "* **Method 1:** Loop over ITEMS and print the item name and the optimal value of the `x[item]`\n",
    "  - To review **f-strings** for printing, see https://realpython.com/python-f-strings"
   ]
  },
  {
   "cell_type": "code",
   "execution_count": null,
   "metadata": {},
   "outputs": [],
   "source": [
    "if solver_result.solver.termination_condition == pyo.TerminationCondition.optimal:\n",
    "    print(f\"The items to pack have combined usefulness rating {model.obj()}\\n\")\n",
    "    for item in ITEMS:\n",
    "        print(f\"x_{item} = {model.x[item].value}\")"
   ]
  },
  {
   "cell_type": "markdown",
   "metadata": {},
   "source": [
    "* **Method 2:** In this method we interpret the solution, rather than just printing it.  \n",
    "  - We print only items that have x-values equal to 1"
   ]
  },
  {
   "cell_type": "code",
   "execution_count": null,
   "metadata": {},
   "outputs": [],
   "source": [
    "if solver_result.solver.termination_condition == pyo.TerminationCondition.optimal:\n",
    "    print(f'The items to pack have combined usefulness rating {model.obj()}\\n')\n",
    "\n",
    "    print(f'Bring the following items:')\n",
    "    for item in ITEMS:\n",
    "        if model.x[item].value == 1:\n",
    "            print(f\"{item}\")"
   ]
  },
  {
   "cell_type": "markdown",
   "metadata": {},
   "source": [
    "* Notice the weirdness in how the objective value is accessed: `model.obj()`, versus the variable values: `model.x[item].value`"
   ]
  },
  {
   "cell_type": "markdown",
   "metadata": {},
   "source": [
    "## Dealing with warnings when re-adding model components"
   ]
  },
  {
   "cell_type": "markdown",
   "metadata": {},
   "source": [
    "**If you rerun code to add a model component,** you will get a warning. \n",
    "* Try rerunning the cell that adds the knapsack_constraint to the model (below).  You should see a warning. "
   ]
  },
  {
   "cell_type": "code",
   "execution_count": null,
   "metadata": {},
   "outputs": [],
   "source": [
    "# Add knapsack constraint to the model (using the function above)\n",
    "model.knapsack_constraint = pyo.Constraint(QUALITIES, rule=knapsack_rule)"
   ]
  },
  {
   "cell_type": "markdown",
   "metadata": {},
   "source": [
    "* Run the code below to delete the constraint.\n",
    "* Run the cell that adds the knapsack_constraint (above) again.  You should see no warning this time."
   ]
  },
  {
   "cell_type": "code",
   "execution_count": null,
   "metadata": {},
   "outputs": [],
   "source": [
    "#This code deletes the knapsack_constraint from the model\n",
    "model.del_component('knapsack_constraint')\n",
    "\n",
    "#If the constraint is indexed, we need this line, too\n",
    "#This line deletes a 'hidden' index that was created behind the scenes\n",
    "model.del_component('knapsack_constraint_index')"
   ]
  },
  {
   "cell_type": "markdown",
   "metadata": {},
   "source": [
    "## Full solution: data, model, solve, print"
   ]
  },
  {
   "cell_type": "markdown",
   "metadata": {},
   "source": [
    "* This is the full code to build and solve the model, with code grouped into cells in a useful way:\n",
    "  - Import Pyomo\n",
    "  - Construct data (sets and parameters)\n",
    "  - Build model (decision variables, objective function, constraints)\n",
    "  - Solve the model\n",
    "  - Print solution\n",
    "* In particular, soon we will define a Python function to build the model\n",
    "* **However, when we build a model for the first time, keep the code separated into different cells.**\n",
    "  - this makes debugging much easier"
   ]
  },
  {
   "cell_type": "code",
   "execution_count": null,
   "metadata": {},
   "outputs": [],
   "source": [
    "#Import pyomo\n",
    "import pyomo.environ as pyo"
   ]
  },
  {
   "cell_type": "code",
   "execution_count": null,
   "metadata": {},
   "outputs": [],
   "source": [
    "#Construct data\n",
    "\n",
    "#Sets\n",
    "ITEMS = ['rope', 'matches', 'tent', 'sleeping_bag',\n",
    "     'hammock','granola_bar']\n",
    "QUALITIES = ['volume', 'weight']\n",
    "\n",
    "#Parameters\n",
    "USEFULNESS = {'rope':1, 'matches':5, 'tent':7, \n",
    "              'sleeping_bag':6, 'hammock':4.5,'granola_bar':8}\n",
    "\n",
    "MAX_AMOUNT = {'volume':5.3, 'weight':12.5}\n",
    "\n",
    "AMOUNT = {('rope','volume'):2, ('rope','weight'):3,\n",
    "          ('matches','volume'):0.01, ('matches','weight'):0.1,\n",
    "          ('tent','volume'):3, ('tent','weight'):10,\n",
    "          ('sleeping_bag','volume'):2, ('sleeping_bag','weight'):4,\n",
    "          ('hammock','volume'):0.4, ('hammock','weight'):4,\n",
    "          ('granola_bar','volume'):0.67, ('granola_bar','weight'):2}"
   ]
  },
  {
   "cell_type": "code",
   "execution_count": null,
   "metadata": {},
   "outputs": [],
   "source": [
    "#Build model\n",
    "model = pyo.ConcreteModel()\n",
    "\n",
    "#Add decision variables\n",
    "model.x = pyo.Var(ITEMS, domain=pyo.Boolean)\n",
    "\n",
    "#Add objective function\n",
    "def obj_rule(model):\n",
    "    return sum(USEFULNESS[item]*model.x[item] for item in ITEMS)\n",
    "model.obj = pyo.Objective(rule=obj_rule, sense=pyo.maximize)\n",
    "\n",
    "#Add knapsack constraint\n",
    "#model.del_component(model.knapsack_constraint)\n",
    "def knapsack_rule(model, quality):\n",
    "    return sum(AMOUNT[item,quality]*model.x[item] for item in ITEMS) <= MAX_AMOUNT[quality]\n",
    "model.knapsack_constraint = pyo.Constraint(QUALITIES, rule=knapsack_rule)"
   ]
  },
  {
   "cell_type": "code",
   "execution_count": null,
   "metadata": {},
   "outputs": [],
   "source": [
    "#Solve model\n",
    "result = pyo.SolverFactory('glpk').solve(model)\n",
    "print(f'The solver returned a status of: {result.solver.termination_condition}')\n",
    "\n",
    "#or...\n",
    "\n",
    "#Solve model, displaying solver output\n",
    "#solver_result = pyo.SolverFactory('glpk').solve(model, tee=True)\n"
   ]
  },
  {
   "cell_type": "code",
   "execution_count": null,
   "metadata": {},
   "outputs": [],
   "source": [
    "#Print solution (if optimal solution was found)\n",
    "if result.solver.termination_condition == pyo.TerminationCondition.optimal:\n",
    "    print(f'Bring these items:')\n",
    "    for item in ITEMS:\n",
    "        if model.x[item] == 1:\n",
    "            print(item)\n",
    "    print(f'\\n')\n",
    "    print(f'Their combined usefulness is {model.obj()}')"
   ]
  },
  {
   "cell_type": "markdown",
   "metadata": {},
   "source": [
    "### Part 3: Try your own model!"
   ]
  },
  {
   "cell_type": "markdown",
   "metadata": {},
   "source": [
    "To manufacture laptops, tablets, and cellphones, Pear needs glass, semiconductors and aluminum. Pear can purchase up to $10,000$ glass plates (at $\\$4$ apiece), $80,000$ semiconductors (at $\\$0.70$ apiece), and $14,000$ aluminum pieces (at $\\$10$ apiece), but has a manufacturing budget of $\\$100,000$.  Manufacturing one laptop requires $5$ glass plates, $100$ semiconductors, and $6$ aluminum pieces. Manufacturing one tablet requires $4$ glass plates, $80$ semiconductors, and $4$ aluminum pieces. Manufacturing one cellphone requires $2$ glass plates, $60$ semiconductors, and $1$ aluminum piece.\n",
    "\n",
    "The table below displays the selling price and the maximum demand for each product.\n",
    "\n",
    "|               | Laptop   | Tablet | Cellphone |\n",
    "|---------------|:--------:|:------:|:---------:|\n",
    "| Selling price |  \\$875  |   \\$686  |    \\$524    |\n",
    "| Max demand    |  500  |  1250  |    800   |\n",
    "\n",
    "Implement the abstract model below in Python using data from the problem to determine a maximum revenue production plan. **Note: We are maximizing revenue not profit, the cost of purchasing glass, semiconductors, and aluminum are treated as a resource constraint!**"
   ]
  },
  {
   "cell_type": "markdown",
   "metadata": {},
   "source": [
    "**Sets:**\n",
    "- $P = $ the set of products manufactured by Pear \n",
    "- $R = $ the set of resources that are required to manufacture these products\n",
    "\n",
    "**Parameters:**\n",
    "- $s_i = $ the selling price of product $i$, for $i \\in P$\n",
    "- $a_{r,i} = $ the number of units of resource $r$ required to produce product $i$, for $r \\in R$ and $p \\in P$\n",
    "- $d_i = $ the maximum demand for product $i$, for $i \\in P$\n",
    "- $m_r = $ the maximum amount of resource $r$ that Pear can purchase, for $r \\in R$\n",
    "- $c_r = $ the cost of one unit of resource $r$, for $r \\in R$\n",
    "- $b = $ resource purchase budget\n",
    "\n",
    "**Decision Variables:**\n",
    "- $x_i = $ the number of product $i$ to produce, for $i \\in P$\n",
    "\n",
    "**Objective**\n",
    "- Maximize revenue. (Revenue **NOT** profit!)\n",
    "\n",
    "**Constraints**\n",
    "1. Do not exceed the amount of resource $r$ that is can be obtained, for $r \\in R$\n",
    "2. Do not exceed the maximum demand of product $i$, for $i \\in P$\n",
    "3. Do not exceed the resource purchase budget\n",
    "4. The number of each product made must be a nonnegative integer (`pyo.NonNegativeIntegers`)."
   ]
  },
  {
   "cell_type": "markdown",
   "metadata": {},
   "source": [
    "Maximize $\\sum_{i \\in P} s_i x_i$\n",
    "\n",
    "Subject to\n",
    "- (1)     $\\displaystyle \\sum_{i \\in P} a_{r,i} x_i \\leq m_r$, for $r \\in R$\n",
    "- (2)  $x_i \\leq d_i$, for $i \\in P$\n",
    "- (3)  $\\displaystyle \\sum_{r \\in R, i \\in P} c_r a_{r,i} x_i \\leq b$\n",
    "- (4)  $x_i \\in \\mathbb{Z}^{\\geq 0}$, for $i \\in P$"
   ]
  },
  {
   "cell_type": "markdown",
   "metadata": {},
   "source": [
    "__1.__ Import pyomo and create your model"
   ]
  },
  {
   "cell_type": "code",
   "execution_count": null,
   "metadata": {},
   "outputs": [],
   "source": []
  },
  {
   "cell_type": "markdown",
   "metadata": {},
   "source": [
    "__2.__ Define your sets, parameters, and decision variables"
   ]
  },
  {
   "cell_type": "code",
   "execution_count": null,
   "metadata": {},
   "outputs": [],
   "source": []
  },
  {
   "cell_type": "markdown",
   "metadata": {},
   "source": [
    "__3.__ Define Objective Function"
   ]
  },
  {
   "cell_type": "code",
   "execution_count": null,
   "metadata": {},
   "outputs": [],
   "source": []
  },
  {
   "cell_type": "markdown",
   "metadata": {},
   "source": [
    "__4.__ Define Constraints"
   ]
  },
  {
   "cell_type": "code",
   "execution_count": null,
   "metadata": {},
   "outputs": [],
   "source": []
  },
  {
   "cell_type": "markdown",
   "metadata": {},
   "source": [
    "__5.__ Solve the model and print the result"
   ]
  },
  {
   "cell_type": "code",
   "execution_count": null,
   "metadata": {},
   "outputs": [],
   "source": []
  }
 ],
 "metadata": {
  "kernelspec": {
   "display_name": "Python 3",
   "language": "python",
   "name": "python3"
  },
  "language_info": {
   "codemirror_mode": {
    "name": "ipython",
    "version": 3
   },
   "file_extension": ".py",
   "mimetype": "text/x-python",
   "name": "python",
   "nbconvert_exporter": "python",
   "pygments_lexer": "ipython3",
   "version": "3.6.9"
  },
  "varInspector": {
   "cols": {
    "lenName": 16,
    "lenType": 16,
    "lenVar": 40
   },
   "kernels_config": {
    "python": {
     "delete_cmd_postfix": "",
     "delete_cmd_prefix": "del ",
     "library": "var_list.py",
     "varRefreshCmd": "print(var_dic_list())"
    },
    "r": {
     "delete_cmd_postfix": ") ",
     "delete_cmd_prefix": "rm(",
     "library": "var_list.r",
     "varRefreshCmd": "cat(var_dic_list()) "
    }
   },
   "position": {
    "height": "203px",
    "left": "1586px",
    "right": "20px",
    "top": "75px",
    "width": "305px"
   },
   "types_to_exclude": [
    "module",
    "function",
    "builtin_function_or_method",
    "instance",
    "_Feature"
   ],
   "window_display": false
  }
 },
 "nbformat": 4,
 "nbformat_minor": 4
}
