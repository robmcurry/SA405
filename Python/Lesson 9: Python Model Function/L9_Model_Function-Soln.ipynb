{
 "cells": [
  {
   "cell_type": "markdown",
   "metadata": {
    "hide_cell": true
   },
   "source": [
    "<h5 class='prehead'>SA405 &middot; Advanced Math Programming &middot; Fall 2021 &middot; \n",
    "\n",
    "<h5 class='lesson'>Lesson 9</h5>\n",
    "\n",
    "<h1 class='lesson_title'>Python Function to Build Parameterized Model</h1>"
   ]
  },
  {
   "cell_type": "markdown",
   "metadata": {},
   "source": [
    "## This lesson..."
   ]
  },
  {
   "cell_type": "markdown",
   "metadata": {},
   "source": [
    "- We separate the model from the data by:\n",
    "  - putting the model into a Python function \n",
    "  - sending the data into the function as arguments to function parameters\n",
    "- This is a method to create an optimization model and modify the parameters/sets without having to recreate the model every time. \n",
    "- We'll implement a max flow model to illustrate this"
   ]
  },
  {
   "cell_type": "markdown",
   "metadata": {},
   "source": [
    "## A max flow model"
   ]
  },
  {
   "cell_type": "markdown",
   "metadata": {},
   "source": [
    "\n",
    "**Sets:**\n",
    "- *$N =$ the set of nodes  (Optional.  This set is never used in the model.*)\n",
    "- $T =$ the set of transshipment nodes ($T \\subseteq N$) (in this case, $T = \\{1,2,3,4\\}$)\n",
    "- $A =$ the set of directed arcs (pipes) $(i,j)$, for some $i,j \\in N$\n",
    "\n",
    "**Parameters:**\n",
    "- $c_{i,j} =$ the capacity of arc $(i,j)$, for all $(i,j) \\in A$\n",
    "\n",
    "**Decision Variables:**\n",
    "- $x_{i,j} =$ the amount of flow through arc $(i,j)$, for all $(i,j) \\in A$\n",
    "\n",
    "**Objective:**\n",
    "Maximize the flow through the network (which is captured by finding the flow out of  node 0)\n",
    "\n",
    "**Constraints:**\n",
    "- (1) Balance of flow through node $n$, for all $n \\in T$\n",
    "- (2) Enforce the capacity of arc $(i,j)$, for all $(i,j) \\in A$\n",
    "- (2) Nonnegative$^*$ flow on all arcs $(i,j) \\in A$"
   ]
  },
  {
   "cell_type": "markdown",
   "metadata": {},
   "source": [
    "Maximize $\\displaystyle F = \\sum_{(i,j)\\in A:i=0} x_{i,j}$\n",
    "\n",
    "Subject to\n",
    "- (1)  $\\displaystyle \\sum_{(i,j)\\in A:i=n} x_{i,j} - \\sum_{(i,j)\\in A:j=n} x_{i,j} = 0$, $~\\forall~ n \\in T$\n",
    "- (2)  $x_{i,j} \\leq c_{i,j}$, $~\\forall~ (i,j) \\in A$\n",
    "- (3)  $x_{i,j} \\geq 0$, $~\\forall~ (i,j) \\in A$  \n",
    "\n",
    "$^*$ Note that we don't need to require integer flows due to the *max flow integrality theorem*. "
   ]
  },
  {
   "cell_type": "code",
   "execution_count": 48,
   "metadata": {},
   "outputs": [],
   "source": [
    "import pyomo.environ as pyo"
   ]
  },
  {
   "cell_type": "markdown",
   "metadata": {},
   "source": [
    "## Let's do it the old way first"
   ]
  },
  {
   "cell_type": "markdown",
   "metadata": {},
   "source": [
    "#### Sets"
   ]
  },
  {
   "cell_type": "code",
   "execution_count": 49,
   "metadata": {},
   "outputs": [],
   "source": [
    "NODES = [0,1,2,3,4]\n",
    "TNODES = [1,2,3,4]\n",
    "EDGES = [(0,1),(0,3),(1,2),(1,4),(2,5),(3,2),(3,4),(4,5)]"
   ]
  },
  {
   "cell_type": "markdown",
   "metadata": {},
   "source": [
    "#### Parameters\n"
   ]
  },
  {
   "cell_type": "code",
   "execution_count": 50,
   "metadata": {},
   "outputs": [],
   "source": [
    "CAPACITY = {(0,1):9,(0,3):8,(1,2):5,(1,4):7,(2,5):10,(3,2):10,(3,4):7,(4,5):12}\n",
    "SOURCE = 0  # This is the source node"
   ]
  },
  {
   "cell_type": "markdown",
   "metadata": {},
   "source": [
    "#### Create the model and Decision Variables"
   ]
  },
  {
   "cell_type": "code",
   "execution_count": 51,
   "metadata": {},
   "outputs": [],
   "source": [
    "model = pyo.ConcreteModel()\n",
    "model.x = pyo.Var(EDGES, domain=pyo.NonNegativeReals)"
   ]
  },
  {
   "cell_type": "markdown",
   "metadata": {},
   "source": [
    "#### Objective Function"
   ]
  },
  {
   "cell_type": "code",
   "execution_count": 52,
   "metadata": {},
   "outputs": [],
   "source": [
    "# Goal: Sum across all x[i,j] such that i == source"
   ]
  },
  {
   "cell_type": "code",
   "execution_count": 53,
   "metadata": {},
   "outputs": [],
   "source": [
    "def obj_rule(model):\n",
    "        return sum(model.x[i,j] for i,j in EDGES if i==SOURCE)\n",
    "model.obj = pyo.Objective(rule=obj_rule, sense = pyo.maximize)"
   ]
  },
  {
   "cell_type": "markdown",
   "metadata": {},
   "source": [
    "#### Constraints"
   ]
  },
  {
   "cell_type": "markdown",
   "metadata": {},
   "source": [
    "##### Capacity"
   ]
  },
  {
   "cell_type": "code",
   "execution_count": 54,
   "metadata": {},
   "outputs": [],
   "source": [
    "def cap_rule (model,i,j):\n",
    "    return model.x[i,j] <= CAPACITY[i,j];\n",
    "model.cap_constr = pyo.Constraint(EDGES, rule=cap_rule)"
   ]
  },
  {
   "cell_type": "markdown",
   "metadata": {},
   "source": [
    "##### Flow Balance"
   ]
  },
  {
   "cell_type": "code",
   "execution_count": 55,
   "metadata": {},
   "outputs": [],
   "source": [
    "def flow_balance_rule(model,node):\n",
    "    return (sum(model.x[i,j] for (i,j) in EDGES if i==node) \n",
    "            == sum(model.x[i,j] for (i,j) in EDGES if j==node))\n",
    "model.flow_balance_constraint = pyo.Constraint(TNODES, rule=flow_balance_rule)"
   ]
  },
  {
   "cell_type": "markdown",
   "metadata": {},
   "source": [
    "#### Solve and Print Solution"
   ]
  },
  {
   "cell_type": "code",
   "execution_count": 56,
   "metadata": {},
   "outputs": [
    {
     "name": "stdout",
     "output_type": "stream",
     "text": [
      "Max flow is 17.0\n",
      "\n",
      "The flow over (0, 1) is 9.0\n",
      "The flow over (0, 3) is 8.0\n",
      "The flow over (1, 2) is 5.0\n",
      "The flow over (1, 4) is 4.0\n",
      "The flow over (2, 5) is 10.0\n",
      "The flow over (3, 2) is 5.0\n",
      "The flow over (3, 4) is 3.0\n",
      "The flow over (4, 5) is 7.0\n"
     ]
    }
   ],
   "source": [
    "solver_result = pyo.SolverFactory('glpk').solve(model)\n",
    "\n",
    "# Check if the model solved to optimality before printing solution\n",
    "solve_status = solver_result.solver.termination_condition\n",
    "if (solve_status=='optimal'):\n",
    "    print(f'Max flow is {model.obj()}\\n')\n",
    "    for (i,j) in EDGES:\n",
    "       print(f'The flow over {(i,j)} is {model.x[i,j].value}')    \n",
    "else:\n",
    "    print(f'The solver status is {solve_status}')"
   ]
  },
  {
   "cell_type": "markdown",
   "metadata": {},
   "source": [
    "## Python function to build parameterized model"
   ]
  },
  {
   "cell_type": "markdown",
   "metadata": {},
   "source": [
    "The idea of the model function is that we seperate the data (i.e., sets and parameters) from the model (i.e., the variables, objective function, and constraints). The model function creates a general LP/IP model which you can then build into your specific problem. In other words, you can think of the model function as creating JUST the parameterized model."
   ]
  },
  {
   "cell_type": "markdown",
   "metadata": {},
   "source": [
    "#### Function parameters\n",
    "\n",
    "- All data is passed into the function via parameters\n",
    "- The IP or LP sets and **parameters** are the **arguments** that are passed into the **parameters** of the Python function that builds the model\n",
    "\n",
    "#### Return statement\n",
    "- The function returns the model.\n",
    "   - **The return statement is an easy line to forget and causes really strange looking errors.**"
   ]
  },
  {
   "cell_type": "code",
   "execution_count": 57,
   "metadata": {},
   "outputs": [],
   "source": [
    "# This is a function to create a max flow model.\n",
    "# Notice the input parameters/arguments. These are the sets/parameters of the parameterized model\n",
    "\n",
    "def max_flow(source, internal_nodes, edges, capacity):\n",
    "    \n",
    "    # Essentially, now I can copy and paste my model from above\n",
    "    model = pyo.ConcreteModel()\n",
    "    model.x = pyo.Var(edges, domain=pyo.NonNegativeReals)\n",
    "    \n",
    "    # Objective function\n",
    "    def obj_rule(model):\n",
    "        return sum(model.x[i,j] for i,j in edges if i==source)\n",
    "    model.obj = pyo.Objective(rule=obj_rule, sense=pyo.maximize)\n",
    "\n",
    "    # Capacity\n",
    "    def cap_rule (model,i,j):\n",
    "        return model.x[i,j] <= capacity[i,j];\n",
    "    model.cap_constr = pyo.Constraint(edges, rule=cap_rule)\n",
    "    \n",
    "    # Balance of flow constraints\n",
    "    def flow_balance_rule(model,node):\n",
    "        return (sum(model.x[i,j] for (i,j) in edges if i==node) \n",
    "                == sum(model.x[i,j] for (i,j) in edges if j==node))\n",
    "    model.flow_balance_constraint = pyo.Constraint(internal_nodes,\n",
    "                                                   rule=flow_balance_rule)\n",
    "    \n",
    "    # DON'T FORGET THE RETURN STATEMENT!!!\n",
    "    return model"
   ]
  },
  {
   "cell_type": "markdown",
   "metadata": {},
   "source": [
    "You can access docstring information about a function using `help(function_name)`:"
   ]
  },
  {
   "cell_type": "code",
   "execution_count": 58,
   "metadata": {},
   "outputs": [
    {
     "name": "stdout",
     "output_type": "stream",
     "text": [
      "Help on function max_flow in module __main__:\n",
      "\n",
      "max_flow(source, internal_nodes, edges, capacity)\n",
      "\n"
     ]
    }
   ],
   "source": [
    "help(max_flow)"
   ]
  },
  {
   "cell_type": "markdown",
   "metadata": {},
   "source": [
    "## The rest of the code"
   ]
  },
  {
   "cell_type": "markdown",
   "metadata": {},
   "source": [
    "#### Passing data to the model function\n",
    "- The parameters that are scoped to the code outside of the `max_flow` function are CAPITALIZED, for clarity\n",
    "- Study the function call to build the model:  `model = max_flow(...)`\n",
    "    - The arguments are assigned to the function parameters via the names of the parameters in the function definition:  `function_parameter=ARGUMENT_FROM_OUTER_CODE`\n",
    "    - Order of arguments doesn't matter since we are using \"Keyword Arguments\", which we can specify by name rather than order.\n",
    "    \n",
    "#### Check for optimality & print\n",
    "- Attempting to print a solution to a model that hasn't solved results in strange errors\n",
    "- Check for \"optimal\" solver status before printing\n",
    "- If status isn't \"optimal\", print status to help you understand what's wrong\n",
    "     - Remember you can use `pyo.SolverFactory('glpk').solve(model, tee=True)` to see the output of the solver while it is running.\n"
   ]
  },
  {
   "cell_type": "code",
   "execution_count": 60,
   "metadata": {},
   "outputs": [
    {
     "name": "stdout",
     "output_type": "stream",
     "text": [
      "Max flow is 17.0\n",
      "\n",
      "The flow over (0, 1) is 9.0\n",
      "The flow over (0, 3) is 8.0\n",
      "The flow over (1, 2) is 5.0\n",
      "The flow over (1, 4) is 4.0\n",
      "The flow over (2, 5) is 10.0\n",
      "The flow over (3, 2) is 5.0\n",
      "The flow over (3, 4) is 3.0\n",
      "The flow over (4, 5) is 7.0\n"
     ]
    }
   ],
   "source": [
    "# using the same sets and parameters I defined above\n",
    "\n",
    "# Call the function to build the model; pass model data as arguments\n",
    "# (when we use function parameter names, order of arguments doesn't matter)\n",
    "# Note that this syntax is a bit different than typical programming language,\n",
    "# we have to specify each argument unlike say C or MATLAB where it's automatically\n",
    "# known.\n",
    "model = max_flow(internal_nodes=TNODES, \n",
    "                 source=SOURCE, \n",
    "                 edges=EDGES, \n",
    "                 capacity=CAPACITY)\n",
    "\n",
    "# solve model\n",
    "solver_result = pyo.SolverFactory('glpk').solve(model)\n",
    "\n",
    "# Check if the model solved to optimality before printing solution\n",
    "solve_status = solver_result.solver.termination_condition\n",
    "if (solve_status=='optimal'):\n",
    "    print(f'Max flow is {model.obj()}\\n')\n",
    "    for (i,j) in EDGES:\n",
    "       print(f'The flow over {(i,j)} is {model.x[i,j].value}')    \n",
    "else:\n",
    "    print(f'The solver status is {solve_status}')"
   ]
  },
  {
   "cell_type": "markdown",
   "metadata": {},
   "source": [
    "## IMPORTANT for debugging\n",
    "- **Build your model cell-by-cell (as usual) before cutting and pasting to make the function**\n",
    "- This makes debugging soooo much easier\n",
    "\n",
    "## Things to check\n",
    "- Does your model function have a return statement?\n",
    "- Are your function parameter names consistent in the function definition and in the function call?"
   ]
  },
  {
   "cell_type": "code",
   "execution_count": null,
   "metadata": {},
   "outputs": [],
   "source": []
  }
 ],
 "metadata": {
  "kernelspec": {
   "display_name": "Python 3",
   "language": "python",
   "name": "python3"
  },
  "language_info": {
   "codemirror_mode": {
    "name": "ipython",
    "version": 3
   },
   "file_extension": ".py",
   "mimetype": "text/x-python",
   "name": "python",
   "nbconvert_exporter": "python",
   "pygments_lexer": "ipython3",
   "version": "3.6.9"
  },
  "varInspector": {
   "cols": {
    "lenName": 16,
    "lenType": 16,
    "lenVar": 40
   },
   "kernels_config": {
    "python": {
     "delete_cmd_postfix": "",
     "delete_cmd_prefix": "del ",
     "library": "var_list.py",
     "varRefreshCmd": "print(var_dic_list())"
    },
    "r": {
     "delete_cmd_postfix": ") ",
     "delete_cmd_prefix": "rm(",
     "library": "var_list.r",
     "varRefreshCmd": "cat(var_dic_list()) "
    }
   },
   "position": {
    "height": "203px",
    "left": "1586px",
    "right": "20px",
    "top": "75px",
    "width": "305px"
   },
   "types_to_exclude": [
    "module",
    "function",
    "builtin_function_or_method",
    "instance",
    "_Feature"
   ],
   "window_display": false
  }
 },
 "nbformat": 4,
 "nbformat_minor": 4
}
