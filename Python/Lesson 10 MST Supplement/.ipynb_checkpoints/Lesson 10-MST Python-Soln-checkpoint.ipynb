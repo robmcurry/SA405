{
 "cells": [
  {
   "cell_type": "markdown",
   "metadata": {
    "hide_cell": true
   },
   "source": [
    "<h5 class='prehead'>SA405 &middot; Advanced Math Programming &middot; Fall 2021 </h5>\n",
    "\n",
    "<h5 class='lesson'>Lesson 10 Supplement: MST</h5>\n",
    "\n"
   ]
  },
  {
   "cell_type": "markdown",
   "metadata": {},
   "source": [
    "## This lesson..."
   ]
  },
  {
   "cell_type": "markdown",
   "metadata": {},
   "source": [
    "1) Implement the MST model from class into python\n",
    "\n",
    "2) Learn how to iteratively add subtour elimination constraints"
   ]
  },
  {
   "cell_type": "markdown",
   "metadata": {},
   "source": [
    "#### Define Sets\n",
    "* $E := $ set of edges\n",
    "* $N := $ set of nodes"
   ]
  },
  {
   "cell_type": "code",
   "execution_count": 1,
   "metadata": {},
   "outputs": [],
   "source": [
    "N = [1,2,3,4,5,6]\n",
    "E = [(1,2),(1,3),(1,4),(1,5),(1,6),(2,3),(2,4),(2,5),(2,6),(3,4),(3,5),(3,6),(4,5),(4,6),(5,6)]"
   ]
  },
  {
   "cell_type": "markdown",
   "metadata": {},
   "source": [
    "#### Add Parameters\n",
    "* $c_{i,j} := $ Cost of edge $i,j$ for all $i,j \\in E$"
   ]
  },
  {
   "cell_type": "code",
   "execution_count": 2,
   "metadata": {},
   "outputs": [],
   "source": [
    "c = {(1,2):25,(1,3):25,(1,4):15,(1,5):10,\n",
    "     (1,6):30,(2,3):10,(2,4):24,\n",
    "     (2,5):20,(2,6):15,(3,4):20,\n",
    "     (3,5):30,(3,6):15,(4,5):15,\n",
    "     (4,6):20,(5,6):20}"
   ]
  },
  {
   "cell_type": "markdown",
   "metadata": {},
   "source": [
    "#### Import Pyomo"
   ]
  },
  {
   "cell_type": "code",
   "execution_count": 3,
   "metadata": {},
   "outputs": [],
   "source": [
    "import pyomo.environ as pyo"
   ]
  },
  {
   "cell_type": "markdown",
   "metadata": {},
   "source": [
    "#### Create a Pyomo ConcreteModel() object"
   ]
  },
  {
   "cell_type": "code",
   "execution_count": 4,
   "metadata": {},
   "outputs": [],
   "source": [
    "model = pyo.ConcreteModel()"
   ]
  },
  {
   "cell_type": "markdown",
   "metadata": {},
   "source": [
    "#### Add decision variables"
   ]
  },
  {
   "cell_type": "markdown",
   "metadata": {},
   "source": [
    "* $x_{i,j} := 0/1$ variable that indicates whether an edge is part of the tree"
   ]
  },
  {
   "cell_type": "code",
   "execution_count": 5,
   "metadata": {},
   "outputs": [],
   "source": [
    "# Add variable x indexed by the list ITEMS\n",
    "model.x = pyo.Var(E, domain=pyo.Boolean)"
   ]
  },
  {
   "cell_type": "markdown",
   "metadata": {},
   "source": [
    "#### Add the objective function"
   ]
  },
  {
   "cell_type": "markdown",
   "metadata": {},
   "source": [
    "* Minimize $\\displaystyle z := \\sum_{i,j \\in E} c_{i,j} x_{i,j}$"
   ]
  },
  {
   "cell_type": "code",
   "execution_count": 6,
   "metadata": {},
   "outputs": [],
   "source": [
    "# Add objective function\n",
    "def obj_rule(model):\n",
    "    return sum(c[i,j]*model.x[i,j] for i,j in E)\n",
    "model.obj = pyo.Objective(rule=obj_rule, sense=pyo.minimize)"
   ]
  },
  {
   "cell_type": "markdown",
   "metadata": {},
   "source": [
    "#### Add constraints"
   ]
  },
  {
   "cell_type": "markdown",
   "metadata": {},
   "source": [
    "(1) $\\displaystyle \\sum_{(i,n) \\in E} x_{i,n} + \\sum_{(n,j) \\in E} x_{n,j} \\geq 1$, for all $n \\in N$\n"
   ]
  },
  {
   "cell_type": "code",
   "execution_count": 7,
   "metadata": {},
   "outputs": [],
   "source": [
    "# Set covering constraint\n",
    "def covering_rule(model, n):\n",
    "    return sum (model.x[i,j] for i,j in E if j ==n)+sum(model.x[i,j] for i,j in E if i == n) >= 1\n",
    "model.covering_constr = pyo.Constraint(N, rule=covering_rule)"
   ]
  },
  {
   "cell_type": "markdown",
   "metadata": {},
   "source": [
    "(1) $\\displaystyle \\sum_{(i,j) \\in E} x_{i,j} = |N|-1$ \n"
   ]
  },
  {
   "cell_type": "code",
   "execution_count": 8,
   "metadata": {},
   "outputs": [],
   "source": [
    "def edges_rule(model):\n",
    "    return sum(model.x[i,j] for i,j in E) == len(N)-1\n",
    "model.edges_constr = pyo.Constraint(rule=edges_rule)"
   ]
  },
  {
   "cell_type": "markdown",
   "metadata": {},
   "source": [
    "#### Solve Model\n"
   ]
  },
  {
   "cell_type": "code",
   "execution_count": 11,
   "metadata": {},
   "outputs": [
    {
     "name": "stdout",
     "output_type": "stream",
     "text": [
      "optimal\n"
     ]
    }
   ],
   "source": [
    "# solve model and save the result\n",
    "solver_result = pyo.SolverFactory('glpk').solve(model)\n",
    "print(solver_result.solver.termination_condition)"
   ]
  },
  {
   "cell_type": "markdown",
   "metadata": {},
   "source": [
    "#### Print the solution "
   ]
  },
  {
   "cell_type": "code",
   "execution_count": 12,
   "metadata": {},
   "outputs": [
    {
     "name": "stdout",
     "output_type": "stream",
     "text": [
      "The cost of the tree is 65.0\n",
      "\n",
      "(1, 5)\n",
      "(2, 3)\n",
      "(2, 6)\n",
      "(3, 6)\n",
      "(4, 5)\n"
     ]
    }
   ],
   "source": [
    "if solver_result.solver.termination_condition == pyo.TerminationCondition.optimal:\n",
    "    print(f\"The cost of the tree is {model.obj()}\\n\")\n",
    "    for i in E:\n",
    "        if model.x[i].value > 0:\n",
    "            print(i)"
   ]
  },
  {
   "cell_type": "markdown",
   "metadata": {},
   "source": [
    "Is this a minimum spanning tree?"
   ]
  },
  {
   "cell_type": "code",
   "execution_count": 13,
   "metadata": {},
   "outputs": [],
   "source": [
    "# To answer\n",
    "\n",
    "# No there is a cycle on nodes 2, 3, and 6"
   ]
  },
  {
   "cell_type": "markdown",
   "metadata": {},
   "source": [
    "If this is **not** a minimum spanning tree add a constraint to remove the cycle from the model and resolve"
   ]
  },
  {
   "cell_type": "code",
   "execution_count": 14,
   "metadata": {},
   "outputs": [],
   "source": [
    "S1 = [2,3,6]\n",
    "def cycle1_rule(model):\n",
    "    return sum (model.x[i,j] for i,j in E if i in S1 if j in S1) <= 2\n",
    "model.cycle1_constr = pyo.Constraint(rule=cycle1_rule)"
   ]
  },
  {
   "cell_type": "code",
   "execution_count": 16,
   "metadata": {},
   "outputs": [
    {
     "name": "stdout",
     "output_type": "stream",
     "text": [
      "optimal\n"
     ]
    }
   ],
   "source": [
    "solver_result = pyo.SolverFactory('glpk').solve(model)\n",
    "print(solver_result.solver.termination_condition)"
   ]
  },
  {
   "cell_type": "code",
   "execution_count": 17,
   "metadata": {},
   "outputs": [
    {
     "name": "stdout",
     "output_type": "stream",
     "text": [
      "The cost of the tree is 65.0\n",
      "\n",
      "(1, 4)\n",
      "(1, 5)\n",
      "(2, 3)\n",
      "(2, 6)\n",
      "(4, 5)\n"
     ]
    }
   ],
   "source": [
    "if solver_result.solver.termination_condition == pyo.TerminationCondition.optimal:\n",
    "    print(f\"The cost of the tree is {model.obj()}\\n\")\n",
    "    for i in E:\n",
    "        if model.x[i].value > 0:\n",
    "            print(i)"
   ]
  },
  {
   "cell_type": "markdown",
   "metadata": {},
   "source": [
    "Is this a minimum spanning tree?"
   ]
  },
  {
   "cell_type": "code",
   "execution_count": null,
   "metadata": {},
   "outputs": [],
   "source": [
    "# To answer\n",
    "\n",
    "# No, nodes 1, 4, and 5 form a cycle"
   ]
  },
  {
   "cell_type": "markdown",
   "metadata": {},
   "source": [
    "If this is **not** a minimum spanning tree add a constraint to remove the cycle from the model and resolve"
   ]
  },
  {
   "cell_type": "code",
   "execution_count": 18,
   "metadata": {},
   "outputs": [],
   "source": [
    "S2 = [1,4,5]\n",
    "def cycle2_rule(model):\n",
    "    return sum (model.x[i,j] for i,j in E if i in S2 if j in S2) <= 2\n",
    "model.cycle2_constr = pyo.Constraint(rule=cycle2_rule)"
   ]
  },
  {
   "cell_type": "code",
   "execution_count": 20,
   "metadata": {},
   "outputs": [
    {
     "name": "stdout",
     "output_type": "stream",
     "text": [
      "optimal\n"
     ]
    }
   ],
   "source": [
    "solver_result = pyo.SolverFactory('glpk').solve(model)\n",
    "print(solver_result.solver.termination_condition)"
   ]
  },
  {
   "cell_type": "code",
   "execution_count": 21,
   "metadata": {},
   "outputs": [
    {
     "name": "stdout",
     "output_type": "stream",
     "text": [
      "The cost of the tree is 70.0\n",
      "\n",
      "(1, 5)\n",
      "(2, 3)\n",
      "(2, 6)\n",
      "(3, 4)\n",
      "(4, 5)\n"
     ]
    }
   ],
   "source": [
    "if solver_result.solver.termination_condition == pyo.TerminationCondition.optimal:\n",
    "    print(f\"The cost of the tree is {model.obj()}\\n\")\n",
    "    for i in E:\n",
    "        if model.x[i].value > 0:\n",
    "            print(i)"
   ]
  },
  {
   "cell_type": "markdown",
   "metadata": {},
   "source": [
    "Is this a minimum spanning tree?"
   ]
  },
  {
   "cell_type": "code",
   "execution_count": null,
   "metadata": {},
   "outputs": [],
   "source": [
    "# To answer\n",
    "\n",
    "# Yes!"
   ]
  }
 ],
 "metadata": {
  "kernelspec": {
   "display_name": "Python 3",
   "language": "python",
   "name": "python3"
  },
  "language_info": {
   "codemirror_mode": {
    "name": "ipython",
    "version": 3
   },
   "file_extension": ".py",
   "mimetype": "text/x-python",
   "name": "python",
   "nbconvert_exporter": "python",
   "pygments_lexer": "ipython3",
   "version": "3.6.9"
  },
  "varInspector": {
   "cols": {
    "lenName": 16,
    "lenType": 16,
    "lenVar": 40
   },
   "kernels_config": {
    "python": {
     "delete_cmd_postfix": "",
     "delete_cmd_prefix": "del ",
     "library": "var_list.py",
     "varRefreshCmd": "print(var_dic_list())"
    },
    "r": {
     "delete_cmd_postfix": ") ",
     "delete_cmd_prefix": "rm(",
     "library": "var_list.r",
     "varRefreshCmd": "cat(var_dic_list()) "
    }
   },
   "position": {
    "height": "203px",
    "left": "1586px",
    "right": "20px",
    "top": "75px",
    "width": "305px"
   },
   "types_to_exclude": [
    "module",
    "function",
    "builtin_function_or_method",
    "instance",
    "_Feature"
   ],
   "window_display": false
  }
 },
 "nbformat": 4,
 "nbformat_minor": 4
}
